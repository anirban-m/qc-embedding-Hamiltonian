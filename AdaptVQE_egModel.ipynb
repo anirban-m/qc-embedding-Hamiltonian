{
 "cells": [
  {
   "cell_type": "code",
   "execution_count": 2,
   "metadata": {},
   "outputs": [],
   "source": [
    "import numpy\n",
    "import time\n",
    "from tqdm import tqdm\n",
    "import ipyparallel as ipp\n",
    "from scipy import stats\n",
    "\n",
    "from qiskit_nature.operators.second_quantization import FermionicOp\n",
    "from qiskit_nature.problems.second_quantization.electronic.builders import fermionic_op_builder\n",
    "from qiskit_nature.mappers.second_quantization import JordanWignerMapper\n",
    "#from qiskit_nature.converters.second_quantization import QubitConverter\n",
    "from qiskit.opflow import I,X,Y,Z,StateFn,AbelianGrouper\n",
    "from qiskit.chemistry import FermionicOperator\n",
    "from qiskit.providers.aer import AerSimulator\n",
    "from qiskit.aqua.operators.legacy import op_converter\n",
    "from openfermion.circuits import slater_determinant_preparation_circuit\n",
    "from qiskit.quantum_info import Pauli\n",
    "from qiskit import QuantumCircuit,execute,QuantumRegister,ClassicalRegister\n",
    "from qiskit import Aer\n",
    "from openfermion.linalg import givens_decomposition_square as givensRotns\n",
    "from qiskit.opflow.primitive_ops import PauliSumOp\n",
    "from qiskit.utils import QuantumInstance\n",
    "from qiskit.opflow import PauliExpectation, CircuitSampler, CircuitStateFn \n",
    "import scipy\n",
    "from joblib import Parallel, delayed, Memory\n",
    "from qiskit.aqua.operators import WeightedPauliOperator\n",
    "from qiskit.compiler import transpile\n",
    "from qiskit.circuit.random import random_circuit\n",
    "from qiskit.chemistry.components.variational_forms import UCCSD"
   ]
  },
  {
   "cell_type": "code",
   "execution_count": 4,
   "metadata": {},
   "outputs": [],
   "source": [
    "import warnings\n",
    "warnings. filterwarnings('ignore')"
   ]
  },
  {
   "cell_type": "code",
   "execution_count": 2,
   "metadata": {},
   "outputs": [
    {
     "ename": "NameError",
     "evalue": "name 'ipp' is not defined",
     "output_type": "error",
     "traceback": [
      "\u001b[0;31m---------------------------------------------------------------------------\u001b[0m",
      "\u001b[0;31mNameError\u001b[0m                                 Traceback (most recent call last)",
      "\u001b[0;32m<ipython-input-2-39833cd9bdc8>\u001b[0m in \u001b[0;36m<module>\u001b[0;34m\u001b[0m\n\u001b[0;32m----> 1\u001b[0;31m \u001b[0mc\u001b[0m \u001b[0;34m=\u001b[0m\u001b[0mipp\u001b[0m\u001b[0;34m.\u001b[0m\u001b[0mClient\u001b[0m\u001b[0;34m(\u001b[0m\u001b[0;34m)\u001b[0m\u001b[0;34m\u001b[0m\u001b[0;34m\u001b[0m\u001b[0m\n\u001b[0m\u001b[1;32m      2\u001b[0m \u001b[0mnum_qubits\u001b[0m\u001b[0;34m=\u001b[0m\u001b[0;36m8\u001b[0m\u001b[0;34m\u001b[0m\u001b[0;34m\u001b[0m\u001b[0m\n",
      "\u001b[0;31mNameError\u001b[0m: name 'ipp' is not defined"
     ]
    }
   ],
   "source": [
    "c =ipp.Client()\n",
    "num_qubits=8"
   ]
  },
  {
   "cell_type": "code",
   "execution_count": 7,
   "metadata": {},
   "outputs": [],
   "source": [
    "def qubitOp(h1,h2):\n",
    "    qubit_op=FermionicOperator(h1,h2).mapping('jordan_wigner')\n",
    "    return qubit_op"
   ]
  },
  {
   "cell_type": "code",
   "execution_count": 8,
   "metadata": {},
   "outputs": [],
   "source": [
    "def egBandHamiltonian(U):\n",
    "    #Getting chemical Potential for Half-Filling\n",
    "    with open('../chem_pot_for_Half_Fill.txt','r') as f:\n",
    "        lines=f.readlines()[1:]\n",
    "        for line in lines:\n",
    "            elems=line.split()\n",
    "            if int(elems[0])==U:\n",
    "                muHalf=float(elems[1]) #Chem Pot for a given Hubbard U\n",
    "    #Getting the one body and two body interaction vertexes\n",
    "    with open('../'+str(U)+'/v1e.dat','r') as f:\n",
    "            lines=f.readlines()[1:]\n",
    "            num_sites=4\n",
    "            chem_pot=numpy.zeros((2*num_sites,2*num_sites))\n",
    "            eg_h1=numpy.zeros((2*num_sites,2*num_sites))\n",
    "            for line in lines:\n",
    "                elems=line.split()\n",
    "                eg_h1[int(elems[0])][int(elems[1])]=float(elems[2])\n",
    "                eg_h1[int(elems[0])+num_sites][int(elems[1])+num_sites]=float(elems[2])\n",
    "            for i in range(2*num_sites):\n",
    "                chem_pot[i][i]=-muHalf\n",
    "            eg_h1=eg_h1+chem_pot       \n",
    "    with open('../'+str(U)+'/v2e.dat','r') as f:\n",
    "        num_sites=4\n",
    "        eg_h2=numpy.zeros((2*num_sites,2*num_sites,2*num_sites,2*num_sites))\n",
    "        for line in f:\n",
    "            if \"#\" in line:\n",
    "                continue\n",
    "            line = line.split()\n",
    "            i,j,k,l = map(int, line[:4])\n",
    "            val = float(line[4])\n",
    "            eg_h2[i,j,k,l] = eg_h2[i+num_sites,j+num_sites,k,l] = eg_h2[i,j,k+num_sites,l+num_sites] \\\n",
    "            = eg_h2[i+num_sites,j+num_sites,k+num_sites,l+num_sites] = 0.5*val  # convention with 0.5 factor included.\n",
    "    qubitH=qubitOp(eg_h1,eg_h2)\n",
    "    Hmat=op_converter.to_matrix_operator(qubitH).dense_matrix\n",
    "    w,v=numpy.linalg.eigh(Hmat)\n",
    "    Eg=w[0]\n",
    "    state_g=v[:,0]\n",
    "    return qubitH,Hmat,Eg,state_g"
   ]
  },
  {
   "cell_type": "code",
   "execution_count": 9,
   "metadata": {},
   "outputs": [],
   "source": [
    "%run Utils.ipynb\n",
    "%run optimizers.ipynb\n",
    "%run EstimateHamiltonianMean.ipynb"
   ]
  },
  {
   "cell_type": "code",
   "execution_count": 10,
   "metadata": {},
   "outputs": [],
   "source": [
    "U=7\n",
    "qubitH,Hmat,Eg,state_g=egBandHamiltonian(U)"
   ]
  },
  {
   "cell_type": "code",
   "execution_count": 1,
   "metadata": {},
   "outputs": [
    {
     "ename": "NameError",
     "evalue": "name 'egBandHamiltonianPartition' is not defined",
     "output_type": "error",
     "traceback": [
      "\u001b[0;31m---------------------------------------------------------------------------\u001b[0m",
      "\u001b[0;31mNameError\u001b[0m                                 Traceback (most recent call last)",
      "\u001b[0;32m<ipython-input-1-faffe058f0c2>\u001b[0m in \u001b[0;36m<module>\u001b[0;34m\u001b[0m\n\u001b[1;32m      1\u001b[0m \u001b[0;31m#Hamiltonian grouping for circuit based measurement\u001b[0m\u001b[0;34m\u001b[0m\u001b[0;34m\u001b[0m\u001b[0;34m\u001b[0m\u001b[0m\n\u001b[0;32m----> 2\u001b[0;31m \u001b[0meg_h1_0\u001b[0m\u001b[0;34m,\u001b[0m\u001b[0meg_h1_1\u001b[0m\u001b[0;34m,\u001b[0m\u001b[0meg_h2_0\u001b[0m\u001b[0;34m,\u001b[0m\u001b[0meg_h2_1\u001b[0m\u001b[0;34m=\u001b[0m\u001b[0megBandHamiltonianPartition\u001b[0m\u001b[0;34m(\u001b[0m\u001b[0mU\u001b[0m\u001b[0;34m)\u001b[0m\u001b[0;34m\u001b[0m\u001b[0;34m\u001b[0m\u001b[0m\n\u001b[0m\u001b[1;32m      3\u001b[0m \u001b[0mqubitH_0\u001b[0m\u001b[0;34m,\u001b[0m\u001b[0mqubitH_1\u001b[0m\u001b[0;34m,\u001b[0m\u001b[0mqubitH_2\u001b[0m\u001b[0;34m=\u001b[0m\u001b[0mqubitHamiltonianGroups\u001b[0m\u001b[0;34m(\u001b[0m\u001b[0mU\u001b[0m\u001b[0;34m)\u001b[0m\u001b[0;34m\u001b[0m\u001b[0;34m\u001b[0m\u001b[0m\n\u001b[1;32m      4\u001b[0m \u001b[0mopArr\u001b[0m\u001b[0;34m=\u001b[0m\u001b[0;34m[\u001b[0m\u001b[0mqubitH_0\u001b[0m\u001b[0;34m,\u001b[0m\u001b[0mqubitH_1\u001b[0m\u001b[0;34m,\u001b[0m\u001b[0mqubitH_2\u001b[0m\u001b[0;34m]\u001b[0m\u001b[0;34m\u001b[0m\u001b[0;34m\u001b[0m\u001b[0m\n\u001b[1;32m      5\u001b[0m \u001b[0;31m#two body off diags\u001b[0m\u001b[0;34m\u001b[0m\u001b[0;34m\u001b[0m\u001b[0;34m\u001b[0m\u001b[0m\n",
      "\u001b[0;31mNameError\u001b[0m: name 'egBandHamiltonianPartition' is not defined"
     ]
    }
   ],
   "source": [
    "#Hamiltonian grouping for circuit based measurement\n",
    "eg_h1_0,eg_h1_1,eg_h2_0,eg_h2_1=egBandHamiltonianPartition(U)\n",
    "qubitH_0,qubitH_1,qubitH_2=qubitHamiltonianGroups(U)\n",
    "opArr=[qubitH_0,qubitH_1,qubitH_2]\n",
    "#two body off diags\n",
    "circ0_1gate,rotH2body=OffDiag2BodyTerms(opArr[2])\n",
    "#one body off diags\n",
    "circ0_8gate,rotH1body=OffDiag1BodyTerms(opArr[0])\n",
    "Ops=[rotH1body,opArr[1],rotH2body]"
   ]
  },
  {
   "cell_type": "code",
   "execution_count": 12,
   "metadata": {},
   "outputs": [],
   "source": [
    "#Control Hamiltonian at lower U value\n",
    "eg_h1_0,eg_h1_1,eg_h2_0,eg_h2_1=egBandHamiltonianPartition(U-3)\n",
    "qubitH_0,qubitH_1,qubitH_2=qubitHamiltonianGroups(U-3)\n",
    "opArr=[qubitH_0,qubitH_1,qubitH_2]\n",
    "#two body off diags\n",
    "circ0_1gate_ctrl,rotH2body=OffDiag2BodyTerms(opArr[2])\n",
    "#one body off diags\n",
    "circ0_8gate_ctrl,rotH1body=OffDiag1BodyTerms(opArr[0])\n",
    "Ops_ctrl=[rotH1body,opArr[1],rotH2body]"
   ]
  },
  {
   "cell_type": "code",
   "execution_count": 13,
   "metadata": {},
   "outputs": [],
   "source": [
    "#commutator pools\n",
    "commutator_pool,commutator_pool_2=commutatorPool(qubitH)"
   ]
  },
  {
   "cell_type": "code",
   "execution_count": 14,
   "metadata": {},
   "outputs": [
    {
     "name": "stdout",
     "output_type": "stream",
     "text": [
      "Final Hartree Fock Energy -18.788335371650774\n"
     ]
    }
   ],
   "source": [
    "U=7\n",
    "backend=Aer.get_backend('statevector_simulator')\n",
    "HFcirc,HFstate=HF_init_state(U)\n",
    "var_form_base=UCCSD(8,num_particles=4, initial_state=HFcirc,qubit_mapping='jordan_wigner',two_qubit_reduction=False)\n",
    "var_form_base.manage_hopping_operators()"
   ]
  },
  {
   "cell_type": "code",
   "execution_count": null,
   "metadata": {},
   "outputs": [],
   "source": []
  },
  {
   "cell_type": "code",
   "execution_count": 37,
   "metadata": {},
   "outputs": [],
   "source": [
    "for i in range(len(ExcOps)):\n",
    "    var_form_base.push_hopping_operator(WeightedPauliOperator([[1j,Pauli.from_label(ExcOps[i])]]))"
   ]
  },
  {
   "cell_type": "code",
   "execution_count": 16,
   "metadata": {},
   "outputs": [],
   "source": [
    "runs=120\n",
    "tol=5e-6\n",
    "qr=QuantumRegister(8,'q')"
   ]
  },
  {
   "cell_type": "code",
   "execution_count": 39,
   "metadata": {},
   "outputs": [
    {
     "name": "stderr",
     "output_type": "stream",
     "text": [
      "[Parallel(n_jobs=7)]: Using backend LokyBackend with 7 concurrent workers.\n",
      "[Parallel(n_jobs=7)]: Done  27 tasks      | elapsed:   44.5s\n"
     ]
    },
    {
     "name": "stdout",
     "output_type": "stream",
     "text": [
      "max. gradient 0.22576366559004002\n",
      "excitationOp IIXYIIXX\n"
     ]
    },
    {
     "name": "stderr",
     "output_type": "stream",
     "text": [
      "[Parallel(n_jobs=7)]: Done  56 out of  56 | elapsed:   44.8s finished\n"
     ]
    },
    {
     "name": "stdout",
     "output_type": "stream",
     "text": [
      "index 0\n",
      "updated energy -19.154552229039176 learning rate [0.99659413+0.j 0.47029897+0.j 0.45183394+0.j 0.86246082+0.j\n",
      " 0.47974966+0.j 0.74435477+0.j 0.64643775+0.j 0.57159255+0.j\n",
      " 0.55276399+0.j 0.49539083+0.j 0.95122356+0.j 0.61988805+0.j\n",
      " 0.31241228+0.j 0.25782368+0.j 0.15121384+0.j]\n",
      "error 0.7516566981132087\n",
      "index 1\n",
      "updated energy -19.155262192597526 learning rate [0.9938273 +0.j 0.55883132+0.j 0.16679272+0.j 0.43671846+0.j\n",
      " 0.37886232+0.j 0.13090269+0.j 0.37429572+0.j 0.21289793+0.j\n",
      " 0.58051849+0.j 0.28721481+0.j 0.29644924+0.j 0.15366491+0.j\n",
      " 0.45055845+0.j 0.23641303+0.j 0.1894349 +0.j]\n",
      "error 0.563920014474494\n",
      "index 2\n",
      "updated energy -19.146473018696707 learning rate [0.86046842+0.j 0.61463919+0.j 0.1624028 +0.j 0.52612963+0.j\n",
      " 0.48532564+0.j 0.18895372+0.j 0.12473528+0.j 0.28503951+0.j\n",
      " 0.24107772+0.j 0.25818063+0.j 0.31569198+0.j 0.20843747+0.j\n",
      " 0.18339322+0.j 0.15019936+0.j 0.22052842+0.j]\n",
      "error 0.4251373043310753\n",
      "index 3\n",
      "updated energy -19.14293097558957 learning rate [0.83471728+0.j 0.64544185+0.j 0.19338877+0.j 0.59187358+0.j\n",
      " 0.10789218+0.j 0.13004116+0.j 0.08381879+0.j 0.17411545+0.j\n",
      " 0.13589676+0.j 0.26238715+0.j 0.36602885+0.j 0.22720556+0.j\n",
      " 0.06463365+0.j 0.13352601+0.j 0.16352583+0.j]\n",
      "error 0.3197384890250903\n",
      "index 4\n"
     ]
    },
    {
     "ename": "KeyboardInterrupt",
     "evalue": "",
     "output_type": "error",
     "traceback": [
      "\u001b[0;31m---------------------------------------------------------------------------\u001b[0m",
      "\u001b[0;31mKeyboardInterrupt\u001b[0m                         Traceback (most recent call last)",
      "\u001b[0;32m<ipython-input-39-2ebf9238194c>\u001b[0m in \u001b[0;36m<module>\u001b[0;34m\u001b[0m\n\u001b[1;32m     20\u001b[0m     \u001b[0;31m#construct circuit for estimating Hamiltonian\u001b[0m\u001b[0;34m\u001b[0m\u001b[0;34m\u001b[0m\u001b[0;34m\u001b[0m\u001b[0m\n\u001b[1;32m     21\u001b[0m     \u001b[0mcirc\u001b[0m\u001b[0;34m=\u001b[0m\u001b[0mvar_form_base\u001b[0m\u001b[0;34m.\u001b[0m\u001b[0mconstruct_circuit\u001b[0m\u001b[0;34m(\u001b[0m\u001b[0mparameters\u001b[0m\u001b[0;34m=\u001b[0m\u001b[0mparams\u001b[0m\u001b[0;34m)\u001b[0m\u001b[0;34m\u001b[0m\u001b[0;34m\u001b[0m\u001b[0m\n\u001b[0;32m---> 22\u001b[0;31m     \u001b[0mparams\u001b[0m\u001b[0;34m,\u001b[0m\u001b[0mE\u001b[0m\u001b[0;34m=\u001b[0m\u001b[0mAdaDelta_qasm\u001b[0m\u001b[0;34m(\u001b[0m\u001b[0mHamiltonianEstmFrugal\u001b[0m\u001b[0;34m,\u001b[0m\u001b[0mparams\u001b[0m\u001b[0;34m,\u001b[0m\u001b[0mnum_shots_arr\u001b[0m\u001b[0;34m=\u001b[0m\u001b[0mnum_shots_arr\u001b[0m\u001b[0;34m,\u001b[0m\u001b[0mruns\u001b[0m\u001b[0;34m=\u001b[0m\u001b[0mruns\u001b[0m\u001b[0;34m,\u001b[0m\u001b[0mtol\u001b[0m\u001b[0;34m=\u001b[0m\u001b[0mtol\u001b[0m\u001b[0;34m,\u001b[0m\u001b[0msave_opt_steps\u001b[0m\u001b[0;34m=\u001b[0m\u001b[0;32mTrue\u001b[0m\u001b[0;34m)\u001b[0m\u001b[0;34m\u001b[0m\u001b[0;34m\u001b[0m\u001b[0m\n\u001b[0m\u001b[1;32m     23\u001b[0m \u001b[0;31m#    params,E=AdaDelta_sv(Energy,params,runs=runs,tol=tol,save_opt_steps=True)\u001b[0m\u001b[0;34m\u001b[0m\u001b[0;34m\u001b[0m\u001b[0;34m\u001b[0m\u001b[0m\n\u001b[1;32m     24\u001b[0m \u001b[0;31m#    params,E=SMO_qasm(HamiltonianEstmFrugal,params,runs=runs,tol=tol,save_opt_steps=True)\u001b[0m\u001b[0;34m\u001b[0m\u001b[0;34m\u001b[0m\u001b[0;34m\u001b[0m\u001b[0m\n",
      "\u001b[0;32m<ipython-input-29-1ee68bc4f3de>\u001b[0m in \u001b[0;36mAdaDelta_qasm\u001b[0;34m(cost, params, runs, tol, num_shots_arr, save_opt_steps)\u001b[0m\n\u001b[1;32m     36\u001b[0m     \u001b[0;32mwhile\u001b[0m \u001b[0;34m(\u001b[0m\u001b[0;34m(\u001b[0m\u001b[0mind\u001b[0m\u001b[0;34m<\u001b[0m\u001b[0mruns\u001b[0m\u001b[0;34m)\u001b[0m  \u001b[0;32mand\u001b[0m \u001b[0;34m(\u001b[0m\u001b[0mconv_err\u001b[0m\u001b[0;34m>\u001b[0m\u001b[0mtol\u001b[0m\u001b[0;34m)\u001b[0m\u001b[0;34m)\u001b[0m\u001b[0;34m:\u001b[0m\u001b[0;34m\u001b[0m\u001b[0;34m\u001b[0m\u001b[0m\n\u001b[1;32m     37\u001b[0m         \u001b[0mprint\u001b[0m\u001b[0;34m(\u001b[0m\u001b[0;34m\"index\"\u001b[0m\u001b[0;34m,\u001b[0m\u001b[0mind\u001b[0m\u001b[0;34m)\u001b[0m\u001b[0;34m\u001b[0m\u001b[0;34m\u001b[0m\u001b[0m\n\u001b[0;32m---> 38\u001b[0;31m         \u001b[0mg_stoch\u001b[0m\u001b[0;34m=\u001b[0m\u001b[0mStochGrad\u001b[0m\u001b[0;34m(\u001b[0m\u001b[0mcost\u001b[0m\u001b[0;34m,\u001b[0m\u001b[0mparams\u001b[0m\u001b[0;34m,\u001b[0m\u001b[0mdirections\u001b[0m\u001b[0;34m,\u001b[0m\u001b[0mnum_shots_arr\u001b[0m\u001b[0;34m)\u001b[0m\u001b[0;34m\u001b[0m\u001b[0;34m\u001b[0m\u001b[0m\n\u001b[0m\u001b[1;32m     39\u001b[0m         \u001b[0mv\u001b[0m \u001b[0;34m=\u001b[0m \u001b[0mbeta\u001b[0m\u001b[0;34m*\u001b[0m\u001b[0mv\u001b[0m\u001b[0;34m+\u001b[0m\u001b[0;34m(\u001b[0m\u001b[0;36m1\u001b[0m\u001b[0;34m-\u001b[0m\u001b[0mbeta\u001b[0m\u001b[0;34m)\u001b[0m\u001b[0;34m*\u001b[0m\u001b[0mg_stoch\u001b[0m\u001b[0;34m*\u001b[0m\u001b[0mg_stoch\u001b[0m\u001b[0;34m\u001b[0m\u001b[0;34m\u001b[0m\u001b[0m\n\u001b[1;32m     40\u001b[0m         \u001b[0mlr\u001b[0m\u001b[0;34m=\u001b[0m\u001b[0mnumpy\u001b[0m\u001b[0;34m.\u001b[0m\u001b[0msqrt\u001b[0m\u001b[0;34m(\u001b[0m\u001b[0mdelta\u001b[0m\u001b[0;34m+\u001b[0m\u001b[0meps\u001b[0m\u001b[0;34m)\u001b[0m\u001b[0;34m/\u001b[0m\u001b[0mnumpy\u001b[0m\u001b[0;34m.\u001b[0m\u001b[0msqrt\u001b[0m\u001b[0;34m(\u001b[0m\u001b[0mv\u001b[0m\u001b[0;34m+\u001b[0m\u001b[0meps\u001b[0m\u001b[0;34m)\u001b[0m  \u001b[0;31m#learning rate\u001b[0m\u001b[0;34m\u001b[0m\u001b[0;34m\u001b[0m\u001b[0m\n",
      "\u001b[0;32m<ipython-input-29-1ee68bc4f3de>\u001b[0m in \u001b[0;36mStochGrad\u001b[0;34m(cost, params, directions, num_shots_arr)\u001b[0m\n\u001b[1;32m     31\u001b[0m         \u001b[0mestm1Arr\u001b[0m\u001b[0;34m=\u001b[0m\u001b[0mmap\u001b[0m\u001b[0;34m(\u001b[0m\u001b[0mcost\u001b[0m\u001b[0;34m,\u001b[0m\u001b[0mshiftedParams1\u001b[0m\u001b[0;34m)\u001b[0m\u001b[0;34m\u001b[0m\u001b[0;34m\u001b[0m\u001b[0m\n\u001b[1;32m     32\u001b[0m         \u001b[0mestm2Arr\u001b[0m\u001b[0;34m=\u001b[0m\u001b[0mmap\u001b[0m\u001b[0;34m(\u001b[0m\u001b[0mcost\u001b[0m\u001b[0;34m,\u001b[0m\u001b[0mshiftedParams2\u001b[0m\u001b[0;34m)\u001b[0m\u001b[0;34m\u001b[0m\u001b[0;34m\u001b[0m\u001b[0m\n\u001b[0;32m---> 33\u001b[0;31m         \u001b[0mstochGrads\u001b[0m\u001b[0;34m=\u001b[0m\u001b[0;36m0.5\u001b[0m\u001b[0;34m*\u001b[0m\u001b[0;34m(\u001b[0m\u001b[0mnumpy\u001b[0m\u001b[0;34m.\u001b[0m\u001b[0marray\u001b[0m\u001b[0;34m(\u001b[0m\u001b[0mlist\u001b[0m\u001b[0;34m(\u001b[0m\u001b[0mestm1Arr\u001b[0m\u001b[0;34m)\u001b[0m\u001b[0;34m)\u001b[0m\u001b[0;34m-\u001b[0m\u001b[0mnumpy\u001b[0m\u001b[0;34m.\u001b[0m\u001b[0marray\u001b[0m\u001b[0;34m(\u001b[0m\u001b[0mlist\u001b[0m\u001b[0;34m(\u001b[0m\u001b[0mestm2Arr\u001b[0m\u001b[0;34m)\u001b[0m\u001b[0;34m)\u001b[0m\u001b[0;34m)\u001b[0m\u001b[0;34m\u001b[0m\u001b[0;34m\u001b[0m\u001b[0m\n\u001b[0m\u001b[1;32m     34\u001b[0m         \u001b[0;32mreturn\u001b[0m \u001b[0mstochGrads\u001b[0m\u001b[0;34m\u001b[0m\u001b[0;34m\u001b[0m\u001b[0m\n\u001b[1;32m     35\u001b[0m     \u001b[0mlr_u\u001b[0m\u001b[0;34m,\u001b[0m\u001b[0mlr_d\u001b[0m\u001b[0;34m=\u001b[0m \u001b[0mlearningRateEnv\u001b[0m\u001b[0;34m(\u001b[0m\u001b[0mlr0\u001b[0m\u001b[0;34m,\u001b[0m\u001b[0mruns\u001b[0m\u001b[0;34m)\u001b[0m\u001b[0;34m\u001b[0m\u001b[0;34m\u001b[0m\u001b[0m\n",
      "\u001b[0;32m<ipython-input-29-71617d40bb99>\u001b[0m in \u001b[0;36mHamiltonianEstmFrugal\u001b[0;34m(params, num_shots_arr, ret)\u001b[0m\n\u001b[1;32m     27\u001b[0m     \u001b[0minp_data\u001b[0m\u001b[0;34m=\u001b[0m\u001b[0;34m[\u001b[0m\u001b[0;34m(\u001b[0m\u001b[0mQuantumInstance\u001b[0m\u001b[0;34m(\u001b[0m\u001b[0mbackend\u001b[0m\u001b[0;34m,\u001b[0m\u001b[0mshots\u001b[0m\u001b[0;34m=\u001b[0m\u001b[0mnum_shots_arr\u001b[0m\u001b[0;34m[\u001b[0m\u001b[0mi\u001b[0m\u001b[0;34m]\u001b[0m\u001b[0;34m)\u001b[0m\u001b[0;34m,\u001b[0m\u001b[0mconstruct_dataForm\u001b[0m\u001b[0;34m(\u001b[0m\u001b[0mdata_arr\u001b[0m\u001b[0;34m[\u001b[0m\u001b[0mi\u001b[0m\u001b[0;34m]\u001b[0m\u001b[0;34m)\u001b[0m\u001b[0;34m)\u001b[0m \u001b[0;32mfor\u001b[0m \u001b[0mi\u001b[0m \u001b[0;32min\u001b[0m \u001b[0mrange\u001b[0m\u001b[0;34m(\u001b[0m\u001b[0mlen\u001b[0m\u001b[0;34m(\u001b[0m\u001b[0mdata_arr\u001b[0m\u001b[0;34m)\u001b[0m\u001b[0;34m)\u001b[0m\u001b[0;34m]\u001b[0m\u001b[0;34m\u001b[0m\u001b[0;34m\u001b[0m\u001b[0m\n\u001b[1;32m     28\u001b[0m     \u001b[0mresult\u001b[0m \u001b[0;34m=\u001b[0m \u001b[0mv\u001b[0m\u001b[0;34m.\u001b[0m\u001b[0mmap_async\u001b[0m\u001b[0;34m(\u001b[0m\u001b[0mEstmTerms\u001b[0m\u001b[0;34m,\u001b[0m \u001b[0minp_data\u001b[0m\u001b[0;34m)\u001b[0m\u001b[0;34m\u001b[0m\u001b[0;34m\u001b[0m\u001b[0m\n\u001b[0;32m---> 29\u001b[0;31m     \u001b[0moutput\u001b[0m\u001b[0;34m=\u001b[0m\u001b[0mresult\u001b[0m\u001b[0;34m.\u001b[0m\u001b[0mget\u001b[0m\u001b[0;34m(\u001b[0m\u001b[0;34m)\u001b[0m\u001b[0;34m\u001b[0m\u001b[0;34m\u001b[0m\u001b[0m\n\u001b[0m\u001b[1;32m     30\u001b[0m     \u001b[0mMean\u001b[0m\u001b[0;34m=\u001b[0m\u001b[0mnumpy\u001b[0m\u001b[0;34m.\u001b[0m\u001b[0msum\u001b[0m\u001b[0;34m(\u001b[0m\u001b[0moutput\u001b[0m\u001b[0;34m)\u001b[0m\u001b[0;31m#numpy.real(output[0][0]+output[1][0]+output[2][0])\u001b[0m\u001b[0;34m\u001b[0m\u001b[0;34m\u001b[0m\u001b[0m\n\u001b[1;32m     31\u001b[0m     \u001b[0;31m#indMean=numpy.array([numpy.real(output[0][0]),numpy.real(output[1][0]),numpy.real(output[2][0])])\u001b[0m\u001b[0;34m\u001b[0m\u001b[0;34m\u001b[0m\u001b[0;34m\u001b[0m\u001b[0m\n",
      "\u001b[0;32m~/Anaconda3-Linux/lib/python3.8/site-packages/ipyparallel/client/asyncresult.py\u001b[0m in \u001b[0;36mget\u001b[0;34m(self, timeout)\u001b[0m\n\u001b[1;32m    161\u001b[0m         \"\"\"\n\u001b[1;32m    162\u001b[0m         \u001b[0;32mif\u001b[0m \u001b[0;32mnot\u001b[0m \u001b[0mself\u001b[0m\u001b[0;34m.\u001b[0m\u001b[0mready\u001b[0m\u001b[0;34m(\u001b[0m\u001b[0;34m)\u001b[0m\u001b[0;34m:\u001b[0m\u001b[0;34m\u001b[0m\u001b[0;34m\u001b[0m\u001b[0m\n\u001b[0;32m--> 163\u001b[0;31m             \u001b[0mself\u001b[0m\u001b[0;34m.\u001b[0m\u001b[0mwait\u001b[0m\u001b[0;34m(\u001b[0m\u001b[0mtimeout\u001b[0m\u001b[0;34m)\u001b[0m\u001b[0;34m\u001b[0m\u001b[0;34m\u001b[0m\u001b[0m\n\u001b[0m\u001b[1;32m    164\u001b[0m \u001b[0;34m\u001b[0m\u001b[0m\n\u001b[1;32m    165\u001b[0m         \u001b[0;32mif\u001b[0m \u001b[0mself\u001b[0m\u001b[0;34m.\u001b[0m\u001b[0m_ready\u001b[0m\u001b[0;34m:\u001b[0m\u001b[0;34m\u001b[0m\u001b[0;34m\u001b[0m\u001b[0m\n",
      "\u001b[0;32m~/Anaconda3-Linux/lib/python3.8/site-packages/ipyparallel/client/asyncresult.py\u001b[0m in \u001b[0;36mwait\u001b[0;34m(self, timeout)\u001b[0m\n\u001b[1;32m    211\u001b[0m             \u001b[0mtimeout\u001b[0m \u001b[0;34m=\u001b[0m \u001b[0;32mNone\u001b[0m\u001b[0;34m\u001b[0m\u001b[0;34m\u001b[0m\u001b[0m\n\u001b[1;32m    212\u001b[0m \u001b[0;34m\u001b[0m\u001b[0m\n\u001b[0;32m--> 213\u001b[0;31m         \u001b[0mself\u001b[0m\u001b[0;34m.\u001b[0m\u001b[0m_ready_event\u001b[0m\u001b[0;34m.\u001b[0m\u001b[0mwait\u001b[0m\u001b[0;34m(\u001b[0m\u001b[0mtimeout\u001b[0m\u001b[0;34m)\u001b[0m\u001b[0;34m\u001b[0m\u001b[0;34m\u001b[0m\u001b[0m\n\u001b[0m\u001b[1;32m    214\u001b[0m         \u001b[0mself\u001b[0m\u001b[0;34m.\u001b[0m\u001b[0mwait_for_output\u001b[0m\u001b[0;34m(\u001b[0m\u001b[0;36m0\u001b[0m\u001b[0;34m)\u001b[0m\u001b[0;34m\u001b[0m\u001b[0;34m\u001b[0m\u001b[0m\n\u001b[1;32m    215\u001b[0m         \u001b[0;32mreturn\u001b[0m \u001b[0mself\u001b[0m\u001b[0;34m.\u001b[0m\u001b[0m_ready\u001b[0m\u001b[0;34m\u001b[0m\u001b[0;34m\u001b[0m\u001b[0m\n",
      "\u001b[0;32m~/Anaconda3-Linux/lib/python3.8/threading.py\u001b[0m in \u001b[0;36mwait\u001b[0;34m(self, timeout)\u001b[0m\n\u001b[1;32m    556\u001b[0m             \u001b[0msignaled\u001b[0m \u001b[0;34m=\u001b[0m \u001b[0mself\u001b[0m\u001b[0;34m.\u001b[0m\u001b[0m_flag\u001b[0m\u001b[0;34m\u001b[0m\u001b[0;34m\u001b[0m\u001b[0m\n\u001b[1;32m    557\u001b[0m             \u001b[0;32mif\u001b[0m \u001b[0;32mnot\u001b[0m \u001b[0msignaled\u001b[0m\u001b[0;34m:\u001b[0m\u001b[0;34m\u001b[0m\u001b[0;34m\u001b[0m\u001b[0m\n\u001b[0;32m--> 558\u001b[0;31m                 \u001b[0msignaled\u001b[0m \u001b[0;34m=\u001b[0m \u001b[0mself\u001b[0m\u001b[0;34m.\u001b[0m\u001b[0m_cond\u001b[0m\u001b[0;34m.\u001b[0m\u001b[0mwait\u001b[0m\u001b[0;34m(\u001b[0m\u001b[0mtimeout\u001b[0m\u001b[0;34m)\u001b[0m\u001b[0;34m\u001b[0m\u001b[0;34m\u001b[0m\u001b[0m\n\u001b[0m\u001b[1;32m    559\u001b[0m             \u001b[0;32mreturn\u001b[0m \u001b[0msignaled\u001b[0m\u001b[0;34m\u001b[0m\u001b[0;34m\u001b[0m\u001b[0m\n\u001b[1;32m    560\u001b[0m \u001b[0;34m\u001b[0m\u001b[0m\n",
      "\u001b[0;32m~/Anaconda3-Linux/lib/python3.8/threading.py\u001b[0m in \u001b[0;36mwait\u001b[0;34m(self, timeout)\u001b[0m\n\u001b[1;32m    300\u001b[0m         \u001b[0;32mtry\u001b[0m\u001b[0;34m:\u001b[0m    \u001b[0;31m# restore state no matter what (e.g., KeyboardInterrupt)\u001b[0m\u001b[0;34m\u001b[0m\u001b[0;34m\u001b[0m\u001b[0m\n\u001b[1;32m    301\u001b[0m             \u001b[0;32mif\u001b[0m \u001b[0mtimeout\u001b[0m \u001b[0;32mis\u001b[0m \u001b[0;32mNone\u001b[0m\u001b[0;34m:\u001b[0m\u001b[0;34m\u001b[0m\u001b[0;34m\u001b[0m\u001b[0m\n\u001b[0;32m--> 302\u001b[0;31m                 \u001b[0mwaiter\u001b[0m\u001b[0;34m.\u001b[0m\u001b[0macquire\u001b[0m\u001b[0;34m(\u001b[0m\u001b[0;34m)\u001b[0m\u001b[0;34m\u001b[0m\u001b[0;34m\u001b[0m\u001b[0m\n\u001b[0m\u001b[1;32m    303\u001b[0m                 \u001b[0mgotit\u001b[0m \u001b[0;34m=\u001b[0m \u001b[0;32mTrue\u001b[0m\u001b[0;34m\u001b[0m\u001b[0;34m\u001b[0m\u001b[0m\n\u001b[1;32m    304\u001b[0m             \u001b[0;32melse\u001b[0m\u001b[0;34m:\u001b[0m\u001b[0;34m\u001b[0m\u001b[0;34m\u001b[0m\u001b[0m\n",
      "\u001b[0;31mKeyboardInterrupt\u001b[0m: "
     ]
    }
   ],
   "source": [
    "#params=[]\n",
    "EnergyArr=[]\n",
    "numCX=0\n",
    "CXarr=[]\n",
    "#ExcOps=[]\n",
    "error=1000\n",
    "steps=33\n",
    "stepNo=7\n",
    "timeArr=[]\n",
    "t1=time.time()\n",
    "num_shots_arr=[2**14,2**15,2**15]\n",
    "while error>1e-5 and stepNo<steps:\n",
    "    PauliOp=ansatzExpander(ordChoice='1')\n",
    "    ExcOps.append(PauliOp.paulis[0][1].to_label())\n",
    "    print(\"excitationOp\",ExcOps[-1])\n",
    "    with open('../7/labels.txt','+a') as f:\n",
    "        print(ExcOps[-1],file=f)\n",
    "    params.append(0.0)\n",
    "    var_form_base.push_hopping_operator(PauliOp)\n",
    "    #construct circuit for estimating Hamiltonian\n",
    "    circ=var_form_base.construct_circuit(parameters=params)\n",
    "    params,E=AdaDelta_qasm(HamiltonianEstmFrugal,params,num_shots_arr=num_shots_arr,runs=runs,tol=tol,save_opt_steps=True)\n",
    "#    params,E=AdaDelta_sv(Energy,params,runs=runs,tol=tol,save_opt_steps=True)\n",
    "#    params,E=SMO_qasm(HamiltonianEstmFrugal,params,runs=runs,tol=tol,save_opt_steps=True) \n",
    "#    params,E=AdaDeltaSMO_qasm(HamiltonianEstmFrugal,params,num_shots_arr=[2**8,2**9,2**9],runs=runs,tol=tol,save_opt_steps=True)\n",
    "    params=list(params)\n",
    "    numCX=numCX+countCXs(ExcOps[-1])\n",
    "    CXarr.append(numCX)\n",
    "    EnergyArr.append(E)\n",
    "    timeArr.append(time.time()-t1)\n",
    "    error=E-Eg\n",
    "    print(\"convergence energy\",EnergyArr[-1])\n",
    "    \n",
    "    print(\"time elapsed\",timeArr[-1])\n",
    "    stepNo=stepNo+1\n",
    "    \n",
    "    "
   ]
  },
  {
   "cell_type": "code",
   "execution_count": null,
   "metadata": {},
   "outputs": [],
   "source": [
    "# E_arr=[]\n",
    "# E_arr2=[]\n",
    "# E_arr3=[]\n",
    "# num_shots_arr=[2**8,2**9,2**9]\n",
    "# string_shots_label=','.join([str(shots) for shots in num_shots_arr])\n",
    "# with open('../'+str(U)+'/adaDeltaOptStepsWithQasm'+string_shots_label+'.txt','r') as f:\n",
    "#     lines=f.readlines()\n",
    "#     for line in lines:\n",
    "#         elems=line.split('#')\n",
    "#         E_arr.append(float(elems[1]))\n",
    "# num_shots_arr=[2**4,2**5,2**5]\n",
    "# string_shots_label=','.join([str(shots) for shots in num_shots_arr])\n",
    "# with open('../'+str(U)+'/adaDeltaOptStepsWithQasm'+string_shots_label+'.txt','r') as f:\n",
    "#     lines=f.readlines()\n",
    "#     for line in lines:\n",
    "#         elems=line.split('#')\n",
    "#         E_arr2.append(float(elems[1]))\n",
    "# num_shots_arr=[2**5,2**6,2**6]\n",
    "# string_shots_label=','.join([str(shots) for shots in num_shots_arr])\n",
    "# with open('../'+str(U)+'/adaDeltaOptStepsWithQasm'+string_shots_label+'.txt','r') as f:\n",
    "#     lines=f.readlines()\n",
    "#     for line in lines:\n",
    "#         elems=line.split('#')\n",
    "#         E_arr3.append(float(elems[1]))        "
   ]
  },
  {
   "cell_type": "code",
   "execution_count": null,
   "metadata": {},
   "outputs": [],
   "source": [
    "# import matplotlib.pyplot as plt\n",
    "# figure,ax=plt.subplots(1,figsize=(10,7))\n",
    "# ax.set_yscale('log')\n",
    "# ax.tick_params(labelsize=15)\n",
    "# ax.plot(numpy.array(E_arr[:363])+19.0701686065437848,label='shots=2^8,2^9,2^9',marker='o')\n",
    "# ax.set_xlabel('runs')\n",
    "# ax.legend(fontsize=15)\n",
    "# ax.set_ylabel('abs. Error')"
   ]
  },
  {
   "cell_type": "code",
   "execution_count": null,
   "metadata": {},
   "outputs": [],
   "source": []
  },
  {
   "cell_type": "code",
   "execution_count": null,
   "metadata": {},
   "outputs": [],
   "source": []
  },
  {
   "cell_type": "code",
   "execution_count": null,
   "metadata": {},
   "outputs": [],
   "source": []
  }
 ],
 "metadata": {
  "kernelspec": {
   "display_name": "Python 3",
   "language": "python",
   "name": "python3"
  },
  "language_info": {
   "codemirror_mode": {
    "name": "ipython",
    "version": 3
   },
   "file_extension": ".py",
   "mimetype": "text/x-python",
   "name": "python",
   "nbconvert_exporter": "python",
   "pygments_lexer": "ipython3",
   "version": "3.8.3"
  }
 },
 "nbformat": 4,
 "nbformat_minor": 4
}
