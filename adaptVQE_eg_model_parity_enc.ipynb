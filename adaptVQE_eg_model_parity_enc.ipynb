{
 "cells": [
  {
   "cell_type": "code",
   "execution_count": 21,
   "metadata": {},
   "outputs": [],
   "source": [
    "def warn(*args, **kwargs):\n",
    "    pass\n",
    "import warnings\n",
    "warnings.warn = warn\n",
    "import numpy\n",
    "import copy\n",
    "from qiskit.quantum_info import Pauli\n",
    "from qiskit.chemistry import FermionicOperator\n",
    "from qiskit.aqua.operators.legacy import op_converter\n",
    "from openfermion.circuits import slater_determinant_preparation_circuit\n",
    "from qiskit import QuantumCircuit,execute\n",
    "from qiskit import Aer\n",
    "from joblib import Parallel,delayed\n",
    "from qiskit.aqua.operators import WeightedPauliOperator,Z2Symmetries\n",
    "from qiskit.chemistry.components.variational_forms import UCCSD\n",
    "import scipy\n",
    "import time\n",
    "import numba\n",
    "from numba import jit"
   ]
  },
  {
   "cell_type": "code",
   "execution_count": 22,
   "metadata": {},
   "outputs": [],
   "source": [
    "def countYgates(pauli_label):\n",
    "    countYgates = sum(map(lambda x : 1 if 'Y' in x else 0, pauli_label))\n",
    "    return countYgates\n",
    "def qubitOp(h1,h2):\n",
    "    qubit_op=FermionicOperator(h1,h2).mapping('parity')\n",
    "    return qubit_op\n",
    "def egBandHamiltonian(U):\n",
    "    #Getting chemical Potential for Half-Filling\n",
    "    with open('../chem_pot_for_Half_Fill.txt','r') as f:\n",
    "        lines=f.readlines()[1:]\n",
    "        for line in lines:\n",
    "            elems=line.split()\n",
    "            if int(elems[0])==U:\n",
    "                muHalf=float(elems[1]) #Chem Pot for a given Hubbard U\n",
    "    #Getting the one body and two body interaction vertexes\n",
    "    with open('../'+str(U)+'/v1e.dat','r') as f:\n",
    "            lines=f.readlines()[1:]\n",
    "            num_sites=4\n",
    "            chem_pot=numpy.zeros((2*num_sites,2*num_sites))\n",
    "            eg_h1=numpy.zeros((2*num_sites,2*num_sites))\n",
    "            for line in lines:\n",
    "                elems=line.split()\n",
    "                eg_h1[int(elems[0])][int(elems[1])]=float(elems[2])\n",
    "                eg_h1[int(elems[0])+num_sites][int(elems[1])+num_sites]=float(elems[2])\n",
    "            for i in range(2*num_sites):\n",
    "                chem_pot[i][i]=-muHalf\n",
    "            eg_h1=eg_h1+chem_pot       \n",
    "    with open('../'+str(U)+'/v2e.dat','r') as f:\n",
    "        num_sites=4\n",
    "        eg_h2=numpy.zeros((2*num_sites,2*num_sites,2*num_sites,2*num_sites))\n",
    "        for line in f:\n",
    "            if \"#\" in line:\n",
    "                continue\n",
    "            line = line.split()\n",
    "            i,j,k,l = map(int, line[:4])\n",
    "            val = float(line[4])\n",
    "            eg_h2[i,j,k,l] = eg_h2[i+num_sites,j+num_sites,k,l] = eg_h2[i,j,k+num_sites,l+num_sites]             = eg_h2[i+num_sites,j+num_sites,k+num_sites,l+num_sites] = 0.5*val  # convention with 0.5 factor included.\n",
    "    qubitH=qubitOp(eg_h1,eg_h2)\n",
    "    qubitH=Z2Symmetries.two_qubit_reduction(qubitH, 4)\n",
    "    Hmat=op_converter.to_matrix_operator(qubitH).dense_matrix\n",
    "    w,v=numpy.linalg.eigh(Hmat)\n",
    "    Eg=w[0]\n",
    "    state_g=v[:,0]\n",
    "    return qubitH,Hmat,Eg,state_g"
   ]
  },
  {
   "cell_type": "code",
   "execution_count": 55,
   "metadata": {},
   "outputs": [],
   "source": [
    "def commutator(A,B):\n",
    "        B2=WeightedPauliOperator([[-B.paulis[0][0],B.paulis[0][1]]])\n",
    "        return A.multiply(B).add(B2.multiply(A))\n",
    "def commutatorsForGradient(Op):\n",
    "    Op_conj=WeightedPauliOperator([[-1j,Op.paulis[0][1]]])\n",
    "    M=Op.multiply(qubitH).add(qubitH.multiply(Op_conj))\n",
    "    Mmat=op_converter.to_matrix_operator(M).matrix\n",
    "    return Mmat\n",
    "def commutatorPool(qubitH,stripZs=False):\n",
    "    def stripZ(label):\n",
    "        label=numpy.array(list(label))\n",
    "        label[label=='Z']='I'\n",
    "        label=''.join(list(label))\n",
    "        return label\n",
    "    #construct commutator pool from the Hamiltonian\n",
    "    pool_H=[WeightedPauliOperator([[1j,qubitH.paulis[i][1]]]) for i in range(len(qubitH.paulis))][1:]\n",
    "    #commutator between operators\n",
    "    commutator_pool=[WeightedPauliOperator([[1j,commutator(op1,op2).paulis[0][1]]]) for op1 in pool_H for op2 in pool_H if countYgates(commutator(op1,op2).paulis[0][1].to_label())%2==1]\n",
    "    labels=[commutator_pool[i].paulis[0][1].to_label() for i in range(len(commutator_pool))]\n",
    "    unique_labels=numpy.unique(labels)\n",
    "    if stripZs==True:\n",
    "        new_labels=[]\n",
    "        for i in range(len(unique_labels)):\n",
    "            new_labels.append(stripZ(unique_labels[i]))\n",
    "        unique_labels=numpy.unique(new_labels)    \n",
    "    commutator_pool=[WeightedPauliOperator([[1j,Pauli(unique_labels[i])]]) for i in range(len(unique_labels))]\n",
    "    print(len(commutator_pool))\n",
    "    return commutator_pool\n",
    "def compute_gradient(M,state):\n",
    "    grad=state@M@numpy.conjugate(state)\n",
    "    return grad.real\n",
    "def SMO(cost,params,runs=20,tol=1e-4,save_opt_steps=False):\n",
    "    index=1\n",
    "    conv_err=1000\n",
    "    def E_landscape(ind,ang,cost,params):\n",
    "        params1=copy.deepcopy(params)\n",
    "        params1[ind]=params1[ind]+ang #ang\n",
    "        #circ=var_form_base.construct_circuit(parameters=params1)\n",
    "        E=cost(params1)\n",
    "        return E.real\n",
    "    def determine_unknowns(E,cost,params,ind):\n",
    "        L1=E#_landscape(ind,0,params,Hmat)\n",
    "        L2=E_landscape(ind,numpy.pi/4.,cost,params)\n",
    "        L3=E_landscape(ind,-numpy.pi/4.,cost,params)\n",
    "        ratio=(L3-L2)/(2*L1-L2-L3)\n",
    "        a3=(L2+L3)/2.\n",
    "        a2=2*params[ind]-numpy.arctan(ratio)\n",
    "        a1=(L1-a3)/numpy.cos(numpy.arctan(ratio))\n",
    "        return a1,a2,a3\n",
    "    def update(E,cost,params,ind):\n",
    "        a1,a2,a3=determine_unknowns(E,cost,params,ind)\n",
    "        thetaStar=a2/2.+numpy.pi/2. if a1>0 else a2/2.\n",
    "        newParams=copy.deepcopy(params)\n",
    "        newParams[ind]=thetaStar\n",
    "        updEnergy=a3-a1 if a1>0 else a3+a1\n",
    "        return newParams,updEnergy.real\n",
    "    while conv_err>tol and index<runs:\n",
    "        print(\"looped \"+str(index)+\" times\")\n",
    "        Eold=cost(params)\n",
    "        init=0\n",
    "        for i in range(len(params)):#[::-1][0:1]:\n",
    "            #first run sequential minimial optimization (SMO)  for a given multiqubit operator using \n",
    "            #exact analytical form for cost function\n",
    "            if init==0:\n",
    "                E=Eold\n",
    "            ind=i\n",
    "            params,E=update(E,cost,params,ind)\n",
    "            if save_opt_steps==True:\n",
    "                with open('paramsForQubitAdapt_eg_model_parity.txt','a') as f:\n",
    "                    Str=[\"{:0.16f}\".format(params[i].real) for i in range(len(params))]\n",
    "                    print('['+','.join(Str)+']'+'#'+\"{:0.16f}\".format(E.real),file=f)\n",
    "            else:\n",
    "                continue\n",
    "            init=init+1  \n",
    "        conv_err=Eold-E\n",
    "        print(\"inner loop error\",conv_err)\n",
    "        index=index+1\n",
    "    res={'fun':E,'x':params}    \n",
    "    return res \n",
    "def Energy(params):\n",
    "    circ=var_form_base.construct_circuit(parameters=params)\n",
    "    state=execute(circ,backend,shots=1024).result().get_statevector() \n",
    "    E=(numpy.conjugate(state)@Hmat@state).real\n",
    "    print(numpy.abs(state_g@numpy.conjugate(state))**2)\n",
    "    if save_steps==True:\n",
    "        with open('paramsForQubitAdapt_eg_model_parity.txt','+a') as f:\n",
    "            Str=[\"{:0.16f}\".format(params[i].real) for i in range(len(params))]\n",
    "            print('['+','.join(Str)+']'+'#'+\"{:0.16f}\".format(E.real),file=f)\n",
    "    return E"
   ]
  },
  {
   "cell_type": "code",
   "execution_count": 50,
   "metadata": {},
   "outputs": [
    {
     "name": "stdout",
     "output_type": "stream",
     "text": [
      "16\n",
      "pool sizes 16\n"
     ]
    }
   ],
   "source": [
    "U=7\n",
    "#Constructing Hamiltonian\n",
    "qubitH,Hmat,Eg,state_g=egBandHamiltonian(U)\n",
    "#commutator pools\n",
    "commutator_pool=commutatorPool(qubitH,stripZs=True)\n",
    "#constructing matrices for gradient computation\n",
    "MatrixRepOfPoolOps=list(map(commutatorsForGradient,commutator_pool))\n",
    "print(\"pool sizes\",len(MatrixRepOfPoolOps))\n",
    "backend=Aer.get_backend('statevector_simulator')\n",
    "#preparing HF state\n",
    "circ=QuantumCircuit(6)\n",
    "circ.x(0)\n",
    "circ.x(3)\n",
    "var_form_base=UCCSD(8,num_particles=4, initial_state=circ,qubit_mapping='parity',two_qubit_reduction=True)\n",
    "var_form_base.manage_hopping_operators()\n",
    "error=1000"
   ]
  },
  {
   "cell_type": "code",
   "execution_count": 25,
   "metadata": {},
   "outputs": [],
   "source": [
    "def fun_jac(params):\n",
    "    circ=var_form_base.construct_circuit(parameters=params)\n",
    "    state=execute(circ,backend,shots=1024).result().get_statevector() \n",
    "    def State(params):\n",
    "        circ=var_form_base.construct_circuit(parameters=params)\n",
    "        state=execute(circ,backend,shots=1024).result().get_statevector() \n",
    "        #E=(numpy.conjugate(state)@Hmat@state).real\n",
    "        return state\n",
    "    setofParams1=[numpy.array(params)+numpy.array([0]*i+[numpy.pi/2]+[0]*(len(params)-i-1)) for i in range(len(params))]\n",
    "    States=numpy.array(Parallel(n_jobs=7,verbose=2)(delayed(State)(setofParams1[i]) for i in range(len(params))))#qubit_pool_UCCSD))))#\n",
    "    jac=[]\n",
    "    for i in range(len(States)):\n",
    "        jac.append((numpy.conjugate(state)@Hmat@States[i]).imag)\n",
    "    return jac"
   ]
  },
  {
   "cell_type": "markdown",
   "metadata": {},
   "source": [
    "$|\\Psi\\rangle =\\exp(i\\theta_{1}A_{1})\\exp(i\\theta_{2}A_{2})\\ldots \\exp(i\\theta_{n}A_{n})|0\\rangle$"
   ]
  },
  {
   "cell_type": "code",
   "execution_count": 1,
   "metadata": {},
   "outputs": [
    {
     "name": "stdout",
     "output_type": "stream",
     "text": [
      "YXIIII\n"
     ]
    },
    {
     "ename": "NameError",
     "evalue": "name 'var_form_base' is not defined",
     "output_type": "error",
     "traceback": [
      "\u001b[0;31m---------------------------------------------------------------------------\u001b[0m",
      "\u001b[0;31mNameError\u001b[0m                                 Traceback (most recent call last)",
      "\u001b[0;32m<ipython-input-1-5d8a2ed31712>\u001b[0m in \u001b[0;36m<module>\u001b[0;34m\u001b[0m\n\u001b[1;32m      8\u001b[0m             \u001b[0mprint\u001b[0m\u001b[0;34m(\u001b[0m\u001b[0mlabel\u001b[0m\u001b[0;34m)\u001b[0m\u001b[0;34m\u001b[0m\u001b[0;34m\u001b[0m\u001b[0m\n\u001b[1;32m      9\u001b[0m             \u001b[0mExcOps\u001b[0m\u001b[0;34m.\u001b[0m\u001b[0mappend\u001b[0m\u001b[0;34m(\u001b[0m\u001b[0mlabel\u001b[0m\u001b[0;34m)\u001b[0m\u001b[0;34m\u001b[0m\u001b[0;34m\u001b[0m\u001b[0m\n\u001b[0;32m---> 10\u001b[0;31m             \u001b[0mvar_form_base\u001b[0m\u001b[0;34m.\u001b[0m\u001b[0mpush_hopping_operator\u001b[0m\u001b[0;34m(\u001b[0m\u001b[0mWeightedPauliOperator\u001b[0m\u001b[0;34m(\u001b[0m\u001b[0;34m[\u001b[0m\u001b[0;34m[\u001b[0m\u001b[0;36m1j\u001b[0m\u001b[0;34m,\u001b[0m\u001b[0mPauli\u001b[0m\u001b[0;34m(\u001b[0m\u001b[0mlabel\u001b[0m\u001b[0;34m)\u001b[0m\u001b[0;34m]\u001b[0m\u001b[0;34m]\u001b[0m\u001b[0;34m)\u001b[0m\u001b[0;34m)\u001b[0m\u001b[0;34m\u001b[0m\u001b[0;34m\u001b[0m\u001b[0m\n\u001b[0m\u001b[1;32m     11\u001b[0m     \u001b[0mparams\u001b[0m\u001b[0;34m=\u001b[0m\u001b[0meval\u001b[0m\u001b[0;34m(\u001b[0m\u001b[0mlines\u001b[0m\u001b[0;34m[\u001b[0m\u001b[0;34m-\u001b[0m\u001b[0;36m1\u001b[0m\u001b[0;34m]\u001b[0m\u001b[0;34m)\u001b[0m\u001b[0;34m\u001b[0m\u001b[0;34m\u001b[0m\u001b[0m\n",
      "\u001b[0;31mNameError\u001b[0m: name 'var_form_base' is not defined"
     ]
    }
   ],
   "source": [
    "ExcOps=[]\n",
    "params=[]\n",
    "with open('data_eg_model_parity.txt','r') as f:\n",
    "    lines=f.readlines()\n",
    "    for line in lines:\n",
    "        if ((line[0]=='Y') or (line[0]=='X') or (line[0]=='Z') or (line[0]=='I')):\n",
    "            label=line[:-1]\n",
    "            print(label)\n",
    "            ExcOps.append(label)\n",
    "            var_form_base.push_hopping_operator(WeightedPauliOperator([[1j,Pauli(label)]]))\n",
    "    params=eval(lines[-1])        "
   ]
  },
  {
   "cell_type": "code",
   "execution_count": 45,
   "metadata": {},
   "outputs": [
    {
     "data": {
      "text/plain": [
       "['XIIII\\n']"
      ]
     },
     "execution_count": 45,
     "metadata": {},
     "output_type": "execute_result"
    }
   ],
   "source": [
    "ExcOps"
   ]
  },
  {
   "cell_type": "code",
   "execution_count": 56,
   "metadata": {},
   "outputs": [
    {
     "name": "stdout",
     "output_type": "stream",
     "text": [
      "0.999999999960496\n"
     ]
    },
    {
     "data": {
      "text/plain": [
       "-19.184985040792363"
      ]
     },
     "execution_count": 56,
     "metadata": {},
     "output_type": "execute_result"
    }
   ],
   "source": [
    "save_steps=False\n",
    "Energy(params)"
   ]
  },
  {
   "cell_type": "code",
   "execution_count": 9,
   "metadata": {},
   "outputs": [
    {
     "ename": "QiskitError",
     "evalue": "'Keyboard interrupt in parallel_map.'",
     "output_type": "error",
     "traceback": [
      "\u001b[0;31m---------------------------------------------------------------------------\u001b[0m",
      "\u001b[0;31mKeyboardInterrupt\u001b[0m                         Traceback (most recent call last)",
      "\u001b[0;32m~/Anaconda3-Linux/lib/python3.8/site-packages/qiskit/tools/parallel.py\u001b[0m in \u001b[0;36mparallel_map\u001b[0;34m(task, values, task_args, task_kwargs, num_processes)\u001b[0m\n\u001b[1;32m    144\u001b[0m                 \u001b[0mparam\u001b[0m \u001b[0;34m=\u001b[0m \u001b[0mmap\u001b[0m\u001b[0;34m(\u001b[0m\u001b[0;32mlambda\u001b[0m \u001b[0mvalue\u001b[0m\u001b[0;34m:\u001b[0m \u001b[0;34m(\u001b[0m\u001b[0mtask\u001b[0m\u001b[0;34m,\u001b[0m \u001b[0mvalue\u001b[0m\u001b[0;34m,\u001b[0m \u001b[0mtask_args\u001b[0m\u001b[0;34m,\u001b[0m \u001b[0mtask_kwargs\u001b[0m\u001b[0;34m)\u001b[0m\u001b[0;34m,\u001b[0m \u001b[0mvalues\u001b[0m\u001b[0;34m)\u001b[0m\u001b[0;34m\u001b[0m\u001b[0;34m\u001b[0m\u001b[0m\n\u001b[0;32m--> 145\u001b[0;31m                 \u001b[0mfuture\u001b[0m \u001b[0;34m=\u001b[0m \u001b[0mexecutor\u001b[0m\u001b[0;34m.\u001b[0m\u001b[0mmap\u001b[0m\u001b[0;34m(\u001b[0m\u001b[0m_task_wrapper\u001b[0m\u001b[0;34m,\u001b[0m \u001b[0mparam\u001b[0m\u001b[0;34m)\u001b[0m\u001b[0;34m\u001b[0m\u001b[0;34m\u001b[0m\u001b[0m\n\u001b[0m\u001b[1;32m    146\u001b[0m \u001b[0;34m\u001b[0m\u001b[0m\n",
      "\u001b[0;32m~/Anaconda3-Linux/lib/python3.8/concurrent/futures/_base.py\u001b[0m in \u001b[0;36m__exit__\u001b[0;34m(self, exc_type, exc_val, exc_tb)\u001b[0m\n\u001b[1;32m    635\u001b[0m     \u001b[0;32mdef\u001b[0m \u001b[0m__exit__\u001b[0m\u001b[0;34m(\u001b[0m\u001b[0mself\u001b[0m\u001b[0;34m,\u001b[0m \u001b[0mexc_type\u001b[0m\u001b[0;34m,\u001b[0m \u001b[0mexc_val\u001b[0m\u001b[0;34m,\u001b[0m \u001b[0mexc_tb\u001b[0m\u001b[0;34m)\u001b[0m\u001b[0;34m:\u001b[0m\u001b[0;34m\u001b[0m\u001b[0;34m\u001b[0m\u001b[0m\n\u001b[0;32m--> 636\u001b[0;31m         \u001b[0mself\u001b[0m\u001b[0;34m.\u001b[0m\u001b[0mshutdown\u001b[0m\u001b[0;34m(\u001b[0m\u001b[0mwait\u001b[0m\u001b[0;34m=\u001b[0m\u001b[0;32mTrue\u001b[0m\u001b[0;34m)\u001b[0m\u001b[0;34m\u001b[0m\u001b[0;34m\u001b[0m\u001b[0m\n\u001b[0m\u001b[1;32m    637\u001b[0m         \u001b[0;32mreturn\u001b[0m \u001b[0;32mFalse\u001b[0m\u001b[0;34m\u001b[0m\u001b[0;34m\u001b[0m\u001b[0m\n",
      "\u001b[0;32m~/Anaconda3-Linux/lib/python3.8/concurrent/futures/process.py\u001b[0m in \u001b[0;36mshutdown\u001b[0;34m(self, wait)\u001b[0m\n\u001b[1;32m    685\u001b[0m             \u001b[0;32mif\u001b[0m \u001b[0mwait\u001b[0m\u001b[0;34m:\u001b[0m\u001b[0;34m\u001b[0m\u001b[0;34m\u001b[0m\u001b[0m\n\u001b[0;32m--> 686\u001b[0;31m                 \u001b[0mself\u001b[0m\u001b[0;34m.\u001b[0m\u001b[0m_queue_management_thread\u001b[0m\u001b[0;34m.\u001b[0m\u001b[0mjoin\u001b[0m\u001b[0;34m(\u001b[0m\u001b[0;34m)\u001b[0m\u001b[0;34m\u001b[0m\u001b[0;34m\u001b[0m\u001b[0m\n\u001b[0m\u001b[1;32m    687\u001b[0m         \u001b[0;31m# To reduce the risk of opening too many files, remove references to\u001b[0m\u001b[0;34m\u001b[0m\u001b[0;34m\u001b[0m\u001b[0;34m\u001b[0m\u001b[0m\n",
      "\u001b[0;32m~/Anaconda3-Linux/lib/python3.8/threading.py\u001b[0m in \u001b[0;36mjoin\u001b[0;34m(self, timeout)\u001b[0m\n\u001b[1;32m   1010\u001b[0m         \u001b[0;32mif\u001b[0m \u001b[0mtimeout\u001b[0m \u001b[0;32mis\u001b[0m \u001b[0;32mNone\u001b[0m\u001b[0;34m:\u001b[0m\u001b[0;34m\u001b[0m\u001b[0;34m\u001b[0m\u001b[0m\n\u001b[0;32m-> 1011\u001b[0;31m             \u001b[0mself\u001b[0m\u001b[0;34m.\u001b[0m\u001b[0m_wait_for_tstate_lock\u001b[0m\u001b[0;34m(\u001b[0m\u001b[0;34m)\u001b[0m\u001b[0;34m\u001b[0m\u001b[0;34m\u001b[0m\u001b[0m\n\u001b[0m\u001b[1;32m   1012\u001b[0m         \u001b[0;32melse\u001b[0m\u001b[0;34m:\u001b[0m\u001b[0;34m\u001b[0m\u001b[0;34m\u001b[0m\u001b[0m\n",
      "\u001b[0;32m~/Anaconda3-Linux/lib/python3.8/threading.py\u001b[0m in \u001b[0;36m_wait_for_tstate_lock\u001b[0;34m(self, block, timeout)\u001b[0m\n\u001b[1;32m   1026\u001b[0m             \u001b[0;32massert\u001b[0m \u001b[0mself\u001b[0m\u001b[0;34m.\u001b[0m\u001b[0m_is_stopped\u001b[0m\u001b[0;34m\u001b[0m\u001b[0;34m\u001b[0m\u001b[0m\n\u001b[0;32m-> 1027\u001b[0;31m         \u001b[0;32melif\u001b[0m \u001b[0mlock\u001b[0m\u001b[0;34m.\u001b[0m\u001b[0macquire\u001b[0m\u001b[0;34m(\u001b[0m\u001b[0mblock\u001b[0m\u001b[0;34m,\u001b[0m \u001b[0mtimeout\u001b[0m\u001b[0;34m)\u001b[0m\u001b[0;34m:\u001b[0m\u001b[0;34m\u001b[0m\u001b[0;34m\u001b[0m\u001b[0m\n\u001b[0m\u001b[1;32m   1028\u001b[0m             \u001b[0mlock\u001b[0m\u001b[0;34m.\u001b[0m\u001b[0mrelease\u001b[0m\u001b[0;34m(\u001b[0m\u001b[0;34m)\u001b[0m\u001b[0;34m\u001b[0m\u001b[0;34m\u001b[0m\u001b[0m\n",
      "\u001b[0;31mKeyboardInterrupt\u001b[0m: ",
      "\nThe above exception was the direct cause of the following exception:\n",
      "\u001b[0;31mQiskitError\u001b[0m                               Traceback (most recent call last)",
      "\u001b[0;32m<ipython-input-9-20c0b1304fba>\u001b[0m in \u001b[0;36m<module>\u001b[0;34m\u001b[0m\n\u001b[1;32m      1\u001b[0m \u001b[0msave_steps\u001b[0m\u001b[0;34m=\u001b[0m\u001b[0;32mTrue\u001b[0m\u001b[0;34m\u001b[0m\u001b[0;34m\u001b[0m\u001b[0m\n\u001b[0;32m----> 2\u001b[0;31m \u001b[0mres\u001b[0m\u001b[0;34m=\u001b[0m\u001b[0mscipy\u001b[0m\u001b[0;34m.\u001b[0m\u001b[0moptimize\u001b[0m\u001b[0;34m.\u001b[0m\u001b[0mminimize\u001b[0m\u001b[0;34m(\u001b[0m\u001b[0mEnergy\u001b[0m\u001b[0;34m,\u001b[0m\u001b[0mparams\u001b[0m\u001b[0;34m,\u001b[0m\u001b[0mmethod\u001b[0m\u001b[0;34m=\u001b[0m\u001b[0;34m'BFGS'\u001b[0m\u001b[0;34m,\u001b[0m\u001b[0moptions\u001b[0m\u001b[0;34m=\u001b[0m\u001b[0;34m{\u001b[0m\u001b[0;34m'ftol'\u001b[0m\u001b[0;34m:\u001b[0m\u001b[0;36m1e-7\u001b[0m\u001b[0;34m}\u001b[0m\u001b[0;34m)\u001b[0m\u001b[0;34m\u001b[0m\u001b[0;34m\u001b[0m\u001b[0m\n\u001b[0m\u001b[1;32m      3\u001b[0m \u001b[0mparams\u001b[0m\u001b[0;34m,\u001b[0m\u001b[0mE\u001b[0m\u001b[0;34m=\u001b[0m\u001b[0mlist\u001b[0m\u001b[0;34m(\u001b[0m\u001b[0mres\u001b[0m\u001b[0;34m[\u001b[0m\u001b[0;34m'x'\u001b[0m\u001b[0;34m]\u001b[0m\u001b[0;34m)\u001b[0m\u001b[0;34m,\u001b[0m\u001b[0mres\u001b[0m\u001b[0;34m[\u001b[0m\u001b[0;34m'fun'\u001b[0m\u001b[0;34m]\u001b[0m\u001b[0;34m\u001b[0m\u001b[0;34m\u001b[0m\u001b[0m\n",
      "\u001b[0;32m~/Anaconda3-Linux/lib/python3.8/site-packages/scipy/optimize/_minimize.py\u001b[0m in \u001b[0;36mminimize\u001b[0;34m(fun, x0, args, method, jac, hess, hessp, bounds, constraints, tol, callback, options)\u001b[0m\n\u001b[1;32m    602\u001b[0m         \u001b[0;32mreturn\u001b[0m \u001b[0m_minimize_cg\u001b[0m\u001b[0;34m(\u001b[0m\u001b[0mfun\u001b[0m\u001b[0;34m,\u001b[0m \u001b[0mx0\u001b[0m\u001b[0;34m,\u001b[0m \u001b[0margs\u001b[0m\u001b[0;34m,\u001b[0m \u001b[0mjac\u001b[0m\u001b[0;34m,\u001b[0m \u001b[0mcallback\u001b[0m\u001b[0;34m,\u001b[0m \u001b[0;34m**\u001b[0m\u001b[0moptions\u001b[0m\u001b[0;34m)\u001b[0m\u001b[0;34m\u001b[0m\u001b[0;34m\u001b[0m\u001b[0m\n\u001b[1;32m    603\u001b[0m     \u001b[0;32melif\u001b[0m \u001b[0mmeth\u001b[0m \u001b[0;34m==\u001b[0m \u001b[0;34m'bfgs'\u001b[0m\u001b[0;34m:\u001b[0m\u001b[0;34m\u001b[0m\u001b[0;34m\u001b[0m\u001b[0m\n\u001b[0;32m--> 604\u001b[0;31m         \u001b[0;32mreturn\u001b[0m \u001b[0m_minimize_bfgs\u001b[0m\u001b[0;34m(\u001b[0m\u001b[0mfun\u001b[0m\u001b[0;34m,\u001b[0m \u001b[0mx0\u001b[0m\u001b[0;34m,\u001b[0m \u001b[0margs\u001b[0m\u001b[0;34m,\u001b[0m \u001b[0mjac\u001b[0m\u001b[0;34m,\u001b[0m \u001b[0mcallback\u001b[0m\u001b[0;34m,\u001b[0m \u001b[0;34m**\u001b[0m\u001b[0moptions\u001b[0m\u001b[0;34m)\u001b[0m\u001b[0;34m\u001b[0m\u001b[0;34m\u001b[0m\u001b[0m\n\u001b[0m\u001b[1;32m    605\u001b[0m     \u001b[0;32melif\u001b[0m \u001b[0mmeth\u001b[0m \u001b[0;34m==\u001b[0m \u001b[0;34m'newton-cg'\u001b[0m\u001b[0;34m:\u001b[0m\u001b[0;34m\u001b[0m\u001b[0;34m\u001b[0m\u001b[0m\n\u001b[1;32m    606\u001b[0m         return _minimize_newtoncg(fun, x0, args, jac, hess, hessp, callback,\n",
      "\u001b[0;32m~/Anaconda3-Linux/lib/python3.8/site-packages/scipy/optimize/optimize.py\u001b[0m in \u001b[0;36m_minimize_bfgs\u001b[0;34m(fun, x0, args, jac, callback, gtol, norm, eps, maxiter, disp, return_all, **unknown_options)\u001b[0m\n\u001b[1;32m   1025\u001b[0m         \u001b[0;32mtry\u001b[0m\u001b[0;34m:\u001b[0m\u001b[0;34m\u001b[0m\u001b[0;34m\u001b[0m\u001b[0m\n\u001b[1;32m   1026\u001b[0m             \u001b[0malpha_k\u001b[0m\u001b[0;34m,\u001b[0m \u001b[0mfc\u001b[0m\u001b[0;34m,\u001b[0m \u001b[0mgc\u001b[0m\u001b[0;34m,\u001b[0m \u001b[0mold_fval\u001b[0m\u001b[0;34m,\u001b[0m \u001b[0mold_old_fval\u001b[0m\u001b[0;34m,\u001b[0m \u001b[0mgfkp1\u001b[0m \u001b[0;34m=\u001b[0m\u001b[0;31m \u001b[0m\u001b[0;31m\\\u001b[0m\u001b[0;34m\u001b[0m\u001b[0;34m\u001b[0m\u001b[0m\n\u001b[0;32m-> 1027\u001b[0;31m                      _line_search_wolfe12(f, myfprime, xk, pk, gfk,\n\u001b[0m\u001b[1;32m   1028\u001b[0m                                           old_fval, old_old_fval, amin=1e-100, amax=1e100)\n\u001b[1;32m   1029\u001b[0m         \u001b[0;32mexcept\u001b[0m \u001b[0m_LineSearchError\u001b[0m\u001b[0;34m:\u001b[0m\u001b[0;34m\u001b[0m\u001b[0;34m\u001b[0m\u001b[0m\n",
      "\u001b[0;32m~/Anaconda3-Linux/lib/python3.8/site-packages/scipy/optimize/optimize.py\u001b[0m in \u001b[0;36m_line_search_wolfe12\u001b[0;34m(f, fprime, xk, pk, gfk, old_fval, old_old_fval, **kwargs)\u001b[0m\n\u001b[1;32m    841\u001b[0m     \u001b[0mextra_condition\u001b[0m \u001b[0;34m=\u001b[0m \u001b[0mkwargs\u001b[0m\u001b[0;34m.\u001b[0m\u001b[0mpop\u001b[0m\u001b[0;34m(\u001b[0m\u001b[0;34m'extra_condition'\u001b[0m\u001b[0;34m,\u001b[0m \u001b[0;32mNone\u001b[0m\u001b[0;34m)\u001b[0m\u001b[0;34m\u001b[0m\u001b[0;34m\u001b[0m\u001b[0m\n\u001b[1;32m    842\u001b[0m \u001b[0;34m\u001b[0m\u001b[0m\n\u001b[0;32m--> 843\u001b[0;31m     ret = line_search_wolfe1(f, fprime, xk, pk, gfk,\n\u001b[0m\u001b[1;32m    844\u001b[0m                              \u001b[0mold_fval\u001b[0m\u001b[0;34m,\u001b[0m \u001b[0mold_old_fval\u001b[0m\u001b[0;34m,\u001b[0m\u001b[0;34m\u001b[0m\u001b[0;34m\u001b[0m\u001b[0m\n\u001b[1;32m    845\u001b[0m                              **kwargs)\n",
      "\u001b[0;32m~/Anaconda3-Linux/lib/python3.8/site-packages/scipy/optimize/linesearch.py\u001b[0m in \u001b[0;36mline_search_wolfe1\u001b[0;34m(f, fprime, xk, pk, gfk, old_fval, old_old_fval, args, c1, c2, amax, amin, xtol)\u001b[0m\n\u001b[1;32m     97\u001b[0m     \u001b[0mderphi0\u001b[0m \u001b[0;34m=\u001b[0m \u001b[0mnp\u001b[0m\u001b[0;34m.\u001b[0m\u001b[0mdot\u001b[0m\u001b[0;34m(\u001b[0m\u001b[0mgfk\u001b[0m\u001b[0;34m,\u001b[0m \u001b[0mpk\u001b[0m\u001b[0;34m)\u001b[0m\u001b[0;34m\u001b[0m\u001b[0;34m\u001b[0m\u001b[0m\n\u001b[1;32m     98\u001b[0m \u001b[0;34m\u001b[0m\u001b[0m\n\u001b[0;32m---> 99\u001b[0;31m     stp, fval, old_fval = scalar_search_wolfe1(\n\u001b[0m\u001b[1;32m    100\u001b[0m             \u001b[0mphi\u001b[0m\u001b[0;34m,\u001b[0m \u001b[0mderphi\u001b[0m\u001b[0;34m,\u001b[0m \u001b[0mold_fval\u001b[0m\u001b[0;34m,\u001b[0m \u001b[0mold_old_fval\u001b[0m\u001b[0;34m,\u001b[0m \u001b[0mderphi0\u001b[0m\u001b[0;34m,\u001b[0m\u001b[0;34m\u001b[0m\u001b[0;34m\u001b[0m\u001b[0m\n\u001b[1;32m    101\u001b[0m             c1=c1, c2=c2, amax=amax, amin=amin, xtol=xtol)\n",
      "\u001b[0;32m~/Anaconda3-Linux/lib/python3.8/site-packages/scipy/optimize/linesearch.py\u001b[0m in \u001b[0;36mscalar_search_wolfe1\u001b[0;34m(phi, derphi, phi0, old_phi0, derphi0, c1, c2, amax, amin, xtol)\u001b[0m\n\u001b[1;32m    174\u001b[0m             \u001b[0malpha1\u001b[0m \u001b[0;34m=\u001b[0m \u001b[0mstp\u001b[0m\u001b[0;34m\u001b[0m\u001b[0;34m\u001b[0m\u001b[0m\n\u001b[1;32m    175\u001b[0m             \u001b[0mphi1\u001b[0m \u001b[0;34m=\u001b[0m \u001b[0mphi\u001b[0m\u001b[0;34m(\u001b[0m\u001b[0mstp\u001b[0m\u001b[0;34m)\u001b[0m\u001b[0;34m\u001b[0m\u001b[0;34m\u001b[0m\u001b[0m\n\u001b[0;32m--> 176\u001b[0;31m             \u001b[0mderphi1\u001b[0m \u001b[0;34m=\u001b[0m \u001b[0mderphi\u001b[0m\u001b[0;34m(\u001b[0m\u001b[0mstp\u001b[0m\u001b[0;34m)\u001b[0m\u001b[0;34m\u001b[0m\u001b[0;34m\u001b[0m\u001b[0m\n\u001b[0m\u001b[1;32m    177\u001b[0m         \u001b[0;32melse\u001b[0m\u001b[0;34m:\u001b[0m\u001b[0;34m\u001b[0m\u001b[0;34m\u001b[0m\u001b[0m\n\u001b[1;32m    178\u001b[0m             \u001b[0;32mbreak\u001b[0m\u001b[0;34m\u001b[0m\u001b[0;34m\u001b[0m\u001b[0m\n",
      "\u001b[0;32m~/Anaconda3-Linux/lib/python3.8/site-packages/scipy/optimize/linesearch.py\u001b[0m in \u001b[0;36mderphi\u001b[0;34m(s)\u001b[0m\n\u001b[1;32m     88\u001b[0m \u001b[0;34m\u001b[0m\u001b[0m\n\u001b[1;32m     89\u001b[0m     \u001b[0;32mdef\u001b[0m \u001b[0mderphi\u001b[0m\u001b[0;34m(\u001b[0m\u001b[0ms\u001b[0m\u001b[0;34m)\u001b[0m\u001b[0;34m:\u001b[0m\u001b[0;34m\u001b[0m\u001b[0;34m\u001b[0m\u001b[0m\n\u001b[0;32m---> 90\u001b[0;31m         \u001b[0mgval\u001b[0m\u001b[0;34m[\u001b[0m\u001b[0;36m0\u001b[0m\u001b[0;34m]\u001b[0m \u001b[0;34m=\u001b[0m \u001b[0mfprime\u001b[0m\u001b[0;34m(\u001b[0m\u001b[0mxk\u001b[0m \u001b[0;34m+\u001b[0m \u001b[0ms\u001b[0m\u001b[0;34m*\u001b[0m\u001b[0mpk\u001b[0m\u001b[0;34m,\u001b[0m \u001b[0;34m*\u001b[0m\u001b[0mnewargs\u001b[0m\u001b[0;34m)\u001b[0m\u001b[0;34m\u001b[0m\u001b[0;34m\u001b[0m\u001b[0m\n\u001b[0m\u001b[1;32m     91\u001b[0m         \u001b[0;32mif\u001b[0m \u001b[0mgradient\u001b[0m\u001b[0;34m:\u001b[0m\u001b[0;34m\u001b[0m\u001b[0;34m\u001b[0m\u001b[0m\n\u001b[1;32m     92\u001b[0m             \u001b[0mgc\u001b[0m\u001b[0;34m[\u001b[0m\u001b[0;36m0\u001b[0m\u001b[0;34m]\u001b[0m \u001b[0;34m+=\u001b[0m \u001b[0;36m1\u001b[0m\u001b[0;34m\u001b[0m\u001b[0;34m\u001b[0m\u001b[0m\n",
      "\u001b[0;32m~/Anaconda3-Linux/lib/python3.8/site-packages/scipy/optimize/optimize.py\u001b[0m in \u001b[0;36mfunction_wrapper\u001b[0;34m(*wrapper_args)\u001b[0m\n\u001b[1;32m    325\u001b[0m     \u001b[0;32mdef\u001b[0m \u001b[0mfunction_wrapper\u001b[0m\u001b[0;34m(\u001b[0m\u001b[0;34m*\u001b[0m\u001b[0mwrapper_args\u001b[0m\u001b[0;34m)\u001b[0m\u001b[0;34m:\u001b[0m\u001b[0;34m\u001b[0m\u001b[0;34m\u001b[0m\u001b[0m\n\u001b[1;32m    326\u001b[0m         \u001b[0mncalls\u001b[0m\u001b[0;34m[\u001b[0m\u001b[0;36m0\u001b[0m\u001b[0;34m]\u001b[0m \u001b[0;34m+=\u001b[0m \u001b[0;36m1\u001b[0m\u001b[0;34m\u001b[0m\u001b[0;34m\u001b[0m\u001b[0m\n\u001b[0;32m--> 327\u001b[0;31m         \u001b[0;32mreturn\u001b[0m \u001b[0mfunction\u001b[0m\u001b[0;34m(\u001b[0m\u001b[0;34m*\u001b[0m\u001b[0;34m(\u001b[0m\u001b[0mwrapper_args\u001b[0m \u001b[0;34m+\u001b[0m \u001b[0margs\u001b[0m\u001b[0;34m)\u001b[0m\u001b[0;34m)\u001b[0m\u001b[0;34m\u001b[0m\u001b[0;34m\u001b[0m\u001b[0m\n\u001b[0m\u001b[1;32m    328\u001b[0m \u001b[0;34m\u001b[0m\u001b[0m\n\u001b[1;32m    329\u001b[0m     \u001b[0;32mreturn\u001b[0m \u001b[0mncalls\u001b[0m\u001b[0;34m,\u001b[0m \u001b[0mfunction_wrapper\u001b[0m\u001b[0;34m\u001b[0m\u001b[0;34m\u001b[0m\u001b[0m\n",
      "\u001b[0;32m~/Anaconda3-Linux/lib/python3.8/site-packages/scipy/optimize/optimize.py\u001b[0m in \u001b[0;36mapprox_fprime\u001b[0;34m(xk, f, epsilon, *args)\u001b[0m\n\u001b[1;32m    763\u001b[0m \u001b[0;34m\u001b[0m\u001b[0m\n\u001b[1;32m    764\u001b[0m     \"\"\"\n\u001b[0;32m--> 765\u001b[0;31m     \u001b[0;32mreturn\u001b[0m \u001b[0m_approx_fprime_helper\u001b[0m\u001b[0;34m(\u001b[0m\u001b[0mxk\u001b[0m\u001b[0;34m,\u001b[0m \u001b[0mf\u001b[0m\u001b[0;34m,\u001b[0m \u001b[0mepsilon\u001b[0m\u001b[0;34m,\u001b[0m \u001b[0margs\u001b[0m\u001b[0;34m=\u001b[0m\u001b[0margs\u001b[0m\u001b[0;34m)\u001b[0m\u001b[0;34m\u001b[0m\u001b[0;34m\u001b[0m\u001b[0m\n\u001b[0m\u001b[1;32m    766\u001b[0m \u001b[0;34m\u001b[0m\u001b[0m\n\u001b[1;32m    767\u001b[0m \u001b[0;34m\u001b[0m\u001b[0m\n",
      "\u001b[0;32m~/Anaconda3-Linux/lib/python3.8/site-packages/scipy/optimize/optimize.py\u001b[0m in \u001b[0;36m_approx_fprime_helper\u001b[0;34m(xk, f, epsilon, args, f0)\u001b[0m\n\u001b[1;32m    695\u001b[0m         \u001b[0mei\u001b[0m\u001b[0;34m[\u001b[0m\u001b[0mk\u001b[0m\u001b[0;34m]\u001b[0m \u001b[0;34m=\u001b[0m \u001b[0;36m1.0\u001b[0m\u001b[0;34m\u001b[0m\u001b[0;34m\u001b[0m\u001b[0m\n\u001b[1;32m    696\u001b[0m         \u001b[0md\u001b[0m \u001b[0;34m=\u001b[0m \u001b[0mepsilon\u001b[0m \u001b[0;34m*\u001b[0m \u001b[0mei\u001b[0m\u001b[0;34m\u001b[0m\u001b[0;34m\u001b[0m\u001b[0m\n\u001b[0;32m--> 697\u001b[0;31m         \u001b[0mdf\u001b[0m \u001b[0;34m=\u001b[0m \u001b[0;34m(\u001b[0m\u001b[0mf\u001b[0m\u001b[0;34m(\u001b[0m\u001b[0;34m*\u001b[0m\u001b[0;34m(\u001b[0m\u001b[0;34m(\u001b[0m\u001b[0mxk\u001b[0m \u001b[0;34m+\u001b[0m \u001b[0md\u001b[0m\u001b[0;34m,\u001b[0m\u001b[0;34m)\u001b[0m \u001b[0;34m+\u001b[0m \u001b[0margs\u001b[0m\u001b[0;34m)\u001b[0m\u001b[0;34m)\u001b[0m \u001b[0;34m-\u001b[0m \u001b[0mf0\u001b[0m\u001b[0;34m)\u001b[0m \u001b[0;34m/\u001b[0m \u001b[0md\u001b[0m\u001b[0;34m[\u001b[0m\u001b[0mk\u001b[0m\u001b[0;34m]\u001b[0m\u001b[0;34m\u001b[0m\u001b[0;34m\u001b[0m\u001b[0m\n\u001b[0m\u001b[1;32m    698\u001b[0m         \u001b[0;32mif\u001b[0m \u001b[0;32mnot\u001b[0m \u001b[0mnp\u001b[0m\u001b[0;34m.\u001b[0m\u001b[0misscalar\u001b[0m\u001b[0;34m(\u001b[0m\u001b[0mdf\u001b[0m\u001b[0;34m)\u001b[0m\u001b[0;34m:\u001b[0m\u001b[0;34m\u001b[0m\u001b[0;34m\u001b[0m\u001b[0m\n\u001b[1;32m    699\u001b[0m             \u001b[0;32mtry\u001b[0m\u001b[0;34m:\u001b[0m\u001b[0;34m\u001b[0m\u001b[0;34m\u001b[0m\u001b[0m\n",
      "\u001b[0;32m~/Anaconda3-Linux/lib/python3.8/site-packages/scipy/optimize/optimize.py\u001b[0m in \u001b[0;36mfunction_wrapper\u001b[0;34m(*wrapper_args)\u001b[0m\n\u001b[1;32m    325\u001b[0m     \u001b[0;32mdef\u001b[0m \u001b[0mfunction_wrapper\u001b[0m\u001b[0;34m(\u001b[0m\u001b[0;34m*\u001b[0m\u001b[0mwrapper_args\u001b[0m\u001b[0;34m)\u001b[0m\u001b[0;34m:\u001b[0m\u001b[0;34m\u001b[0m\u001b[0;34m\u001b[0m\u001b[0m\n\u001b[1;32m    326\u001b[0m         \u001b[0mncalls\u001b[0m\u001b[0;34m[\u001b[0m\u001b[0;36m0\u001b[0m\u001b[0;34m]\u001b[0m \u001b[0;34m+=\u001b[0m \u001b[0;36m1\u001b[0m\u001b[0;34m\u001b[0m\u001b[0;34m\u001b[0m\u001b[0m\n\u001b[0;32m--> 327\u001b[0;31m         \u001b[0;32mreturn\u001b[0m \u001b[0mfunction\u001b[0m\u001b[0;34m(\u001b[0m\u001b[0;34m*\u001b[0m\u001b[0;34m(\u001b[0m\u001b[0mwrapper_args\u001b[0m \u001b[0;34m+\u001b[0m \u001b[0margs\u001b[0m\u001b[0;34m)\u001b[0m\u001b[0;34m)\u001b[0m\u001b[0;34m\u001b[0m\u001b[0;34m\u001b[0m\u001b[0m\n\u001b[0m\u001b[1;32m    328\u001b[0m \u001b[0;34m\u001b[0m\u001b[0m\n\u001b[1;32m    329\u001b[0m     \u001b[0;32mreturn\u001b[0m \u001b[0mncalls\u001b[0m\u001b[0;34m,\u001b[0m \u001b[0mfunction_wrapper\u001b[0m\u001b[0;34m\u001b[0m\u001b[0;34m\u001b[0m\u001b[0m\n",
      "\u001b[0;32m<ipython-input-3-8aaf4c4bb9a1>\u001b[0m in \u001b[0;36mEnergy\u001b[0;34m(params)\u001b[0m\n\u001b[1;32m     79\u001b[0m     \u001b[0;32mreturn\u001b[0m \u001b[0mres\u001b[0m\u001b[0;34m\u001b[0m\u001b[0;34m\u001b[0m\u001b[0m\n\u001b[1;32m     80\u001b[0m \u001b[0;32mdef\u001b[0m \u001b[0mEnergy\u001b[0m\u001b[0;34m(\u001b[0m\u001b[0mparams\u001b[0m\u001b[0;34m)\u001b[0m\u001b[0;34m:\u001b[0m\u001b[0;34m\u001b[0m\u001b[0;34m\u001b[0m\u001b[0m\n\u001b[0;32m---> 81\u001b[0;31m     \u001b[0mcirc\u001b[0m\u001b[0;34m=\u001b[0m\u001b[0mvar_form_base\u001b[0m\u001b[0;34m.\u001b[0m\u001b[0mconstruct_circuit\u001b[0m\u001b[0;34m(\u001b[0m\u001b[0mparameters\u001b[0m\u001b[0;34m=\u001b[0m\u001b[0mparams\u001b[0m\u001b[0;34m)\u001b[0m\u001b[0;34m\u001b[0m\u001b[0;34m\u001b[0m\u001b[0m\n\u001b[0m\u001b[1;32m     82\u001b[0m     \u001b[0mstate\u001b[0m\u001b[0;34m=\u001b[0m\u001b[0mexecute\u001b[0m\u001b[0;34m(\u001b[0m\u001b[0mcirc\u001b[0m\u001b[0;34m,\u001b[0m\u001b[0mbackend\u001b[0m\u001b[0;34m,\u001b[0m\u001b[0mshots\u001b[0m\u001b[0;34m=\u001b[0m\u001b[0;36m1024\u001b[0m\u001b[0;34m)\u001b[0m\u001b[0;34m.\u001b[0m\u001b[0mresult\u001b[0m\u001b[0;34m(\u001b[0m\u001b[0;34m)\u001b[0m\u001b[0;34m.\u001b[0m\u001b[0mget_statevector\u001b[0m\u001b[0;34m(\u001b[0m\u001b[0;34m)\u001b[0m\u001b[0;34m\u001b[0m\u001b[0;34m\u001b[0m\u001b[0m\n\u001b[1;32m     83\u001b[0m     \u001b[0mE\u001b[0m\u001b[0;34m=\u001b[0m\u001b[0;34m(\u001b[0m\u001b[0mnumpy\u001b[0m\u001b[0;34m.\u001b[0m\u001b[0mconjugate\u001b[0m\u001b[0;34m(\u001b[0m\u001b[0mstate\u001b[0m\u001b[0;34m)\u001b[0m\u001b[0;34m@\u001b[0m\u001b[0mHmat\u001b[0m\u001b[0;34m@\u001b[0m\u001b[0mstate\u001b[0m\u001b[0;34m)\u001b[0m\u001b[0;34m.\u001b[0m\u001b[0mreal\u001b[0m\u001b[0;34m\u001b[0m\u001b[0;34m\u001b[0m\u001b[0m\n",
      "\u001b[0;32m~/Anaconda3-Linux/lib/python3.8/site-packages/qiskit/chemistry/components/variational_forms/uccsd.py\u001b[0m in \u001b[0;36mconstruct_circuit\u001b[0;34m(self, parameters, q)\u001b[0m\n\u001b[1;32m    418\u001b[0m         \u001b[0;31m# return circuit\u001b[0m\u001b[0;34m\u001b[0m\u001b[0;34m\u001b[0m\u001b[0;34m\u001b[0m\u001b[0m\n\u001b[1;32m    419\u001b[0m \u001b[0;34m\u001b[0m\u001b[0m\n\u001b[0;32m--> 420\u001b[0;31m         results = parallel_map(UCCSD._construct_circuit_for_one_excited_operator,\n\u001b[0m\u001b[1;32m    421\u001b[0m                                \u001b[0mlist_excitation_operators\u001b[0m\u001b[0;34m,\u001b[0m\u001b[0;34m\u001b[0m\u001b[0;34m\u001b[0m\u001b[0m\n\u001b[1;32m    422\u001b[0m                                \u001b[0mtask_args\u001b[0m\u001b[0;34m=\u001b[0m\u001b[0;34m(\u001b[0m\u001b[0mq\u001b[0m\u001b[0;34m,\u001b[0m \u001b[0mself\u001b[0m\u001b[0;34m.\u001b[0m\u001b[0m_num_time_slices\u001b[0m\u001b[0;34m)\u001b[0m\u001b[0;34m,\u001b[0m\u001b[0;34m\u001b[0m\u001b[0;34m\u001b[0m\u001b[0m\n",
      "\u001b[0;32m~/Anaconda3-Linux/lib/python3.8/site-packages/qiskit/tools/parallel.py\u001b[0m in \u001b[0;36mparallel_map\u001b[0;34m(task, values, task_args, task_kwargs, num_processes)\u001b[0m\n\u001b[1;32m    152\u001b[0m                 \u001b[0mPublisher\u001b[0m\u001b[0;34m(\u001b[0m\u001b[0;34m)\u001b[0m\u001b[0;34m.\u001b[0m\u001b[0mpublish\u001b[0m\u001b[0;34m(\u001b[0m\u001b[0;34m\"terra.parallel.finish\"\u001b[0m\u001b[0;34m)\u001b[0m\u001b[0;34m\u001b[0m\u001b[0;34m\u001b[0m\u001b[0m\n\u001b[1;32m    153\u001b[0m                 \u001b[0mos\u001b[0m\u001b[0;34m.\u001b[0m\u001b[0menviron\u001b[0m\u001b[0;34m[\u001b[0m\u001b[0;34m'QISKIT_IN_PARALLEL'\u001b[0m\u001b[0;34m]\u001b[0m \u001b[0;34m=\u001b[0m \u001b[0;34m'FALSE'\u001b[0m\u001b[0;34m\u001b[0m\u001b[0;34m\u001b[0m\u001b[0m\n\u001b[0;32m--> 154\u001b[0;31m                 \u001b[0;32mraise\u001b[0m \u001b[0mQiskitError\u001b[0m\u001b[0;34m(\u001b[0m\u001b[0;34m'Keyboard interrupt in parallel_map.'\u001b[0m\u001b[0;34m)\u001b[0m \u001b[0;32mfrom\u001b[0m \u001b[0merror\u001b[0m\u001b[0;34m\u001b[0m\u001b[0;34m\u001b[0m\u001b[0m\n\u001b[0m\u001b[1;32m    155\u001b[0m             \u001b[0;31m# Otherwise just reset parallel flag and error\u001b[0m\u001b[0;34m\u001b[0m\u001b[0;34m\u001b[0m\u001b[0;34m\u001b[0m\u001b[0m\n\u001b[1;32m    156\u001b[0m             \u001b[0mos\u001b[0m\u001b[0;34m.\u001b[0m\u001b[0menviron\u001b[0m\u001b[0;34m[\u001b[0m\u001b[0;34m'QISKIT_IN_PARALLEL'\u001b[0m\u001b[0;34m]\u001b[0m \u001b[0;34m=\u001b[0m \u001b[0;34m'FALSE'\u001b[0m\u001b[0;34m\u001b[0m\u001b[0;34m\u001b[0m\u001b[0m\n",
      "\u001b[0;31mQiskitError\u001b[0m: 'Keyboard interrupt in parallel_map.'"
     ]
    }
   ],
   "source": [
    "save_steps=True\n",
    "res=scipy.optimize.minimize(Energy,params,method='BFGS',options={'ftol':1e-7})\n",
    "params,E=list(res['x']),res['fun']"
   ]
  },
  {
   "cell_type": "code",
   "execution_count": null,
   "metadata": {
    "scrolled": true
   },
   "outputs": [
    {
     "name": "stderr",
     "output_type": "stream",
     "text": [
      "[Parallel(n_jobs=7)]: Using backend LokyBackend with 7 concurrent workers.\n"
     ]
    },
    {
     "name": "stdout",
     "output_type": "stream",
     "text": [
      "three highest grads -0.008892592605310431 -0.007382634264750995 0.00651677432365276\n",
      "chosen Op IYIIIX\n"
     ]
    },
    {
     "name": "stderr",
     "output_type": "stream",
     "text": [
      "[Parallel(n_jobs=7)]: Done  12 out of  16 | elapsed:    1.4s remaining:    0.5s\n",
      "[Parallel(n_jobs=7)]: Done  16 out of  16 | elapsed:    1.4s finished\n"
     ]
    },
    {
     "name": "stdout",
     "output_type": "stream",
     "text": [
      "looped 1 times\n",
      "inner loop error 1.2765394117764117e-05\n",
      "looped 2 times\n",
      "inner loop error 9.866297087768316e-06\n",
      "looped 3 times\n",
      "inner loop error 8.528910587557448e-06\n",
      "looped 4 times\n",
      "inner loop error 8.129987207894374e-06\n",
      "looped 5 times\n",
      "inner loop error 7.879447554870467e-06\n",
      "looped 6 times\n",
      "inner loop error 7.674756556497186e-06\n",
      "looped 7 times\n",
      "inner loop error 7.4985967764007455e-06\n",
      "looped 8 times\n",
      "inner loop error 7.346826464527112e-06\n",
      "looped 9 times\n",
      "inner loop error 7.216430532253071e-06\n",
      "looped 10 times\n",
      "inner loop error 7.1042730702686185e-06\n",
      "looped 11 times\n",
      "inner loop error 7.007366953359906e-06\n",
      "looped 12 times\n",
      "inner loop error 6.923091454780206e-06\n",
      "looped 13 times\n",
      "inner loop error 6.849235607120363e-06\n",
      "looped 14 times\n",
      "inner loop error 6.783958660605549e-06\n",
      "looped 15 times\n",
      "inner loop error 6.725732788481764e-06\n",
      "looped 16 times\n",
      "inner loop error 6.673291814252025e-06\n",
      "looped 17 times\n",
      "inner loop error 6.625588611086641e-06\n",
      "looped 18 times\n",
      "inner loop error 6.581760189305896e-06\n",
      "looped 19 times\n",
      "inner loop error 6.54109775410916e-06\n",
      "looped 20 times\n",
      "inner loop error 6.503021033665846e-06\n",
      "looped 21 times\n",
      "inner loop error 6.4670562345270355e-06\n",
      "looped 22 times\n",
      "inner loop error 6.432816988422019e-06\n",
      "looped 23 times\n",
      "inner loop error 6.399988624394837e-06\n",
      "looped 24 times\n",
      "inner loop error 6.368314760862859e-06\n",
      "looped 25 times\n",
      "inner loop error 6.337586455629207e-06\n",
      "looped 26 times\n",
      "inner loop error 6.30763328501871e-06\n",
      "looped 27 times\n",
      "inner loop error 6.2783160572621455e-06\n",
      "looped 28 times\n",
      "inner loop error 6.2495208688062576e-06\n",
      "looped 29 times\n",
      "inner loop error 6.2211544644696914e-06\n",
      "num_params 33\n",
      "Energy -19.18498504079235\n",
      "time elapsed 10677.589473962784\n"
     ]
    },
    {
     "name": "stderr",
     "output_type": "stream",
     "text": [
      "[Parallel(n_jobs=7)]: Using backend LokyBackend with 7 concurrent workers.\n"
     ]
    },
    {
     "name": "stdout",
     "output_type": "stream",
     "text": [
      "three highest grads -3.6297674668014836e-06 -3.44989483080059e-06 2.8569331678148045e-06\n",
      "chosen Op YXXIIX\n"
     ]
    },
    {
     "name": "stderr",
     "output_type": "stream",
     "text": [
      "[Parallel(n_jobs=7)]: Done  12 out of  16 | elapsed:    1.2s remaining:    0.4s\n",
      "[Parallel(n_jobs=7)]: Done  16 out of  16 | elapsed:    1.2s finished\n"
     ]
    },
    {
     "name": "stdout",
     "output_type": "stream",
     "text": [
      "looped 1 times\n",
      "inner loop error 6.306066779870889e-12\n",
      "num_params 34\n",
      "Energy -19.18498504079866\n",
      "time elapsed 10911.22102189064\n",
      "three highest grads -3.3427875841902845e-06 2.9323293449937463e-06 -2.4417471854868214e-06\n",
      "chosen Op XXYIIX\n"
     ]
    },
    {
     "name": "stderr",
     "output_type": "stream",
     "text": [
      "[Parallel(n_jobs=7)]: Using backend LokyBackend with 7 concurrent workers.\n",
      "[Parallel(n_jobs=7)]: Done  12 out of  16 | elapsed:    0.0s remaining:    0.0s\n",
      "[Parallel(n_jobs=7)]: Done  16 out of  16 | elapsed:    0.0s finished\n"
     ]
    },
    {
     "name": "stdout",
     "output_type": "stream",
     "text": [
      "looped 1 times\n",
      "inner loop error 4.266809128239402e-12\n",
      "num_params 35\n",
      "Energy -19.18498504080292\n",
      "time elapsed 11161.109067678452\n",
      "three highest grads 3.5195183525657363e-06 2.9606133144901084e-06 -2.9167747158235537e-06\n",
      "chosen Op IIYIIX\n"
     ]
    },
    {
     "name": "stderr",
     "output_type": "stream",
     "text": [
      "[Parallel(n_jobs=7)]: Using backend LokyBackend with 7 concurrent workers.\n",
      "[Parallel(n_jobs=7)]: Done  12 out of  16 | elapsed:    0.0s remaining:    0.0s\n",
      "[Parallel(n_jobs=7)]: Done  16 out of  16 | elapsed:    0.0s finished\n"
     ]
    },
    {
     "name": "stdout",
     "output_type": "stream",
     "text": [
      "looped 1 times\n",
      "inner loop error 3.701927653310122e-12\n",
      "num_params 36\n",
      "Energy -19.184985040806637\n",
      "time elapsed 11427.840276002884\n",
      "three highest grads -2.8468230625932657e-06 2.327704267720415e-06 2.0988182121983723e-06\n",
      "chosen Op IIIYXI\n"
     ]
    },
    {
     "name": "stderr",
     "output_type": "stream",
     "text": [
      "[Parallel(n_jobs=7)]: Using backend LokyBackend with 7 concurrent workers.\n",
      "[Parallel(n_jobs=7)]: Done  12 out of  16 | elapsed:    0.0s remaining:    0.0s\n",
      "[Parallel(n_jobs=7)]: Done  16 out of  16 | elapsed:    0.0s finished\n"
     ]
    },
    {
     "name": "stdout",
     "output_type": "stream",
     "text": [
      "looped 1 times\n",
      "inner loop error 3.61666252501891e-12\n",
      "num_params 37\n",
      "Energy -19.184985040810258\n",
      "time elapsed 11713.090771436691\n",
      "three highest grads 2.480023050601375e-06 2.4782653835838005e-06 2.440080397938995e-06\n",
      "chosen Op IIIIXY\n"
     ]
    },
    {
     "name": "stderr",
     "output_type": "stream",
     "text": [
      "[Parallel(n_jobs=7)]: Using backend LokyBackend with 7 concurrent workers.\n",
      "[Parallel(n_jobs=7)]: Done  12 out of  16 | elapsed:    0.0s remaining:    0.0s\n",
      "[Parallel(n_jobs=7)]: Done  16 out of  16 | elapsed:    0.0s finished\n"
     ]
    },
    {
     "name": "stdout",
     "output_type": "stream",
     "text": [
      "looped 1 times\n",
      "inner loop error 3.716138508025324e-12\n",
      "num_params 38\n",
      "Energy -19.18498504081398\n",
      "time elapsed 12043.354196310043\n"
     ]
    },
    {
     "name": "stderr",
     "output_type": "stream",
     "text": [
      "[Parallel(n_jobs=7)]: Using backend LokyBackend with 7 concurrent workers.\n"
     ]
    },
    {
     "name": "stdout",
     "output_type": "stream",
     "text": [
      "three highest grads 2.1476685087202553e-06 -2.022215262435876e-06 1.907949200124961e-06\n",
      "chosen Op IIXYXX\n"
     ]
    },
    {
     "name": "stderr",
     "output_type": "stream",
     "text": [
      "[Parallel(n_jobs=7)]: Done  12 out of  16 | elapsed:    0.7s remaining:    0.2s\n",
      "[Parallel(n_jobs=7)]: Done  16 out of  16 | elapsed:    0.8s finished\n"
     ]
    },
    {
     "name": "stdout",
     "output_type": "stream",
     "text": [
      "looped 1 times\n",
      "inner loop error 3.3928415632544784e-12\n",
      "num_params 39\n",
      "Energy -19.18498504081738\n",
      "time elapsed 12423.71296453476\n"
     ]
    },
    {
     "name": "stderr",
     "output_type": "stream",
     "text": [
      "[Parallel(n_jobs=7)]: Using backend LokyBackend with 7 concurrent workers.\n"
     ]
    },
    {
     "name": "stdout",
     "output_type": "stream",
     "text": [
      "three highest grads -2.2884023540611226e-06 1.6248289922485282e-06 -1.42127975095779e-06\n",
      "chosen Op XXYIIX\n"
     ]
    },
    {
     "name": "stderr",
     "output_type": "stream",
     "text": [
      "[Parallel(n_jobs=7)]: Done  12 out of  16 | elapsed:    0.7s remaining:    0.2s\n",
      "[Parallel(n_jobs=7)]: Done  16 out of  16 | elapsed:    0.7s finished\n"
     ]
    },
    {
     "name": "stdout",
     "output_type": "stream",
     "text": [
      "looped 1 times\n",
      "inner loop error 3.481659405224491e-12\n",
      "num_params 40\n",
      "Energy -19.18498504082087\n",
      "time elapsed 12830.093431472778\n"
     ]
    },
    {
     "name": "stderr",
     "output_type": "stream",
     "text": [
      "[Parallel(n_jobs=7)]: Using backend LokyBackend with 7 concurrent workers.\n"
     ]
    },
    {
     "name": "stdout",
     "output_type": "stream",
     "text": [
      "three highest grads 2.5306046966665913e-06 1.771974051506791e-06 -1.5916408426560735e-06\n",
      "chosen Op IIXXXY\n"
     ]
    },
    {
     "name": "stderr",
     "output_type": "stream",
     "text": [
      "[Parallel(n_jobs=7)]: Done  12 out of  16 | elapsed:    0.7s remaining:    0.2s\n",
      "[Parallel(n_jobs=7)]: Done  16 out of  16 | elapsed:    0.8s finished\n"
     ]
    },
    {
     "name": "stdout",
     "output_type": "stream",
     "text": [
      "looped 1 times\n",
      "inner loop error 3.1086244689504383e-12\n",
      "num_params 41\n",
      "Energy -19.184985040823985\n",
      "time elapsed 13265.739329099655\n"
     ]
    },
    {
     "name": "stderr",
     "output_type": "stream",
     "text": [
      "[Parallel(n_jobs=7)]: Using backend LokyBackend with 7 concurrent workers.\n"
     ]
    },
    {
     "name": "stdout",
     "output_type": "stream",
     "text": [
      "three highest grads -1.9676867543390146e-06 -1.6360746994490555e-06 1.3076838200204444e-06\n",
      "chosen Op YXXIIX\n"
     ]
    },
    {
     "name": "stderr",
     "output_type": "stream",
     "text": [
      "[Parallel(n_jobs=7)]: Done  12 out of  16 | elapsed:    0.7s remaining:    0.2s\n",
      "[Parallel(n_jobs=7)]: Done  16 out of  16 | elapsed:    0.8s finished\n"
     ]
    },
    {
     "name": "stdout",
     "output_type": "stream",
     "text": [
      "looped 1 times\n",
      "inner loop error 2.8173019472887972e-12\n",
      "num_params 42\n",
      "Energy -19.184985040826803\n",
      "time elapsed 13730.975865602493\n"
     ]
    },
    {
     "name": "stderr",
     "output_type": "stream",
     "text": [
      "[Parallel(n_jobs=7)]: Using backend LokyBackend with 7 concurrent workers.\n"
     ]
    },
    {
     "name": "stdout",
     "output_type": "stream",
     "text": [
      "three highest grads -1.646150324833423e-06 1.3306894918541437e-06 1.3242939259213923e-06\n",
      "chosen Op XXYIIX\n"
     ]
    },
    {
     "name": "stderr",
     "output_type": "stream",
     "text": [
      "[Parallel(n_jobs=7)]: Done  12 out of  16 | elapsed:    0.7s remaining:    0.2s\n",
      "[Parallel(n_jobs=7)]: Done  16 out of  16 | elapsed:    0.8s finished\n"
     ]
    },
    {
     "name": "stdout",
     "output_type": "stream",
     "text": [
      "looped 1 times\n",
      "inner loop error 2.3163693185779266e-12\n",
      "num_params 43\n",
      "Energy -19.18498504082911\n",
      "time elapsed 14227.814552545547\n"
     ]
    },
    {
     "name": "stderr",
     "output_type": "stream",
     "text": [
      "[Parallel(n_jobs=7)]: Using backend LokyBackend with 7 concurrent workers.\n"
     ]
    },
    {
     "name": "stdout",
     "output_type": "stream",
     "text": [
      "three highest grads 1.4814956310702648e-06 1.3083922400926144e-06 1.2023794478859332e-06\n",
      "chosen Op IIXYXX\n"
     ]
    },
    {
     "name": "stderr",
     "output_type": "stream",
     "text": [
      "[Parallel(n_jobs=7)]: Done  12 out of  16 | elapsed:    0.7s remaining:    0.2s\n",
      "[Parallel(n_jobs=7)]: Done  16 out of  16 | elapsed:    0.8s finished\n"
     ]
    },
    {
     "name": "stdout",
     "output_type": "stream",
     "text": [
      "looped 1 times\n",
      "inner loop error 1.9255708139098715e-12\n",
      "num_params 44\n",
      "Energy -19.184985040831045\n",
      "time elapsed 14756.69617652893\n"
     ]
    },
    {
     "name": "stderr",
     "output_type": "stream",
     "text": [
      "[Parallel(n_jobs=7)]: Using backend LokyBackend with 7 concurrent workers.\n"
     ]
    },
    {
     "name": "stdout",
     "output_type": "stream",
     "text": [
      "three highest grads 1.2724886525945951e-06 -9.714776339664506e-07 8.924473352944079e-07\n",
      "chosen Op IIXXXY\n"
     ]
    },
    {
     "name": "stderr",
     "output_type": "stream",
     "text": [
      "[Parallel(n_jobs=7)]: Done  12 out of  16 | elapsed:    0.7s remaining:    0.2s\n",
      "[Parallel(n_jobs=7)]: Done  16 out of  16 | elapsed:    0.8s finished\n"
     ]
    },
    {
     "name": "stdout",
     "output_type": "stream",
     "text": [
      "looped 1 times\n",
      "inner loop error 1.8687273950490635e-12\n",
      "num_params 45\n",
      "Energy -19.184985040832927\n",
      "time elapsed 15327.487978458405\n"
     ]
    },
    {
     "name": "stderr",
     "output_type": "stream",
     "text": [
      "[Parallel(n_jobs=7)]: Using backend LokyBackend with 7 concurrent workers.\n"
     ]
    },
    {
     "name": "stdout",
     "output_type": "stream",
     "text": [
      "three highest grads -9.839315012860183e-07 -7.911608273505552e-07 7.869347157397205e-07\n",
      "chosen Op XXYIIX\n"
     ]
    },
    {
     "name": "stderr",
     "output_type": "stream",
     "text": [
      "[Parallel(n_jobs=7)]: Done  12 out of  16 | elapsed:    0.7s remaining:    0.2s\n",
      "[Parallel(n_jobs=7)]: Done  16 out of  16 | elapsed:    0.8s finished\n"
     ]
    },
    {
     "name": "stdout",
     "output_type": "stream",
     "text": [
      "looped 1 times\n",
      "inner loop error 1.6555645743210334e-12\n",
      "num_params 46\n",
      "Energy -19.18498504083459\n",
      "time elapsed 15935.8300614357\n"
     ]
    },
    {
     "name": "stderr",
     "output_type": "stream",
     "text": [
      "[Parallel(n_jobs=7)]: Using backend LokyBackend with 7 concurrent workers.\n"
     ]
    },
    {
     "name": "stdout",
     "output_type": "stream",
     "text": [
      "three highest grads -8.567171008878188e-07 -7.522577649512249e-07 7.188103683213043e-07\n",
      "chosen Op YXIIII\n"
     ]
    },
    {
     "name": "stderr",
     "output_type": "stream",
     "text": [
      "[Parallel(n_jobs=7)]: Done  12 out of  16 | elapsed:    0.7s remaining:    0.2s\n",
      "[Parallel(n_jobs=7)]: Done  16 out of  16 | elapsed:    0.8s finished\n"
     ]
    },
    {
     "name": "stdout",
     "output_type": "stream",
     "text": [
      "looped 1 times\n",
      "inner loop error 1.4495071809506044e-12\n",
      "num_params 47\n",
      "Energy -19.18498504083604\n",
      "time elapsed 16580.91321873665\n"
     ]
    },
    {
     "name": "stderr",
     "output_type": "stream",
     "text": [
      "[Parallel(n_jobs=7)]: Using backend LokyBackend with 7 concurrent workers.\n"
     ]
    },
    {
     "name": "stdout",
     "output_type": "stream",
     "text": [
      "three highest grads 8.730302005354081e-07 7.751640524497443e-07 5.878228694919732e-07\n",
      "chosen Op XYIIII\n"
     ]
    },
    {
     "name": "stderr",
     "output_type": "stream",
     "text": [
      "[Parallel(n_jobs=7)]: Done  12 out of  16 | elapsed:    3.8s remaining:    1.3s\n",
      "[Parallel(n_jobs=7)]: Done  16 out of  16 | elapsed:    3.8s finished\n"
     ]
    },
    {
     "name": "stdout",
     "output_type": "stream",
     "text": [
      "looped 1 times\n",
      "inner loop error 1.3855583347321954e-12\n",
      "num_params 48\n",
      "Energy -19.184985040837418\n",
      "time elapsed 17226.680579423904\n"
     ]
    },
    {
     "name": "stderr",
     "output_type": "stream",
     "text": [
      "[Parallel(n_jobs=7)]: Using backend LokyBackend with 7 concurrent workers.\n"
     ]
    },
    {
     "name": "stdout",
     "output_type": "stream",
     "text": [
      "three highest grads 7.501900409602816e-07 6.83572885850324e-07 -6.091162669807915e-07\n",
      "chosen Op IIIIYX\n"
     ]
    },
    {
     "name": "stderr",
     "output_type": "stream",
     "text": [
      "[Parallel(n_jobs=7)]: Done  12 out of  16 | elapsed:    0.7s remaining:    0.2s\n",
      "[Parallel(n_jobs=7)]: Done  16 out of  16 | elapsed:    0.7s finished\n"
     ]
    },
    {
     "name": "stdout",
     "output_type": "stream",
     "text": [
      "looped 1 times\n",
      "inner loop error 1.1688428003253648e-12\n",
      "num_params 49\n",
      "Energy -19.18498504083859\n",
      "time elapsed 17904.832891702652\n"
     ]
    },
    {
     "name": "stderr",
     "output_type": "stream",
     "text": [
      "[Parallel(n_jobs=7)]: Using backend LokyBackend with 7 concurrent workers.\n"
     ]
    },
    {
     "name": "stdout",
     "output_type": "stream",
     "text": [
      "three highest grads 9.516151289333703e-07 5.546797838553406e-07 -5.008738554156122e-07\n",
      "chosen Op IXYIII\n"
     ]
    },
    {
     "name": "stderr",
     "output_type": "stream",
     "text": [
      "[Parallel(n_jobs=7)]: Done  12 out of  16 | elapsed:    0.7s remaining:    0.2s\n",
      "[Parallel(n_jobs=7)]: Done  16 out of  16 | elapsed:    0.8s finished\n"
     ]
    },
    {
     "name": "stdout",
     "output_type": "stream",
     "text": [
      "looped 1 times\n",
      "inner loop error 1.0764722446765518e-12\n",
      "num_params 50\n",
      "Energy -19.18498504083966\n",
      "time elapsed 18629.352301836014\n"
     ]
    },
    {
     "name": "stderr",
     "output_type": "stream",
     "text": [
      "[Parallel(n_jobs=7)]: Using backend LokyBackend with 7 concurrent workers.\n"
     ]
    },
    {
     "name": "stdout",
     "output_type": "stream",
     "text": [
      "three highest grads 7.141661899617152e-07 -5.597696412676205e-07 -4.0834884379014474e-07\n",
      "chosen Op IIXIYI\n"
     ]
    },
    {
     "name": "stderr",
     "output_type": "stream",
     "text": [
      "[Parallel(n_jobs=7)]: Done  12 out of  16 | elapsed:    0.7s remaining:    0.2s\n",
      "[Parallel(n_jobs=7)]: Done  16 out of  16 | elapsed:    0.8s finished\n"
     ]
    },
    {
     "name": "stdout",
     "output_type": "stream",
     "text": [
      "looped 1 times\n",
      "inner loop error 9.592326932761353e-13\n"
     ]
    }
   ],
   "source": [
    "# params=[]\n",
    "EnergyArr=[]\n",
    "# ExcOps=[]\n",
    "ti=time.time()\n",
    "steps=35\n",
    "for i in range(35):\n",
    "    save_steps=False\n",
    "    circ=var_form_base.construct_circuit(parameters=params)\n",
    "    state=execute(circ,backend,shots=1024).result().get_statevector()\n",
    "    grads=numpy.array(Parallel(n_jobs=7,verbose=2)(delayed(compute_gradient)(MatrixRepOfPoolOps[i],state) for i in range(len(commutator_pool))))#qubit_pool_UCCSD))))#\n",
    "    indexes=numpy.argsort(abs(grads))[::-1][:3]\n",
    "    print(\"three highest grads\",grads[indexes[0]],grads[indexes[1]],grads[indexes[2]])\n",
    "    PauliOp=commutator_pool[indexes[0]]\n",
    "    ExcOps.append(PauliOp.paulis[0][1].to_label())\n",
    "    print(\"chosen Op\",ExcOps[-1])\n",
    "    with open('paramsForQubitAdapt_eg_model_parity.txt','a') as f:\n",
    "        print(\"label-\",ExcOps[-1],file=f)\n",
    "    params.append(0.0)\n",
    "    var_form_base.push_hopping_operator(PauliOp)\n",
    "    #construct circuit for estimating Hamiltonian\n",
    "    circ=var_form_base.construct_circuit(parameters=params)\n",
    "    res=SMO(Energy,params,runs=30,tol=1e-6,save_opt_steps=True)\n",
    "    E,params=res['fun'],list(res['x'])\n",
    "    save_steps=True\n",
    "    res=scipy.optimize.minimize(Energy,params,method='BFGS',options={'ftol':1e-7})\n",
    "    params,E=list(res['x']),res['fun']\n",
    "    print(\"num_params\",var_form_base.num_parameters)\n",
    "    print(\"Energy\",E)\n",
    "    EnergyArr.append(E)\n",
    "    print(\"time elapsed\",time.time()-ti)    \n",
    "    error=EnergyArr[-1]-Eg"
   ]
  },
  {
   "cell_type": "code",
   "execution_count": 2,
   "metadata": {},
   "outputs": [],
   "source": [
    "params_arr=[]\n",
    "Labels_arr=[]\n",
    "Energy_arr=[]\n",
    "count=0\n",
    "with open('paramsForQubitAdapt_eg_model_parity.txt','r') as f:\n",
    "    lines=f.readlines()\n",
    "    for i in range(len(lines)):\n",
    "        if lines[i][0]=='l':\n",
    "            count=count+1\n",
    "            label=lines[i].split('-')[1][1:-1]\n",
    "            Labels_arr.append(label)\n",
    "            if count>1:\n",
    "                params,E=lines[i-1].split('#')\n",
    "                params_arr.append(eval(params))\n",
    "                Energy_arr.append(float(E))\n",
    "    params_arr.append(eval(lines[-1]))\n",
    "    Energy_arr.append(float(lines[-1].split('#')[1]))"
   ]
  },
  {
   "cell_type": "code",
   "execution_count": 13,
   "metadata": {},
   "outputs": [],
   "source": [
    "params_arr=params_arr[0:33]\n",
    "Energy_arr=Energy_arr[0:33]"
   ]
  },
  {
   "cell_type": "code",
   "execution_count": 20,
   "metadata": {},
   "outputs": [],
   "source": [
    "for i in range(len(params_arr)):\n",
    "    with open('data_eg_model_parity.txt','+a') as f:\n",
    "            print(Labels_arr[i]+'\\n'+'['+','.join([str(params_arr[i][j]) for j in range(len(params_arr[i]))])+']'+'#'+\"{:0.10f}\".format(Energy_arr[i]),file=f)"
   ]
  },
  {
   "cell_type": "code",
   "execution_count": null,
   "metadata": {},
   "outputs": [],
   "source": []
  }
 ],
 "metadata": {
  "kernelspec": {
   "display_name": "Python 3",
   "language": "python",
   "name": "python3"
  },
  "language_info": {
   "codemirror_mode": {
    "name": "ipython",
    "version": 3
   },
   "file_extension": ".py",
   "mimetype": "text/x-python",
   "name": "python",
   "nbconvert_exporter": "python",
   "pygments_lexer": "ipython3",
   "version": "3.8.3"
  }
 },
 "nbformat": 4,
 "nbformat_minor": 4
}
