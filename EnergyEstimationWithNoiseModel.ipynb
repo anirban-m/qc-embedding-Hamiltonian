{
 "cells": [
  {
   "cell_type": "code",
   "execution_count": 14,
   "metadata": {},
   "outputs": [],
   "source": [
    "import numpy\n",
    "import time\n",
    "import tqdm\n",
    "import ipyparallel as ipp\n",
    "import qiskit.providers.aer.noise as noise\n",
    "from scipy.stats import multinomial\n",
    "from scipy import stats\n",
    "import qiskit\n",
    "from joblib import Parallel, delayed,Memory\n",
    "from mitiq import zne\n",
    "import mitiq\n",
    "from mitiq.zne.scaling import fold_gates_from_left,fold_gates_at_random, fold_global,fold_gates_from_right\n",
    "from mitiq.zne.inference import LinearFactory,RichardsonFactory,PolyFactory\n",
    "from qiskit_nature.operators.second_quantization import FermionicOp\n",
    "from qiskit_nature.problems.second_quantization.electronic.builders import fermionic_op_builder\n",
    "from qiskit_nature.mappers.second_quantization import JordanWignerMapper\n",
    "#from qiskit_nature.converters.second_quantization import QubitConverter\n",
    "from qiskit.opflow import I,X,Y,Z,StateFn,AbelianGrouper\n",
    "from qiskit.chemistry import FermionicOperator\n",
    "from qiskit.providers.aer import AerSimulator\n",
    "from qiskit.aqua.operators.legacy import op_converter\n",
    "from openfermion.circuits import slater_determinant_preparation_circuit\n",
    "from qiskit.quantum_info import Pauli\n",
    "from qiskit import QuantumCircuit,execute,QuantumRegister,ClassicalRegister\n",
    "from qiskit import Aer\n",
    "from openfermion.linalg import givens_decomposition_square as givensRotns\n",
    "from qiskit.opflow.primitive_ops import PauliSumOp\n",
    "from qiskit.utils import QuantumInstance\n",
    "from qiskit.opflow import PauliExpectation, CircuitSampler, CircuitStateFn \n",
    "import scipy\n",
    "from joblib import Parallel, delayed\n",
    "from qiskit.aqua.operators import WeightedPauliOperator\n",
    "from qiskit.compiler import transpile\n",
    "from qiskit.circuit.random import random_circuit\n",
    "from qiskit.chemistry.components.variational_forms import UCCSD"
   ]
  },
  {
   "cell_type": "code",
   "execution_count": 15,
   "metadata": {},
   "outputs": [],
   "source": [
    "#device_backend = FakeManhattan()\n",
    "#sim_manhattan = AerSimulator.from_backend(device_backend)"
   ]
  },
  {
   "cell_type": "code",
   "execution_count": 16,
   "metadata": {},
   "outputs": [],
   "source": [
    "import warnings\n",
    "warnings. filterwarnings('ignore')"
   ]
  },
  {
   "cell_type": "code",
   "execution_count": 17,
   "metadata": {},
   "outputs": [],
   "source": [
    "c =ipp.Client()\n",
    "num_qubits=8"
   ]
  },
  {
   "cell_type": "code",
   "execution_count": 18,
   "metadata": {},
   "outputs": [
    {
     "data": {
      "text/plain": [
       "[0, 1, 2, 3, 4, 5, 6, 7]"
      ]
     },
     "execution_count": 18,
     "metadata": {},
     "output_type": "execute_result"
    }
   ],
   "source": [
    "c.ids"
   ]
  },
  {
   "cell_type": "code",
   "execution_count": 19,
   "metadata": {},
   "outputs": [],
   "source": [
    "def auxHamiltonianEnergy(circ,U=7):\n",
    "    #construct Hamiltonian\n",
    "    def qubitOp(h1,h2):\n",
    "        qubit_op=FermionicOperator(h1,h2).mapping('jordan_wigner')\n",
    "        return qubit_op\n",
    "    def egBandHamiltonian(U):\n",
    "        #Getting chemical Potential for Half-Filling\n",
    "        with open('../chem_pot_for_Half_Fill.txt','r') as f:\n",
    "            lines=f.readlines()[1:]\n",
    "            for line in lines:\n",
    "                elems=line.split()\n",
    "                if int(elems[0])==U:\n",
    "                    muHalf=float(elems[1]) #Chem Pot for a given Hubbard U\n",
    "        #Getting the one body and two body interaction vertexes\n",
    "        with open('../'+str(U)+'/v1e.dat','r') as f:\n",
    "                lines=f.readlines()[1:]\n",
    "                num_sites=4\n",
    "                chem_pot=numpy.zeros((2*num_sites,2*num_sites))\n",
    "                eg_h1=numpy.zeros((2*num_sites,2*num_sites))\n",
    "                for line in lines:\n",
    "                    elems=line.split()\n",
    "                    eg_h1[int(elems[0])][int(elems[1])]=float(elems[2])\n",
    "                    eg_h1[int(elems[0])+num_sites][int(elems[1])+num_sites]=float(elems[2])\n",
    "                for i in range(2*num_sites):\n",
    "                    chem_pot[i][i]=-muHalf\n",
    "                eg_h1=eg_h1+chem_pot       \n",
    "        with open('../'+str(U)+'/v2e.dat','r') as f:\n",
    "            num_sites=4\n",
    "            eg_h2=numpy.zeros((2*num_sites,2*num_sites,2*num_sites,2*num_sites))\n",
    "            for line in f:\n",
    "                if \"#\" in line:\n",
    "                    continue\n",
    "                line = line.split()\n",
    "                i,j,k,l = map(int, line[:4])\n",
    "                val = float(line[4])\n",
    "                eg_h2[i,j,k,l] = eg_h2[i+num_sites,j+num_sites,k,l] = eg_h2[i,j,k+num_sites,l+num_sites]             = eg_h2[i+num_sites,j+num_sites,k+num_sites,l+num_sites] = 0.5*val  # convention with 0.5 factor included.\n",
    "        qubitH=qubitOp(eg_h1,eg_h2)\n",
    "        Hmat=op_converter.to_matrix_operator(qubitH).dense_matrix\n",
    "        w,v=numpy.linalg.eigh(Hmat)\n",
    "        Eg=w[0]\n",
    "        state_g=v[:,0]\n",
    "        return qubitH,Hmat,Eg,state_g\n",
    "    state=execute(circ,Aer.get_backend('statevector_simulator'),shots=1024).result().get_statevector()\n",
    "    qubitH,Hmat,Eg,state_g=egBandHamiltonian(U)\n",
    "    E=numpy.conjugate(state)@Hmat@state\n",
    "    return E\n",
    "def PauliStringToMatrix(Label):\n",
    "    Label1=numpy.array(list(Label))\n",
    "    LabelInds=numpy.where(Label1!='I')[0]\n",
    "    substring=''.join(list(Label1[LabelInds]))\n",
    "    UnitaryMat=Pauli(substring).to_matrix()\n",
    "    return [UnitaryMat,LabelInds]\n",
    "def UnitaryMatrixForm(data):\n",
    "    import numpy\n",
    "    PaulisAndMats,params,ind=data\n",
    "    Label=PaulisAndMats[ind][0]\n",
    "    UnitaryMat,qubits_to_act_on=PaulisAndMats[ind][1]\n",
    "    UnitaryMatrix=numpy.cos(params[ind])*numpy.eye(2**len(qubits_to_act_on))-1j*numpy.sin(params[ind])*UnitaryMat\n",
    "    return [UnitaryMatrix,qubits_to_act_on[::-1],Label]\n",
    "def ansatz_circuit(PaulisAndMats,params):\n",
    "    circ=HFcirc.copy()\n",
    "    circ=qiskit.transpile(circ,basis_gates=[\"u1\", \"u2\", \"u3\", \"cx\"])\n",
    "    if(len(PaulisAndMats)!=0):\n",
    "        inp_data=[(PaulisAndMats,params,i) for i in range(len(params))]\n",
    "        #result = v1.map_async(UnitaryMatrixForm, inp_data)\n",
    "        #UnitaryMatArr=result.get()\n",
    "        UnitaryMatArr=list(map(UnitaryMatrixForm,inp_data))\n",
    "        for i in range(len(UnitaryMatArr)):\n",
    "            circ1=QuantumCircuit(8)\n",
    "            circ1.unitary(UnitaryMatArr[i][0],list(UnitaryMatArr[i][1]),label=UnitaryMatArr[i][2])\n",
    "            circ1=qiskit.transpile(circ1,basis_gates=[\"u1\", \"u2\", \"u3\", \"cx\"])\n",
    "            circ=circ+circ1\n",
    "        del inp_data    \n",
    "        del UnitaryMatArr\n",
    "    return circ     \n",
    "def egBandHamiltonianPartition(U):\n",
    "    #Getting chemical Potential for Half-Filling\n",
    "    with open('../chem_pot_for_Half_Fill.txt','r') as f:\n",
    "        lines=f.readlines()[1:]\n",
    "        for line in lines:\n",
    "            elems=line.split()\n",
    "            if int(elems[0])==U:\n",
    "                muHalf=float(elems[1]) #Chem Pot for a given Hubbard U\n",
    "    #Getting the one body and two body interaction vertexes\n",
    "    with open('../'+str(U)+'/v1e.dat','r') as f:\n",
    "            lines=f.readlines()[1:]\n",
    "            num_sites=4\n",
    "            chem_pot=numpy.zeros((2*num_sites,2*num_sites))\n",
    "            eg_h1_0=numpy.zeros((2*num_sites,2*num_sites))\n",
    "            eg_h1_1=numpy.zeros((2*num_sites,2*num_sites))\n",
    "            for line in lines:\n",
    "                line=line.split()\n",
    "                i,j=map(int,line[:2])\n",
    "                val=float(line[2])\n",
    "                if(i==j):\n",
    "                    eg_h1_0[i,j]=eg_h1_0[i+num_sites,j+num_sites]=val\n",
    "                else:\n",
    "                    eg_h1_1[i,j]=eg_h1_1[i+num_sites,j+num_sites]=val\n",
    "            for i in range(2*num_sites):\n",
    "                chem_pot[i][i]=-muHalf\n",
    "            eg_h1_0=eg_h1_0+chem_pot       \n",
    "    with open('../'+str(U)+'/v2e.dat','r') as f:\n",
    "        num_sites=4\n",
    "        eg_h2_0=numpy.zeros((2*num_sites,2*num_sites,2*num_sites,2*num_sites))\n",
    "        eg_h2_1=numpy.zeros((2*num_sites,2*num_sites,2*num_sites,2*num_sites))\n",
    "        for line in f:\n",
    "            if \"#\" in line:\n",
    "                continue\n",
    "            line = line.split()\n",
    "            i,j,k,l = map(int, line[:4])\n",
    "            val = float(line[4])\n",
    "            if((i==j) and (k==l)):\n",
    "                eg_h2_0[i,j,k,l] = eg_h2_0[i+num_sites,j+num_sites,k,l] = eg_h2_0[i,j,k+num_sites,l+num_sites] \\\n",
    "                = eg_h2_0[i+num_sites,j+num_sites,k+num_sites,l+num_sites] = 0.5*val  # convention with 0.5 factor included.\n",
    "            else:\n",
    "                eg_h2_0[i,j,k,l] = eg_h2_0[i+num_sites,j+num_sites,k+num_sites,l+num_sites] = 0.5*val  # convention with 0.5 factor included.\n",
    "                eg_h2_1[i+num_sites,j+num_sites,k,l] = eg_h2_1[i,j,k+num_sites,l+num_sites] = 0.5*val\n",
    "    return eg_h1_0,eg_h1_1,eg_h2_0,eg_h2_1\n",
    "def qubitHamiltonianGroups(U):\n",
    "    def qubitOp(h1,h2):\n",
    "        fer_op=fermionic_op_builder.build_ferm_op_from_ints(h1,h2)\n",
    "        mapper=JordanWignerMapper()\n",
    "        qubit_op=mapper.map(fer_op)\n",
    "        return qubit_op\n",
    "    eg_h1_0,eg_h1_1,eg_h2_0,eg_h2_1=egBandHamiltonianPartition(U)\n",
    "    #grouping-1\n",
    "    qubitH_0=qubitOp(eg_h1_1,numpy.zeros((8,8,8,8)))\n",
    "    qubitH_1=qubitOp(eg_h1_0,eg_h2_0)\n",
    "    qubitH_2=qubitOp(numpy.zeros((8,8)),eg_h2_1)\n",
    "    #grouping-2\n",
    "#     qubitH_0=qubitOp(eg_h1_1+eg_h1_0,numpy.zeros((8,8,8,8)))\n",
    "#     qubitH_1=qubitOp(numpy.zeros((8,8)),eg_h2_0)\n",
    "#     qubitH_2=qubitOp(numpy.zeros((8,8)),eg_h2_1)\n",
    "    return qubitH_0,qubitH_1,qubitH_2\n",
    "def HF_init_state(U,return_MO_rotnOp=False):\n",
    "    backend=Aer.get_backend('statevector_simulator')\n",
    "    N=4\n",
    "    # Qiskit implementation of Givens rotation\n",
    "    def qubitOp(h1,h2):\n",
    "        qubit_op=FermionicOperator(h1,h2).mapping('jordan_wigner')\n",
    "        return qubit_op\n",
    "    def prepare_givens_rotated_state(givens):\n",
    "        circ = QuantumCircuit(2*N)\n",
    "        # Fill first N_f orbitals for each spin\n",
    "        for i in range(N_f):\n",
    "            circ.x(i)\n",
    "            circ.x(i+N)\n",
    "        for rots in givens:\n",
    "            for tup in rots:\n",
    "                #for spin down\n",
    "                spin=0\n",
    "                circ.cnot(tup[1]+N*spin,tup[0]+N*spin)\n",
    "                circ.cry(-2*tup[2],tup[0]+N*spin, tup[1]+N*spin)\n",
    "                circ.cnot(tup[1]+N*spin, tup[0]+N*spin)\n",
    "                circ.rz(tup[3],tup[1]+N*spin)\n",
    "                #for spin up\n",
    "                spin=1\n",
    "                circ.cnot(tup[1]+N*spin,tup[0]+N*spin)\n",
    "                circ.cry(-2*tup[2],tup[0]+N*spin, tup[1]+N*spin)\n",
    "                circ.cnot(tup[1]+N*spin, tup[0]+N*spin)\n",
    "                circ.rz(tup[3],tup[1]+N*spin)\n",
    "        final_state_vector=execute(circ,backend,shots=1024).result().get_statevector()      \n",
    "        return circ,final_state_vector\n",
    "    def cost_fn(angles):\n",
    "        givens=[((1, 2, angles[0], 0.0),), ((0, 1, angles[1], 0.0), (2, 3, angles[2], 0.0)), ((1, 2, angles[3], 0.0),)]  \n",
    "        #c=Givens_rot_circuit(givens)\n",
    "        #state = QuantumState(N*2)\n",
    "        #c.update_quantum_state(state)\n",
    "        #state_vector=numpy.array(state.get_vector())\n",
    "        c,state=prepare_givens_rotated_state(givens)\n",
    "        E=numpy.real(numpy.dot(numpy.dot(numpy.conjugate(state),Hmat),state))\n",
    "        return E\n",
    "    with open('../chem_pot_for_Half_Fill.txt','r') as f:\n",
    "        lines=f.readlines()[1:]\n",
    "        for line in lines:\n",
    "            elems=line.split()\n",
    "            if int(elems[0])==U:\n",
    "                muHalf=float(elems[1]) #Chem Pot for a given Hubbard U\n",
    "    #Getting the one body and two body interaction vertexes\n",
    "    with open('../'+str(U)+'/v1e.dat','r') as f:\n",
    "            lines=f.readlines()[1:]\n",
    "            num_sites=4\n",
    "            chem_pot=numpy.zeros((2*num_sites,2*num_sites))\n",
    "            eg_h1=numpy.zeros((2*num_sites,2*num_sites))\n",
    "            for line in lines:\n",
    "                elems=line.split()\n",
    "                eg_h1[int(elems[0])][int(elems[1])]=float(elems[2])\n",
    "                eg_h1[int(elems[0])+num_sites][int(elems[1])+num_sites]=float(elems[2])\n",
    "            for i in range(2*num_sites):\n",
    "                chem_pot[i][i]=-muHalf\n",
    "            eg_h1=eg_h1+chem_pot        \n",
    "    with open('../'+str(U)+'/v2e.dat','r') as f:\n",
    "        num_sites=4\n",
    "        eg_h2=numpy.zeros((2*num_sites,2*num_sites,2*num_sites,2*num_sites))\n",
    "        for line in f:\n",
    "            if \"#\" in line:\n",
    "                continue\n",
    "            line = line.split()\n",
    "            i,j,k,l = map(int, line[:4])\n",
    "            val = float(line[4])\n",
    "            eg_h2[i,j,k,l] = eg_h2[i+num_sites,j+num_sites,k,l] = eg_h2[i,j,k+num_sites,l+num_sites] \\\n",
    "            = eg_h2[i+num_sites,j+num_sites,k+num_sites,l+num_sites] = 0.5*val  # convention with 0.5 factor included.\n",
    "    qubitH=qubitOp(eg_h1,eg_h2)\n",
    "    Hmat=op_converter.to_matrix_operator(qubitH).dense_matrix#qubitH.to_matrix(massive=True)\n",
    "    E,V=numpy.linalg.eigh(eg_h1)\n",
    "    energy = 2*sum(E[:int(N/2)])\n",
    "    psi = V[:,:int(N/2)]\n",
    "    Q = numpy.transpose(numpy.conjugate(psi))\n",
    "    N_f=len(Q)\n",
    "    givens_init = slater_determinant_preparation_circuit(Q)\n",
    "    params_init=[]\n",
    "    for k in range(len(givens_init)):\n",
    "        for l in range(len(givens_init[k])):\n",
    "            params_init.append(givens_init[k][l][2])        \n",
    "    res = scipy.optimize.minimize(cost_fn, params_init, bounds=[[-numpy.pi,numpy.pi]]*4,method='L-BFGS-B')\n",
    "    print(\"Final Hartree Fock Energy\",res['fun'])\n",
    "    #final slater determinant state vector obtained using quantum variational Hartree Fock using Given Rotations\n",
    "    params_fin=res['x']\n",
    "    #Final Givens Rotation Circuit obtained after implementing L-BFGS-B algorithm\n",
    "    givens_fin=[((1, 2, params_fin[0], 0.0),), ((0, 1, params_fin[1], 0.0), (2, 3, params_fin[2], 0.0)), ((1, 2, params_fin[3], 0.0),)]\n",
    "    HFcirc,HFstateVec=prepare_givens_rotated_state(givens_fin)\n",
    "    if return_MO_rotnOp==True:\n",
    "        givensOp=prepare_given_operator(givens_fin)\n",
    "        return HFcirc,HFstateVec,givensOp\n",
    "    return HFcirc,HFstateVec"
   ]
  },
  {
   "cell_type": "code",
   "execution_count": 20,
   "metadata": {},
   "outputs": [],
   "source": [
    "# def NoiseModel(p_meas=0.01,prob1=0.001,prob2=0.01):\n",
    "#     # Error probabilities\n",
    "#     #measurement error\n",
    "#     error_meas = noise.pauli_error([('X',p_meas), ('I', 1 - p_meas)])\n",
    "#     #prob_1 - 1-qubit gate\n",
    "#     #prob_2 - 2-qubit gate\n",
    "#     # Depolarizing quantum errors\n",
    "#     error_1 = noise.depolarizing_error(prob1, 1)\n",
    "#     error_2 = noise.depolarizing_error(prob2, 2)\n",
    "#     # Add errors to noise model\n",
    "#     noise_model = noise.NoiseModel()\n",
    "#     noise_model.add_all_qubit_quantum_error(error_meas, \"measure\")\n",
    "#     noise_model.add_all_qubit_quantum_error(error_1, ['u1', 'u2', 'u3'])\n",
    "#     noise_model.add_all_qubit_quantum_error(error_2, ['cx'])\n",
    "#     # Get basis gates from noise model\n",
    "#     basis_gates = noise_model.basis_gates\n",
    "#     return noise_model,basis_gates\n",
    "# def NoiseModel(prob1=0.1):\n",
    "#     # Error probabilities\n",
    "#     #prob_1 - 1-qubit gate\n",
    "#     error1 = noise.pauli_error([('X',prob1), ('I', 1 - prob1)])\n",
    "#     #prob_2 - 2-qubit gate\n",
    "#     error2 = error1.tensor(error1)\n",
    "#     # Add errors to noise model\n",
    "#     noise_model = noise.NoiseModel()\n",
    "#     noise_model.add_all_qubit_quantum_error(error1, ['x', 'id', 'rx'])\n",
    "#     noise_model.add_all_qubit_quantum_error(error2, ['cx'])\n",
    "#     # Get basis gates from noise model\n",
    "#     basis_gates = noise_model.basis_gates\n",
    "#     return noise_model,basis_gates\n",
    "def NoiseModel(prob1=0.1,prob2=0.01):\n",
    "    # Error probabilities\n",
    "    #prob_1 - 1-qubit gate\n",
    "    error1 = noise.pauli_error([('X',prob1), ('I', 1 - prob1)])\n",
    "    print(\"one qubit errors\")\n",
    "    print(error1)\n",
    "    #prob_2 - 2-qubit gate\n",
    "    error2 = noise.pauli_error([('XX',prob2),('II',1-prob2)])#error1.tensor(error1)\n",
    "    print(\"two qubit errors\")\n",
    "    print(error2)\n",
    "    # Add errors to noise model\n",
    "    noise_model = noise.NoiseModel()\n",
    "    noise_model.add_all_qubit_quantum_error(error1, ['u1','u2','u3','id'])\n",
    "    noise_model.add_all_qubit_quantum_error(error2, ['cx'])\n",
    "    # Get basis gates from noise model\n",
    "    basis_gates = noise_model.basis_gates\n",
    "    return noise_model,basis_gates"
   ]
  },
  {
   "cell_type": "code",
   "execution_count": 21,
   "metadata": {},
   "outputs": [],
   "source": [
    "qr=QuantumRegister(8,'q')"
   ]
  },
  {
   "cell_type": "code",
   "execution_count": 51,
   "metadata": {},
   "outputs": [],
   "source": [
    "\n",
    "def Energy_Estimator(circ,num_shots_arr=[2**18,2**21,2**20]):\n",
    "    def qubitOp(h1,h2):\n",
    "        fer_op=fermionic_op_builder.build_ferm_op_from_ints(h1,h2)\n",
    "        mapper=JordanWignerMapper()\n",
    "        qubit_op=mapper.map(fer_op)\n",
    "        return qubit_op\n",
    "    def OffDiag1BodyTerms(Op):\n",
    "        h1=eg_h1_1#+eg_h1_0\n",
    "    #     Op=qubitOp(h1,numpy.zeros((8,8,8,8)))\n",
    "        Op=Op.reduce()\n",
    "        w,v=numpy.linalg.eigh(h1)\n",
    "        givens=givensRotns(v.T)[0]\n",
    "        OpNew=qubitOp(numpy.diag(w),numpy.zeros((8,8,8,8)))\n",
    "        #Prepare gate implementing Givens Rotn for appending to ansatz circ pre-measurement\n",
    "        circ=QuantumCircuit(8)\n",
    "        for rots in givens:\n",
    "            for tup in rots:\n",
    "                circ.cnot(tup[1],tup[0])\n",
    "                circ.cry(-2*tup[2],tup[0], tup[1])\n",
    "                circ.cnot(tup[1], tup[0])\n",
    "                circ.rz(tup[3],tup[1])     \n",
    "        circ0_8gate=circ.to_instruction()\n",
    "        return circ0_8gate,OpNew\n",
    "    def OffDiag2BodyTerms(Op):\n",
    "        theta=numpy.pi/4\n",
    "        #Prepare UnitaryOp for rotating Hamilotnian terms\n",
    "        O_0_1_up=(numpy.cos(theta/2.)*I^I^I^I^I^I^I^I)+(1j*numpy.sin(theta/2.)*I^I^I^I^I^I^X^Y)\n",
    "        O_1_0_up=(numpy.cos(theta/2.)*I^I^I^I^I^I^I^I)+(-1j*numpy.sin(theta/2.)*I^I^I^I^I^I^Y^X)\n",
    "        O_0_1_down=(numpy.cos(theta/2.)*I^I^I^I^I^I^I^I)+(1j*numpy.sin(theta/2.)*I^I^X^Y^I^I^I^I)\n",
    "        O_1_0_down=(numpy.cos(theta/2.)*I^I^I^I^I^I^I^I)+(-1j*numpy.sin(theta/2.)*I^I^Y^X^I^I^I^I)\n",
    "        O_01=O_0_1_up@O_1_0_up@O_0_1_down@O_1_0_down\n",
    "        O=O_01.reduce()\n",
    "        Odag=O.adjoint()\n",
    "        rotH=O@Op@Odag\n",
    "        rotH=rotH.reduce().reduce()\n",
    "         #theta=numpy.pi/4\n",
    "        #Prepare gate implementing Givens Rotn for appending to ansatz circ pre-measurement\n",
    "        RotMat=(1/numpy.sqrt(2))*numpy.array([[1,-1],[1,1]])\n",
    "        w,v=numpy.linalg.eigh(RotMat)\n",
    "        givens=givensRotns(v.T)[0]\n",
    "        circ=QuantumCircuit(2)\n",
    "        for rots in givens:\n",
    "            for tup in rots:\n",
    "                circ.cnot(tup[1],tup[0])\n",
    "                circ.cry(-2*tup[2],tup[0], tup[1])\n",
    "                circ.cnot(tup[1], tup[0])\n",
    "                circ.rz(tup[3],tup[1])        \n",
    "        circ0_1gate=circ.to_instruction()\n",
    "        return circ0_1gate,rotH\n",
    "    def estimate(PauliOp,counts):\n",
    "        PauliString,coeff=PauliOp.primitive.to_list()[0]\n",
    "        indexOfZs=numpy.where(numpy.array(list(PauliString))=='Z')[0]\n",
    "        bitstrings,cnts=list(counts. keys()),list(counts.values())\n",
    "        p=0\n",
    "        for i in range(len(bitstrings)):\n",
    "            counter_1=list(numpy.array(list(bitstrings[i]))[indexOfZs]).count('1')\n",
    "            if counter_1%2==1:\n",
    "                p=p+cnts[i]\n",
    "        p=p/sum(cnts)\n",
    "        mean=(1-2*p)\n",
    "        return mean*coeff.real\n",
    "    def getCounts(Input):\n",
    "        circ,num_shots=Input\n",
    "        circ1=circ.copy()\n",
    "        circ1.add_register(ClassicalRegister(8,'c'))\n",
    "        circ1.measure([0,1,2,3,4,5,6,7],[0,1,2,3,4,5,6,7]) \n",
    "        job_sim = execute(circ1, AerSimulator(method='density_matrix'),shots=num_shots,basis_gates=basis_gates,noise_model=noise_model,had_transpiled=True) \n",
    "        result_sim = job_sim.result()\n",
    "        density_matrix = result_sim\n",
    "        counts = result_sim.get_counts(circ1) \n",
    "        return counts,density_matrix\n",
    "    def estimate(PauliOp,counts):\n",
    "        PauliString,coeff=PauliOp.primitive.to_list()[0]\n",
    "        indexOfZs=numpy.where(numpy.array(list(PauliString))=='Z')[0]\n",
    "        bitstrings,cnts=list(counts. keys()),list(counts.values())\n",
    "        p=0\n",
    "        for i in range(len(bitstrings)):\n",
    "            counter_1=list(numpy.array(list(bitstrings[i]))[indexOfZs]).count('1')\n",
    "            if counter_1%2==1:\n",
    "                p=p+cnts[i]\n",
    "        p=p/sum(cnts)\n",
    "        mean=(1-2*p)\n",
    "        return mean*coeff.real\n",
    "    def meanOp(PauliOp,counts):\n",
    "        mean=0\n",
    "        for i in range(len(PauliOp)):\n",
    "            mean=mean+estimate(PauliOp[i],counts)\n",
    "        return mean \n",
    "    U=7\n",
    "    eg_h1_0,eg_h1_1,eg_h2_0,eg_h2_1=egBandHamiltonianPartition(U)\n",
    "    qubitH_0,qubitH_1,qubitH_2=qubitHamiltonianGroups(U)\n",
    "    opArr=[qubitH_0,qubitH_1,qubitH_2]\n",
    "    #two body off diags\n",
    "    circ0_1gate,rotH2Body=OffDiag2BodyTerms(opArr[2])\n",
    "    #one body off diags\n",
    "    circ0_8gate,rotH1Body=OffDiag1BodyTerms(opArr[0])\n",
    "    Ops=[rotH1Body,opArr[1],rotH2Body]\n",
    "    circ_arr=[circ.copy(),circ.copy(),circ.copy()]\n",
    "    circ_arr[0].append(circ0_8gate,[0,1,2,3,4,5,6,7])\n",
    "    circ_arr[2].append(circ0_1gate,[0,1])\n",
    "    circ_arr[2].append(circ0_1gate,[4,5])\n",
    "    counts_Arr=Parallel(n_jobs=1,verbose=2)(delayed(getCounts)((circ_arr[i],num_shots_arr[i])) for i in range(len(circ_arr)))\n",
    "    print(counts_Arr[0][1],counts_Arr[1][1],counts_Arr[2][1])\n",
    "    m1=meanOp(Ops[0],counts_Arr[0][0])\n",
    "    m2=meanOp(Ops[1],counts_Arr[1][0])\n",
    "    m3=meanOp(Ops[2],counts_Arr[2][0])\n",
    "    return m1+m2+m3"
   ]
  },
  {
   "cell_type": "code",
   "execution_count": 52,
   "metadata": {},
   "outputs": [
    {
     "name": "stdout",
     "output_type": "stream",
     "text": [
      "one qubit errors\n",
      "QuantumError on 1 qubits. Noise circuits:\n",
      "  P(0) = 0.1, QasmQobjInstructions = [[{'name': 'x', 'qubits': [0]}]\n",
      "  P(1) = 0.9, QasmQobjInstructions = [[{'name': 'id', 'qubits': [0]}]\n",
      "two qubit errors\n",
      "QuantumError on 2 qubits. Noise circuits:\n",
      "  P(0) = 0.01, QasmQobjInstructions = [[{'name': 'x', 'qubits': [0]}, {'name': 'x', 'qubits': [1]}]\n",
      "  P(1) = 0.99, QasmQobjInstructions = [[{'name': 'id', 'qubits': [0]}]\n"
     ]
    }
   ],
   "source": [
    "noise_model,basis_gates=NoiseModel(prob1=0.1)#(p_meas=0.0,prob1=0.0001,prob2=0.0001)"
   ]
  },
  {
   "cell_type": "code",
   "execution_count": 53,
   "metadata": {},
   "outputs": [
    {
     "name": "stdout",
     "output_type": "stream",
     "text": [
      "Final Hartree Fock Energy -18.788335371650774\n"
     ]
    }
   ],
   "source": [
    "U=7\n",
    "backend=Aer.get_backend('statevector_simulator')\n",
    "HFcirc,HFstate=HF_init_state(U)\n",
    "var_form_base=UCCSD(8,4,initial_state=HFcirc,qubit_mapping='jordan_wigner',two_qubit_reduction=False)\n",
    "var_form_base.manage_hopping_operators()\n",
    "params=[]\n",
    "with open('../7/FinalDataFiles/adaptVQE-opt-SMO-SV/HF_statevector_adapt_VQE.txt','r') as f:\n",
    "    lines=f.readlines()\n",
    "    for i in range(len(lines))[2:]:\n",
    "        elems=lines[i].split()\n",
    "        var_form_base.push_hopping_operator(WeightedPauliOperator([[1j,Pauli(elems[1])]]))\n",
    "        params.append(float(elems[3]))\n",
    "circ=var_form_base.construct_circuit(parameters=params)            "
   ]
  },
  {
   "cell_type": "code",
   "execution_count": 54,
   "metadata": {},
   "outputs": [],
   "source": [
    "compiled = qiskit.transpile(circ,basis_gates=[\"u1\", \"u2\", \"u3\", \"cx\"])"
   ]
  },
  {
   "cell_type": "code",
   "execution_count": 55,
   "metadata": {},
   "outputs": [],
   "source": [
    "qr=QuantumRegister(8,'q')"
   ]
  },
  {
   "cell_type": "code",
   "execution_count": 56,
   "metadata": {},
   "outputs": [
    {
     "name": "stderr",
     "output_type": "stream",
     "text": [
      "[Parallel(n_jobs=1)]: Using backend SequentialBackend with 1 concurrent workers.\n",
      "[Parallel(n_jobs=1)]: Done   1 out of   1 | elapsed:    1.1s remaining:    0.0s\n"
     ]
    },
    {
     "name": "stdout",
     "output_type": "stream",
     "text": [
      "Result(backend_name='aer_simulator_density_matrix', backend_version='0.8.1', qobj_id='c278ebc0-4631-43a9-8722-56b616bb24a0', job_id='cae825bc-235b-4833-b7f3-2e7ba1ec4d09', success=True, results=[ExperimentResult(shots=262144, success=True, meas_level=MeasLevel.CLASSIFIED, data=ExperimentResultData(counts={'0x62': 511, '0xfa': 487, '0xf2': 516, '0xd0': 617, '0x54': 589, '0xa2': 674, '0xa7': 1222, '0x21': 1158, '0x8a': 1041, '0xc3': 1034, '0x70': 538, '0xec': 621, '0x26': 804, '0x59': 822, '0x76': 538, '0x48': 411, '0x42': 715, '0x89': 1237, '0x77': 1013, '0xe8': 499, '0x84': 960, '0xfb': 605, '0xc7': 1286, '0x5b': 890, '0xa4': 994, '0x8c': 1366, '0xd3': 937, '0x90': 799, '0x50': 739, '0x18': 985, '0xc2': 694, '0xaa': 891, '0x3c': 927, '0x7b': 785, '0xee': 633, '0xa0': 795, '0xf8': 452, '0xe7': 1245, '0xbb': 1428, '0xc4': 857, '0x20': 627, '0xc': 1484, '0xf3': 917, '0xf5': 1028, '0x74': 635, '0x27': 1579, '0x60': 552, '0x1': 1023, '0xa': 1027, '0xef': 819, '0x57': 1146, '0x99': 1682, '0x73': 827, '0x6b': 668, '0x97': 1395, '0x67': 1068, '0x4d': 1052, '0xeb': 683, '0x31': 1115, '0xf6': 633, '0xe0': 549, '0x94': 873, '0x1e': 1120, '0xf': 3829, '0xc9': 787, '0x56': 800, '0x2d': 2575, '0xe': 1455, '0xb7': 1386, '0x29': 1264, '0x9a': 1492, '0xbd': 1532, '0xd4': 671, '0x1f': 1598, '0xc8': 466, '0x2f': 1638, '0xce': 828, '0x55': 1119, '0x3f': 1543, '0x49': 686, '0x41': 911, '0xa5': 1436, '0x72': 551, '0x37': 1157, '0x98': 894, '0xb5': 1183, '0x4f': 1264, '0x81': 1143, '0x63': 923, '0x22': 655, '0x2c': 1181, '0xf9': 821, '0x66': 775, '0x46': 916, '0xea': 394, '0x85': 1461, '0x43': 1052, '0x4e': 822, '0x64': 730, '0x14': 1082, '0x87': 1747, '0x61': 880, '0x24': 975, '0x5e': 664, '0x30': 749, '0xcb': 692, '0x9e': 1068, '0xe6': 662, '0x93': 1445, '0x45': 1221, '0xfc': 641, '0x11': 1190, '0xad': 1614, '0x7f': 780, '0x83': 1114, '0x71': 1135, '0xdb': 930, '0x65': 1568, '0xf1': 782, '0xca': 630, '0xf7': 863, '0x2a': 706, '0xd8': 558, '0x52': 629, '0x9b': 1311, '0x8b': 1599, '0xe1': 859, '0xe9': 670, '0x68': 444, '0xaf': 1899, '0xd': 1937, '0xac': 1629, '0x5f': 1304, '0x6c': 685, '0x38': 808, '0x1d': 1597, '0x28': 813, '0x7c': 499, '0x33': 1226, '0x4b': 1014, '0x0': 737, '0x91': 1121, '0xd1': 1118, '0x3a': 847, '0xfe': 505, '0xff': 859, '0x5a': 625, '0xdf': 899, '0xb9': 1127, '0xa9': 1363, '0x69': 806, '0x2e': 1176, '0x47': 2312, '0x6a': 465, '0x44': 935, '0x9f': 1702, '0x80': 653, '0x7': 1786, '0x6d': 959, '0x95': 1659, '0x96': 1416, '0xf4': 657, '0x16': 982, '0xc6': 1415, '0xde': 808, '0x88': 860, '0x40': 552, '0xdc': 554, '0xf0': 719, '0x8f': 1860, '0xb8': 1057, '0xcd': 942, '0x9c': 964, '0xb1': 1169, '0xa6': 980, '0x75': 914, '0x39': 1842, '0xae': 1051, '0x58': 445, '0xab': 1096, '0x10': 726, '0xfd': 789, '0x2b': 1495, '0xb6': 830, '0x4': 934, '0x8e': 2306, '0xb2': 750, '0x3': 1660, '0xa3': 1055, '0xcf': 1316, '0x32': 572, '0x9': 1446, '0x34': 830, '0x7e': 545, '0xb': 1510, '0xb3': 905, '0x17': 2332, '0xd6': 784, '0x4a': 492, '0x7a': 411, '0x3e': 771, '0x19': 1292, '0x53': 1574, '0xbe': 989, '0xcc': 695, '0x25': 1433, '0xc1': 788, '0xd9': 706, '0x6f': 1064, '0xd7': 1251, '0x8d': 2549, '0xda': 555, '0x78': 482, '0x92': 909, '0x1c': 874, '0xd5': 892, '0x4c': 589, '0x51': 897, '0x5d': 837, '0xba': 801, '0x35': 1679, '0xa1': 996, '0xe2': 560, '0x3d': 1429, '0xd2': 992, '0x5c': 604, '0x86': 1209, '0xed': 1023, '0xc0': 602, '0xe3': 694, '0x6e': 523, '0xa8': 880, '0xdd': 970, '0x12': 880, '0x5': 1537, '0xb4': 1108, '0x3b': 1242, '0x8': 795, '0x7d': 975, '0x82': 1006, '0x1b': 2525, '0xbc': 896, '0xbf': 1176, '0xe4': 998, '0x9d': 1288, '0x23': 961, '0x13': 1408, '0x36': 828, '0xc5': 1600, '0xb0': 731, '0x2': 746, '0x1a': 1010, '0x6': 1131, '0x15': 1387, '0xe5': 1098, '0x79': 710}), header=QobjExperimentHeader(clbit_labels=[['c', 0], ['c', 1], ['c', 2], ['c', 3], ['c', 4], ['c', 5], ['c', 6], ['c', 7]], creg_sizes=[['c', 8]], global_phase=0.0, memory_slots=8, metadata=None, n_qubits=8, name='circuit-3920', qreg_sizes=[['q', 8]], qubit_labels=[['q', 0], ['q', 1], ['q', 2], ['q', 3], ['q', 4], ['q', 5], ['q', 6], ['q', 7]]), status=DONE, seed_simulator=2775862999, metadata={'parallel_state_update': 8, 'measure_sampling': True, 'method': 'density_matrix', 'parallel_shots': 1, 'device': 'CPU', 'fusion': {'applied': False, 'max_fused_qubits': 5, 'enabled': True, 'threshold': 14}}, time_taken=1.0430202000000002)], date=2021-09-24T08:43:27.105466, status=COMPLETED, status=QobjHeader(backend_name='aer_simulator_density_matrix', backend_version='0.8.1'), metadata={'time_taken': 1.0499521, 'parallel_experiments': 1, 'omp_enabled': True, 'max_gpu_memory_mb': 0, 'num_mpi_processes': 1, 'max_memory_mb': 7950, 'mpi_rank': 0}, time_taken=1.0513105999998515) Result(backend_name='aer_simulator_density_matrix', backend_version='0.8.1', qobj_id='f4012a9a-170f-4d05-86f8-678ae5d76a8b', job_id='5e7c625d-b59f-4a93-a1ed-7b83976f5a63', success=True, results=[ExperimentResult(shots=2097152, success=True, meas_level=MeasLevel.CLASSIFIED, data=ExperimentResultData(counts={'0xaa': 209, '0xdd': 461, '0xec': 920, '0xbd': 650, '0xbb': 863, '0x8a': 404, '0x7': 2728, '0xe4': 625, '0x88': 729, '0xf4': 1689, '0xef': 581, '0xa': 636, '0xb8': 805, '0xe8': 365, '0x8d': 582, '0x8c': 1662, '0xd0': 1024, '0xd': 979, '0x2f': 2752, '0xa0': 621, '0x84': 1243, '0xa2': 1099, '0xee': 228, '0x2a': 1090, '0xca': 862, '0xf7': 2141, '0xb5': 4000, '0xe': 640, '0xfb': 1194, '0xb': 1383, '0xc1': 5274, '0xde': 306, '0x28': 2008, '0x4f': 1783, '0x1b': 2655, '0x7c': 3527, '0xd9': 3591, '0xf2': 2797, '0x7b': 1739, '0x7e': 824, '0xae': 208, '0x58': 3433, '0x48': 1251, '0x20': 3492, '0x7a': 849, '0x4a': 646, '0xbe': 471, '0xd1': 1913, '0xea': 205, '0x85': 3582, '0xb4': 1350, '0xd4': 929, '0x1f': 3351, '0xab': 441, '0x81': 2444, '0x1d': 1881, '0xf3': 17014, '0x67': 9584, '0xb7': 1746, '0x47': 2531, '0xb3': 13912, '0x54': 5924, '0xc2': 4525, '0x70': 2626, '0xc3': 28247, '0x97': 9271, '0x6b': 5090, '0xc': 2971, '0xe9': 2531, '0x2e': 1137, '0x69': 28089, '0xdb': 671, '0x65': 21932, '0xf1': 3298, '0xc7': 3491, '0xf': 1766, '0x80': 1294, '0x75': 7419, '0x3e': 6859, '0xb1': 2711, '0x46': 7630, '0x66': 28607, '0xf9': 6166, '0x2c': 4533, '0x8': 1216, '0x82': 2005, '0x3b': 13947, '0x7d': 1183, '0xac': 855, '0x5f': 4740, '0x14': 4237, '0x64': 7596, '0x71': 5165, '0xad': 274, '0x62': 12450, '0x8e': 394, '0xb2': 2290, '0xc9': 10152, '0x76': 9665, '0xc4': 2722, '0x2d': 1550, '0x56': 21867, '0x45': 5975, '0x93': 76441, '0x5e': 1926, '0x24': 3405, '0x30': 21649, '0xcb': 1869, '0xc6': 10186, '0x16': 15361, '0x57': 7373, '0x41': 4135, '0xa5': 1924, '0x37': 26353, '0xd3': 9929, '0xf5': 4571, '0x34': 21021, '0x9': 7679, '0x72': 4325, '0xba': 445, '0xe2': 1113, '0x35': 59669, '0xa1': 1336, '0x9c': 10008, '0x1': 4144, '0xcd': 1355, '0xfc': 2282, '0x11': 8115, '0x73': 26557, '0x99': 27553, '0x3d': 9937, '0xfa': 534, '0x98': 4542, '0xce': 882, '0x55': 16839, '0x2': 3636, '0x9e': 2432, '0xe6': 2472, '0xa3': 6701, '0x3': 21635, '0x6d': 3605, '0x3c': 28183, '0x33': 214143, '0x38': 12724, '0x39': 76925, '0xdf': 763, '0xff': 1340, '0x5a': 1851, '0xd8': 624, '0x9b': 5069, '0x52': 9609, '0x60': 8191, '0xc8': 1670, '0x96': 28165, '0x95': 21522, '0xbc': 1886, '0xfe': 561, '0x3a': 6781, '0x18': 2505, '0x9a': 2459, '0x43': 21242, '0x4e': 683, '0x26': 12590, '0x19': 14879, '0x53': 60081, '0xa4': 680, '0x23': 34929, '0x13': 42025, '0x92': 12532, '0x1c': 5464, '0xa8': 373, '0xe3': 6638, '0x6e': 2464, '0xc0': 2909, '0x90': 7913, '0xe5': 1869, '0x1a': 1297, '0x15': 11644, '0x6': 7903, '0x32': 34976, '0xcf': 2256, '0x59': 21701, '0x27': 4207, '0x36': 78581, '0xc5': 7754, '0x89': 4525, '0x63': 78072, '0x22': 5560, '0xe0': 686, '0x31': 41649, '0xf6': 6290, '0xbf': 1138, '0xaf': 503, '0x68': 4608, '0x21': 6653, '0x0': 2210, '0x91': 14970, '0x4b': 1346, '0xd2': 1631, '0x5c': 7932, '0x74': 2618, '0x83': 12632, '0x7f': 2158, '0x79': 9487, '0x50': 6046, '0xfd': 799, '0x2b': 2251, '0x10': 4207, '0x3f': 17599, '0x49': 7418, '0x77': 3200, '0x1e': 1250, '0x94': 7554, '0xa7': 805, '0x9d': 3634, '0x29': 12534, '0x51': 11779, '0x5d': 2804, '0xed': 269, '0x86': 4544, '0xcc': 3683, '0x25': 9801, '0x5b': 3885, '0xa9': 2489, '0xb9': 4978, '0xd6': 3581, '0xeb': 484, '0x4d': 895, '0x4': 2148, '0xb6': 5068, '0x6f': 6173, '0xd7': 1244, '0xda': 279, '0x78': 1587, '0x8f': 1017, '0xf0': 1732, '0xe1': 1323, '0x8b': 872, '0x4c': 2743, '0xd5': 2759, '0x12': 6859, '0x17': 5114, '0x6c': 10168, '0x40': 2124, '0xdc': 1356, '0x42': 3421, '0x5': 6183, '0xf8': 974, '0xe7': 854, '0x61': 15413, '0x87': 1552, '0x9f': 6218, '0x44': 2043, '0x6a': 2393, '0xb0': 1424, '0xa6': 2481}), header=QobjExperimentHeader(clbit_labels=[['c', 0], ['c', 1], ['c', 2], ['c', 3], ['c', 4], ['c', 5], ['c', 6], ['c', 7]], creg_sizes=[['c', 8]], global_phase=0.0, memory_slots=8, metadata=None, n_qubits=8, name='circuit-3920', qreg_sizes=[['q', 8]], qubit_labels=[['q', 0], ['q', 1], ['q', 2], ['q', 3], ['q', 4], ['q', 5], ['q', 6], ['q', 7]]), status=DONE, seed_simulator=3078590913, metadata={'parallel_state_update': 8, 'measure_sampling': True, 'method': 'density_matrix', 'parallel_shots': 1, 'device': 'CPU', 'fusion': {'applied': False, 'max_fused_qubits': 5, 'enabled': True, 'threshold': 14}}, time_taken=8.0109291)], date=2021-09-24T08:43:35.165122, status=COMPLETED, status=QobjHeader(backend_name='aer_simulator_density_matrix', backend_version='0.8.1'), metadata={'time_taken': 8.012498200000001, 'parallel_experiments': 1, 'omp_enabled': True, 'max_gpu_memory_mb': 0, 'num_mpi_processes': 1, 'max_memory_mb': 7950, 'mpi_rank': 0}, time_taken=8.013450400001602) Result(backend_name='aer_simulator_density_matrix', backend_version='0.8.1', qobj_id='f7185db7-ab63-405c-9070-e0935bd7947f', job_id='b48b3db8-2f74-4198-9129-16ead70c221b', success=True, results=[ExperimentResult(shots=1048576, success=True, meas_level=MeasLevel.CLASSIFIED, data=ExperimentResultData(counts={'0xdd': 155, '0xee': 192, '0x8d': 243, '0xde': 177, '0xec': 547, '0xef': 365, '0xb8': 446, '0xd9': 782, '0xcd': 520, '0xbe': 302, '0xe8': 285, '0x9d': 771, '0x4f': 1001, '0xbb': 508, '0x1e': 822, '0x48': 729, '0xc7': 1633, '0xf4': 985, '0x6b': 2342, '0x4e': 480, '0xe9': 825, '0xab': 1513, '0x8c': 836, '0xbf': 621, '0x47': 1443, '0xb0': 1662, '0xc4': 1465, '0x2c': 2498, '0xed': 160, '0x86': 2094, '0xae': 863, '0x58': 2112, '0xc8': 845, '0xb2': 1370, '0x8e': 291, '0xd6': 1417, '0x4d': 465, '0xeb': 280, '0x4b': 788, '0x7c': 1641, '0xc1': 2482, '0xbd': 303, '0x8b': 440, '0xe1': 828, '0x14': 2145, '0xfb': 620, '0x81': 1303, '0xaa': 4519, '0xb3': 6228, '0x5b': 2318, '0xd0': 995, '0x28': 1264, '0x1': 4735, '0xbc': 874, '0xf': 2181, '0x71': 2476, '0x46': 3678, '0xd7': 545, '0x6f': 2782, '0xf5': 2945, '0x37': 11473, '0xd3': 3675, '0xe4': 488, '0x90': 4383, '0x43': 9792, '0x62': 6212, '0xa5': 7002, '0x41': 2254, '0x24': 2197, '0x5e': 1410, '0x30': 21087, '0x87': 851, '0x61': 6371, '0xcb': 945, '0x66': 10604, '0xf9': 1656, '0x75': 4277, '0xa0': 5072, '0xb1': 1356, '0x42': 2097, '0xdc': 489, '0x40': 2754, '0xb5': 2360, '0x57': 4486, '0xc6': 4045, '0x16': 6350, '0xfa': 1890, '0x3d': 3675, '0x7d': 551, '0x82': 1257, '0x3b': 6331, '0x8': 1584, '0x8a': 1386, '0xf3': 7784, '0x67': 4206, '0xa2': 4099, '0x92': 3532, '0x1c': 2449, '0x79': 2478, '0xa6': 6857, '0x39': 16336, '0xff': 816, '0xdf': 402, '0x5a': 7084, '0x9c': 2386, '0x8f': 565, '0xf0': 2112, '0x85': 2128, '0xea': 957, '0xa': 5086, '0x19': 3688, '0x53': 29234, '0xa4': 2323, '0xf2': 1778, '0x23': 16804, '0xb6': 2319, '0x4': 2784, '0xfc': 1147, '0x11': 4017, '0xe': 1073, '0xb7': 950, '0xcf': 1124, '0x32': 17040, '0xc5': 4103, '0x36': 28506, '0x4c': 1431, '0xd5': 1450, '0x13': 17371, '0x26': 6148, '0x80': 1566, '0x18': 1299, '0xfe': 395, '0x3a': 18410, '0x64': 3613, '0x70': 3073, '0xc3': 11041, '0x97': 2372, '0x44': 1264, '0x9f': 1687, '0x6a': 6833, '0xd': 1023, '0x60': 7770, '0xd8': 265, '0x9b': 1319, '0x52': 6341, '0x2f': 1663, '0xa3': 18543, '0x3': 20921, '0x33': 76778, '0x38': 5644, '0x1d': 795, '0x3c': 10895, '0x54': 3707, '0x21': 3870, '0xaf': 1894, '0x68': 2113, '0x7f': 1115, '0x83': 5865, '0xad': 848, '0x20': 4602, '0x6d': 1299, '0xf7': 1163, '0x2a': 4225, '0xca': 2651, '0x9e': 743, '0xe6': 1421, '0x95': 6263, '0x96': 6100, '0x78': 824, '0xda': 908, '0x3f': 7861, '0x49': 2078, '0xe5': 1396, '0x6': 7830, '0x15': 6528, '0x1a': 4165, '0x63': 28583, '0x22': 3771, '0x89': 1188, '0x7a': 2718, '0x4a': 2349, '0x84': 761, '0x98': 1179, '0xcc': 1613, '0x25': 6449, '0x72': 2517, '0x34': 9769, '0x9': 4529, '0x0': 5736, '0x91': 3599, '0x73': 11394, '0x99': 3393, '0xb9': 1242, '0xa9': 4012, '0xf1': 1771, '0xdb': 286, '0x65': 10684, '0xce': 533, '0x55': 10850, '0x7b': 946, '0xd1': 844, '0xa1': 4188, '0xe2': 872, '0x35': 29090, '0xba': 1463, '0xe7': 519, '0xf8': 591, '0x50': 7999, '0x1f': 1735, '0xd4': 447, '0xc2': 2397, '0x77': 1720, '0xc': 2921, '0x31': 17452, '0xf6': 2904, '0xe0': 1088, '0x2b': 1355, '0xfd': 384, '0x10': 4651, '0xc0': 2950, '0x6e': 1397, '0xa8': 1453, '0xe3': 3801, '0x27': 2455, '0xc9': 2339, '0x76': 4165, '0x94': 2148, '0x3e': 3722, '0x5': 7881, '0xa7': 2719, '0x93': 16208, '0x45': 3799, '0x5f': 2904, '0xac': 2669, '0x2': 4594, '0x74': 1433, '0x56': 10874, '0x2d': 854, '0xb4': 777, '0x1b': 1380, '0x9a': 3852, '0x6c': 4033, '0x5c': 4215, '0xd2': 820, '0x12': 3840, '0x88': 443, '0x59': 6163, '0x51': 6484, '0x5d': 1387, '0x7': 3094, '0x29': 3565, '0x7e': 557, '0xb': 1756, '0x17': 2573, '0x69': 5927, '0x2e': 812}), header=QobjExperimentHeader(clbit_labels=[['c', 0], ['c', 1], ['c', 2], ['c', 3], ['c', 4], ['c', 5], ['c', 6], ['c', 7]], creg_sizes=[['c', 8]], global_phase=0.0, memory_slots=8, metadata=None, n_qubits=8, name='circuit-3920', qreg_sizes=[['q', 8]], qubit_labels=[['q', 0], ['q', 1], ['q', 2], ['q', 3], ['q', 4], ['q', 5], ['q', 6], ['q', 7]]), status=DONE, seed_simulator=2890029158, metadata={'parallel_state_update': 8, 'measure_sampling': True, 'method': 'density_matrix', 'parallel_shots': 1, 'device': 'CPU', 'fusion': {'applied': False, 'max_fused_qubits': 5, 'enabled': True, 'threshold': 14}}, time_taken=4.1376359)], date=2021-09-24T08:43:39.347681, status=COMPLETED, status=QobjHeader(backend_name='aer_simulator_density_matrix', backend_version='0.8.1'), metadata={'time_taken': 4.1398474, 'parallel_experiments': 1, 'omp_enabled': True, 'max_gpu_memory_mb': 0, 'num_mpi_processes': 1, 'max_memory_mb': 7950, 'mpi_rank': 0}, time_taken=4.1405395999972825)\n"
     ]
    },
    {
     "name": "stderr",
     "output_type": "stream",
     "text": [
      "[Parallel(n_jobs=1)]: Done   3 out of   3 | elapsed:   13.4s finished\n"
     ]
    },
    {
     "data": {
      "text/plain": [
       "-16.134985485551613"
      ]
     },
     "execution_count": 56,
     "metadata": {},
     "output_type": "execute_result"
    }
   ],
   "source": [
    "Energy_Estimator(HFcirc)"
   ]
  },
  {
   "cell_type": "code",
   "execution_count": 43,
   "metadata": {},
   "outputs": [
    {
     "data": {
      "image/png": "[encoded data removed]",
      "text/plain": [
       "<Figure size 1591.6x2672.88 with 1 Axes>"
      ]
     },
     "execution_count": 43,
     "metadata": {},
     "output_type": "execute_result"
    }
   ],
   "source": [
    "circ.save_density_matrix(label='density_matrix')\n"
   ]
  },
  {
   "cell_type": "code",
   "execution_count": 97,
   "metadata": {},
   "outputs": [
    {
     "name": "stderr",
     "output_type": "stream",
     "text": [
      "[Parallel(n_jobs=6)]: Using backend LokyBackend with 6 concurrent workers.\n",
      "[Parallel(n_jobs=6)]: Done   3 out of   3 | elapsed:   12.5s finished\n",
      "[Parallel(n_jobs=6)]: Using backend LokyBackend with 6 concurrent workers.\n",
      "[Parallel(n_jobs=6)]: Done   3 out of   3 | elapsed:   12.0s finished\n",
      "[Parallel(n_jobs=6)]: Using backend LokyBackend with 6 concurrent workers.\n",
      "[Parallel(n_jobs=6)]: Done   3 out of   3 | elapsed:    9.7s finished\n"
     ]
    }
   ],
   "source": [
    "linear_fac = LinearFactory(scale_factors=[1.0,2.0,3.0])\n",
    "linear_fac.run(compiled, Energy_Estimator, scale_noise=fold_gates_from_left)\n",
    "zne_expval = linear_fac.reduce()"
   ]
  },
  {
   "cell_type": "code",
   "execution_count": 127,
   "metadata": {},
   "outputs": [
    {
     "name": "stderr",
     "output_type": "stream",
     "text": [
      "[Parallel(n_jobs=6)]: Using backend LokyBackend with 6 concurrent workers.\n",
      "[Parallel(n_jobs=6)]: Done   3 out of   3 | elapsed:    7.4s finished\n",
      "[Parallel(n_jobs=6)]: Using backend LokyBackend with 6 concurrent workers.\n",
      "[Parallel(n_jobs=6)]: Done   3 out of   3 | elapsed:    8.1s finished\n",
      "[Parallel(n_jobs=6)]: Using backend LokyBackend with 6 concurrent workers.\n",
      "[Parallel(n_jobs=6)]: Done   3 out of   3 | elapsed:    8.3s finished\n",
      "[Parallel(n_jobs=6)]: Using backend LokyBackend with 6 concurrent workers.\n",
      "[Parallel(n_jobs=6)]: Done   3 out of   3 | elapsed:    8.5s finished\n"
     ]
    }
   ],
   "source": [
    "poly_fac = PolyFactory(scale_factors=[1.0, 2.0, 3.0, 4.0], order=2)\n",
    "poly_fac.run(compiled, Energy_Estimator, scale_noise=fold_gates_from_left)\n",
    "zne_expval=poly_fac.reduce()"
   ]
  },
  {
   "cell_type": "code",
   "execution_count": 98,
   "metadata": {},
   "outputs": [
    {
     "data": {
      "text/plain": [
       "-19.20733084237425"
      ]
     },
     "execution_count": 98,
     "metadata": {},
     "output_type": "execute_result"
    }
   ],
   "source": [
    "zne_expval"
   ]
  },
  {
   "cell_type": "code",
   "execution_count": 99,
   "metadata": {},
   "outputs": [
    {
     "data": {
      "text/plain": [
       "array([-19.08110595, -18.96097902, -18.83170515])"
      ]
     },
     "execution_count": 99,
     "metadata": {},
     "output_type": "execute_result"
    }
   ],
   "source": [
    "linear_fac.get_expectation_values()"
   ]
  },
  {
   "cell_type": "code",
   "execution_count": null,
   "metadata": {},
   "outputs": [],
   "source": []
  },
  {
   "cell_type": "code",
   "execution_count": 153,
   "metadata": {},
   "outputs": [
    {
     "name": "stderr",
     "output_type": "stream",
     "text": [
      "[Parallel(n_jobs=6)]: Using backend LokyBackend with 6 concurrent workers.\n",
      "[Parallel(n_jobs=6)]: Done   3 out of   3 | elapsed:    9.7s finished\n",
      "[Parallel(n_jobs=6)]: Using backend LokyBackend with 6 concurrent workers.\n",
      "[Parallel(n_jobs=6)]: Done   3 out of   3 | elapsed:    9.4s finished\n",
      "[Parallel(n_jobs=6)]: Using backend LokyBackend with 6 concurrent workers.\n",
      "[Parallel(n_jobs=6)]: Done   3 out of   3 | elapsed:    8.7s finished\n"
     ]
    },
    {
     "data": {
      "text/plain": [
       "<mitiq.zne.inference.LinearFactory at 0x7f1d4ba60610>"
      ]
     },
     "execution_count": 153,
     "metadata": {},
     "output_type": "execute_result"
    }
   ],
   "source": [
    "linear_fac.run(compiled, Energy_Estimator, scale_noise=fold_gates_from_right)"
   ]
  },
  {
   "cell_type": "code",
   "execution_count": 154,
   "metadata": {},
   "outputs": [
    {
     "data": {
      "text/plain": [
       "array([-18.49907828, -18.00017154, -17.70378913])"
      ]
     },
     "execution_count": 154,
     "metadata": {},
     "output_type": "execute_result"
    }
   ],
   "source": [
    "linear_fac.get_expectation_values()"
   ]
  },
  {
   "cell_type": "code",
   "execution_count": 38,
   "metadata": {},
   "outputs": [
    {
     "data": {
      "text/plain": [
       "array([1., 2., 3.])"
      ]
     },
     "execution_count": 38,
     "metadata": {},
     "output_type": "execute_result"
    }
   ],
   "source": [
    "richardson_fac.get_scale_factors()"
   ]
  },
  {
   "cell_type": "code",
   "execution_count": null,
   "metadata": {},
   "outputs": [],
   "source": []
  }
 ],
 "metadata": {
  "kernelspec": {
   "display_name": "Python 3",
   "language": "python",
   "name": "python3"
  },
  "language_info": {
   "codemirror_mode": {
    "name": "ipython",
    "version": 3
   },
   "file_extension": ".py",
   "mimetype": "text/x-python",
   "name": "python",
   "nbconvert_exporter": "python",
   "pygments_lexer": "ipython3",
   "version": "3.8.3"
  }
 },
 "nbformat": 4,
 "nbformat_minor": 4
}
