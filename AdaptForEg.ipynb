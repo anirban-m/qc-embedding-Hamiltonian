{
 "cells": [
  {
   "cell_type": "code",
   "execution_count": 1,
   "metadata": {},
   "outputs": [
    {
     "name": "stderr",
     "output_type": "stream",
     "text": [
      "/home/amukh/Anaconda3-Linux/lib/python3.8/site-packages/qiskit/chemistry/__init__.py:170: DeprecationWarning: The package qiskit.chemistry is deprecated. It was moved/refactored to qiskit_nature (pip install qiskit-nature). For more information see <https://github.com/Qiskit/qiskit-aqua/blob/master/README.md#migration-guide>\n",
      "  warn_package('chemistry', 'qiskit_nature', 'qiskit-nature')\n"
     ]
    }
   ],
   "source": [
    "import numpy\n",
    "import time\n",
    "import ipyparallel as ipp\n",
    "from scipy.stats import multinomial\n",
    "from scipy import stats\n",
    "from joblib import Parallel, delayed,Memory\n",
    "from qiskit_nature.operators.second_quantization import FermionicOp\n",
    "from qiskit_nature.problems.second_quantization.electronic.builders import fermionic_op_builder\n",
    "from qiskit_nature.mappers.second_quantization import JordanWignerMapper\n",
    "#from qiskit_nature.converters.second_quantization import QubitConverter\n",
    "from qiskit.opflow import I,X,Y,Z,StateFn,AbelianGrouper\n",
    "from qiskit.chemistry import FermionicOperator\n",
    "from qiskit.providers.aer import AerSimulator\n",
    "from qiskit.aqua.operators.legacy import op_converter\n",
    "from openfermion.circuits import slater_determinant_preparation_circuit\n",
    "from qiskit.quantum_info import Pauli\n",
    "from qiskit import QuantumCircuit,execute,QuantumRegister,ClassicalRegister\n",
    "from qiskit import Aer\n",
    "from openfermion.linalg import givens_decomposition_square as givensRotns\n",
    "from qiskit.opflow.primitive_ops import PauliSumOp\n",
    "from qiskit.utils import QuantumInstance\n",
    "from qiskit.opflow import PauliExpectation, CircuitSampler, CircuitStateFn \n",
    "import scipy\n",
    "from joblib import Parallel, delayed\n",
    "from qiskit.aqua.operators import WeightedPauliOperator\n",
    "from qiskit.compiler import transpile\n",
    "from qiskit.circuit.random import random_circuit\n",
    "from qiskit.chemistry.components.variational_forms import UCCSD"
   ]
  },
  {
   "cell_type": "code",
   "execution_count": 6,
   "metadata": {},
   "outputs": [],
   "source": [
    "import warnings\n",
    "warnings. filterwarnings('ignore')"
   ]
  },
  {
   "cell_type": "code",
   "execution_count": 7,
   "metadata": {},
   "outputs": [],
   "source": [
    "c = ipp.Client()\n",
    "num_qubits=8"
   ]
  },
  {
   "cell_type": "code",
   "execution_count": 8,
   "metadata": {},
   "outputs": [
    {
     "data": {
      "text/plain": [
       "[0, 1, 2, 3, 4, 5, 6, 7]"
      ]
     },
     "execution_count": 8,
     "metadata": {},
     "output_type": "execute_result"
    }
   ],
   "source": [
    "c.ids"
   ]
  },
  {
   "cell_type": "code",
   "execution_count": 9,
   "metadata": {},
   "outputs": [],
   "source": [
    "%run Utils.ipynb\n",
    "%run SMO.ipynb\n",
    "%run EstimateHamiltonianMean.ipynb"
   ]
  },
  {
   "cell_type": "code",
   "execution_count": 10,
   "metadata": {},
   "outputs": [],
   "source": [
    "U=7\n",
    "qubitH,Hmat,Eg,state_g=egBandHamiltonian(U)"
   ]
  },
  {
   "cell_type": "code",
   "execution_count": 14,
   "metadata": {},
   "outputs": [
    {
     "data": {
      "text/plain": [
       "[[(-13.659397921999993+0j), Pauli('IIIIIIII')],\n",
       " [(2.2640000000000007+0j), Pauli('IIIIIIIZ')],\n",
       " [(-0.150812971+0j), Pauli('IIIIIYZY')],\n",
       " [(-0.150812971+0j), Pauli('IIIIIXZX')],\n",
       " [(2.2640000000000016+0j), Pauli('IIIIIIZI')],\n",
       " [(-0.150812971+0j), Pauli('IIIIYZYI')],\n",
       " [(-0.150812971+0j), Pauli('IIIIXZXI')],\n",
       " [(-0.1616505195000002+0j), Pauli('IIIIIZII')],\n",
       " [(-0.1616505195000002+0j), Pauli('IIIIZIII')],\n",
       " [(2.2640000000000002+0j), Pauli('IIIZIIII')],\n",
       " [(-0.150812971+0j), Pauli('IYZYIIII')],\n",
       " [(-0.150812971+0j), Pauli('IXZXIIII')],\n",
       " [(2.2640000000000007+0j), Pauli('IIZIIIII')],\n",
       " [(-0.150812971+0j), Pauli('YZYIIIII')],\n",
       " [(-0.150812971+0j), Pauli('XZXIIIII')],\n",
       " [(-0.1616505195000002+0j), Pauli('IZIIIIII')],\n",
       " [(-0.1616505195000002+0j), Pauli('ZIIIIIII')],\n",
       " [(0.17499999999999993+0j), Pauli('IIIIIIZZ')],\n",
       " [(1.75+0j), Pauli('IIIZIIIZ')],\n",
       " [(0.7+0j), Pauli('IIZIIIIZ')],\n",
       " [(0.525+0j), Pauli('IIYYIIYY')],\n",
       " [(0.525+0j), Pauli('IIXXIIYY')],\n",
       " [(0.525+0j), Pauli('IIYYIIXX')],\n",
       " [(0.525+0j), Pauli('IIXXIIXX')],\n",
       " [(0.7+0j), Pauli('IIIZIIZI')],\n",
       " [(1.75+0j), Pauli('IIZIIIZI')],\n",
       " [(0.17499999999999993+0j), Pauli('IIZZIIII')]]"
      ]
     },
     "execution_count": 14,
     "metadata": {},
     "output_type": "execute_result"
    }
   ],
   "source": [
    "qubitH.paulis"
   ]
  },
  {
   "cell_type": "code",
   "execution_count": null,
   "metadata": {},
   "outputs": [],
   "source": [
    "#Initial state = HF by default, choice='1' generates simple product state \n",
    "var_form_base=InitState(U)"
   ]
  },
  {
   "cell_type": "code",
   "execution_count": 13,
   "metadata": {},
   "outputs": [],
   "source": [
    "#calling qubit UCCSD pool\n",
    "qubit_pool_UCCSD=qubit_UCCSD_pool(U)\n",
    "#calling commutator pool \n",
    "commutator_pool,commutator_pool_2=commutatorPool(qubitH)"
   ]
  },
  {
   "cell_type": "code",
   "execution_count": 15,
   "metadata": {},
   "outputs": [],
   "source": [
    "#Hamiltonian grouping for circuit based measurement\n",
    "eg_h1_0,eg_h1_1,eg_h2_0,eg_h2_1=egBandHamiltonianPartition(U)\n",
    "qubitH_0,qubitH_1,qubitH_2=qubitHamiltonianGroups(U)\n",
    "opArr=[qubitH_0,qubitH_1,qubitH_2]\n",
    "#two body off diags\n",
    "circ0_1gate,rotH2body=OffDiag2BodyTerms(opArr[2])\n",
    "#one body off diags\n",
    "circ0_8gate,rotH1body=OffDiag1BodyTerms(opArr[0])\n",
    "Ops=[rotH1body,opArr[1],rotH2body]"
   ]
  },
  {
   "cell_type": "code",
   "execution_count": 29,
   "metadata": {},
   "outputs": [
    {
     "name": "stdout",
     "output_type": "stream",
     "text": [
      "-13.659397922 * IIIIIIII\n",
      "- 0.1616505195000002 * ZIIIIIII\n",
      "- 0.1616505195000002 * IZIIIIII\n",
      "+ 2.2640000000000002 * IIZIIIII\n",
      "+ 2.2640000000000002 * IIIZIIII\n",
      "+ 0.17499999999999993 * IIZZIIII\n",
      "- 0.1616505195000002 * IIIIZIII\n",
      "- 0.1616505195000002 * IIIIIZII\n",
      "+ 2.2640000000000002 * IIIIIIZI\n",
      "+ 1.75 * IIZIIIZI\n",
      "+ 0.7 * IIIZIIZI\n",
      "+ 2.2640000000000002 * IIIIIIIZ\n",
      "+ 0.7 * IIZIIIIZ\n",
      "+ 1.75 * IIIZIIIZ\n",
      "+ 0.17499999999999993 * IIIIIIZZ\n"
     ]
    }
   ],
   "source": [
    "print(qubitH_1)"
   ]
  },
  {
   "cell_type": "code",
   "execution_count": 28,
   "metadata": {},
   "outputs": [
    {
     "name": "stdout",
     "output_type": "stream",
     "text": [
      "-13.659397922 * IIIIIIII\n",
      "- 0.1616505195000002 * ZIIIIIII\n",
      "- 0.1616505195000002 * IZIIIIII\n",
      "+ 2.2640000000000002 * IIZIIIII\n",
      "+ 2.2640000000000002 * IIIZIIII\n",
      "+ 0.17499999999999993 * IIZZIIII\n",
      "- 0.1616505195000002 * IIIIZIII\n",
      "- 0.1616505195000002 * IIIIIZII\n",
      "+ 2.2640000000000002 * IIIIIIZI\n",
      "+ 1.75 * IIZIIIZI\n",
      "+ 0.7 * IIIZIIZI\n",
      "+ 2.2640000000000002 * IIIIIIIZ\n",
      "+ 0.7 * IIZIIIIZ\n",
      "+ 1.75 * IIIZIIIZ\n",
      "+ 0.17499999999999993 * IIIIIIZZ\n"
     ]
    }
   ],
   "source": [
    "print(Ops[1])"
   ]
  },
  {
   "cell_type": "code",
   "execution_count": 15,
   "metadata": {},
   "outputs": [],
   "source": [
    "#Control Hamiltonian at lower U value\n",
    "eg_h1_0,eg_h1_1,eg_h2_0,eg_h2_1=egBandHamiltonianPartition(U-3)\n",
    "qubitH_0,qubitH_1,qubitH_2=qubitHamiltonianGroups(U-3)\n",
    "opArr=[qubitH_0,qubitH_1,qubitH_2]\n",
    "#two body off diags\n",
    "circ0_1gate_ctrl,rotH2body=OffDiag2BodyTerms(opArr[2])\n",
    "#one body off diags\n",
    "circ0_8gate_ctrl,rotH1body=OffDiag1BodyTerms(opArr[0])\n",
    "Ops_ctrl=[rotH1body,opArr[1],rotH2body]"
   ]
  },
  {
   "cell_type": "code",
   "execution_count": 16,
   "metadata": {},
   "outputs": [],
   "source": [
    "def MeasureForGrouping(OpArr):\n",
    "    Sum1=0\n",
    "    Sum2=0\n",
    "    for Op in OpArr:\n",
    "        coeffs=[Op.primitive.to_list()[i][1] for i in range(len(Op))]\n",
    "        Sum1=Sum1+numpy.sum(numpy.abs(coeffs))\n",
    "        Sum2=Sum2+numpy.sum(numpy.sqrt(numpy.sum(numpy.array(numpy.abs(coeffs))*numpy.array(numpy.abs(coeffs)))))\n",
    "    r=(Sum1/Sum2)**2\n",
    "    return r"
   ]
  },
  {
   "cell_type": "code",
   "execution_count": 20,
   "metadata": {},
   "outputs": [],
   "source": [
    "#params for simulator\n",
    "max_runs=20\n",
    "tol=1e-4\n",
    "qr=QuantumRegister(8,'q')"
   ]
  },
  {
   "cell_type": "code",
   "execution_count": 18,
   "metadata": {},
   "outputs": [],
   "source": [
    "max_runs=7"
   ]
  },
  {
   "cell_type": "code",
   "execution_count": 21,
   "metadata": {},
   "outputs": [
    {
     "name": "stdout",
     "output_type": "stream",
     "text": [
      "[-8.04019110e-01 -7.97323845e-01 -8.05272025e-01 -8.02883656e-01\n",
      " -8.01317512e-01 -8.00886823e-01 -8.01356666e-01 -8.04293186e-01\n",
      " -8.05037104e-01 -8.05193718e-01 -7.99242372e-01 -8.00651901e-01\n",
      " -8.01278359e-01 -7.95405319e-01 -8.08051931e-01 -8.04214878e-01\n",
      " -8.03627574e-01 -8.04645568e-01 -7.90197891e-01 -8.04293186e-01\n",
      " -1.04755395e+01 -1.04701170e+01 -1.04715388e+01 -1.04651528e+01\n",
      " -1.04699874e+01 -1.04669767e+01 -1.04709014e+01 -1.04764776e+01\n",
      " -1.04801820e+01 -1.04788120e+01 -1.04699371e+01 -1.04773980e+01\n",
      " -1.04795343e+01 -1.04623734e+01 -1.04780800e+01 -1.04743315e+01\n",
      " -1.04705195e+01 -1.04576955e+01 -1.04659108e+01 -1.04743585e+01\n",
      "  5.12695313e-04 -2.49023437e-03 -5.85937500e-04 -1.17187500e-03\n",
      "  0.00000000e+00 -6.59179688e-04  8.78906250e-04 -1.53808594e-03\n",
      " -2.92968750e-04  1.31835937e-03 -1.24511719e-03  5.12695313e-04\n",
      " -1.46484375e-04  4.02832031e-03 -2.49023437e-03 -8.78906250e-04\n",
      "  8.78906250e-04  1.46484375e-04  5.12695313e-04  2.27050781e-03]\n",
      "abs error 0.0004969616584524772\n",
      "**********\n",
      "\n",
      "[-8.04019110e-01 -7.97323845e-01 -8.05272025e-01 -8.02883656e-01\n",
      " -8.01317512e-01 -8.00886823e-01 -8.01356666e-01 -8.04293186e-01\n",
      " -8.05037104e-01 -8.05193718e-01 -7.99242372e-01 -8.00651901e-01\n",
      " -8.01278359e-01 -7.95405319e-01 -8.08051931e-01 -8.04214878e-01\n",
      " -8.03627574e-01 -8.04645568e-01 -7.90197891e-01 -8.04293186e-01\n",
      " -1.04755395e+01 -1.04701170e+01 -1.04715388e+01 -1.04651528e+01\n",
      " -1.04699874e+01 -1.04669767e+01 -1.04709014e+01 -1.04764776e+01\n",
      " -1.04801820e+01 -1.04788120e+01 -1.04699371e+01 -1.04773980e+01\n",
      " -1.04795343e+01 -1.04623734e+01 -1.04780800e+01 -1.04743315e+01\n",
      " -1.04705195e+01 -1.04576955e+01 -1.04659108e+01 -1.04743585e+01\n",
      "  5.12695313e-04 -2.49023437e-03 -5.85937500e-04 -1.17187500e-03\n",
      "  0.00000000e+00 -6.59179688e-04  8.78906250e-04 -1.53808594e-03\n",
      " -2.92968750e-04  1.31835937e-03 -1.24511719e-03  5.12695313e-04\n",
      " -1.46484375e-04  4.02832031e-03 -2.49023437e-03 -8.78906250e-04\n",
      "  8.78906250e-04  1.46484375e-04  5.12695313e-04  2.27050781e-03]\n",
      "abs error 8.1651745350797e-05\n",
      "**********\n",
      "\n",
      "[-8.04019110e-01 -7.97323845e-01 -8.05272025e-01 -8.02883656e-01\n",
      " -8.01317512e-01 -8.00886823e-01 -8.01356666e-01 -8.04293186e-01\n",
      " -8.05037104e-01 -8.05193718e-01 -7.99242372e-01 -8.00651901e-01\n",
      " -8.01278359e-01 -7.95405319e-01 -8.08051931e-01 -8.04214878e-01\n",
      " -8.03627574e-01 -8.04645568e-01 -7.90197891e-01 -8.04293186e-01\n",
      " -1.04755395e+01 -1.04701170e+01 -1.04715388e+01 -1.04651528e+01\n",
      " -1.04699874e+01 -1.04669767e+01 -1.04709014e+01 -1.04764776e+01\n",
      " -1.04801820e+01 -1.04788120e+01 -1.04699371e+01 -1.04773980e+01\n",
      " -1.04795343e+01 -1.04623734e+01 -1.04780800e+01 -1.04743315e+01\n",
      " -1.04705195e+01 -1.04576955e+01 -1.04659108e+01 -1.04743585e+01\n",
      "  5.12695313e-04 -2.49023437e-03 -5.85937500e-04 -1.17187500e-03\n",
      "  0.00000000e+00 -6.59179688e-04  8.78906250e-04 -1.53808594e-03\n",
      " -2.92968750e-04  1.31835937e-03 -1.24511719e-03  5.12695313e-04\n",
      " -1.46484375e-04  4.02832031e-03 -2.49023437e-03 -8.78906250e-04\n",
      "  8.78906250e-04  1.46484375e-04  5.12695313e-04  2.27050781e-03]\n",
      "abs error 8.223623513003986e-05\n",
      "**********\n",
      "\n",
      "[-8.04019110e-01 -7.97323845e-01 -8.05272025e-01 -8.02883656e-01\n",
      " -8.01317512e-01 -8.00886823e-01 -8.01356666e-01 -8.04293186e-01\n",
      " -8.05037104e-01 -8.05193718e-01 -7.99242372e-01 -8.00651901e-01\n",
      " -8.01278359e-01 -7.95405319e-01 -8.08051931e-01 -8.04214878e-01\n",
      " -8.03627574e-01 -8.04645568e-01 -7.90197891e-01 -8.04293186e-01\n",
      " -1.04755395e+01 -1.04701170e+01 -1.04715388e+01 -1.04651528e+01\n",
      " -1.04699874e+01 -1.04669767e+01 -1.04709014e+01 -1.04764776e+01\n",
      " -1.04801820e+01 -1.04788120e+01 -1.04699371e+01 -1.04773980e+01\n",
      " -1.04795343e+01 -1.04623734e+01 -1.04780800e+01 -1.04743315e+01\n",
      " -1.04705195e+01 -1.04576955e+01 -1.04659108e+01 -1.04743585e+01\n",
      "  5.12695313e-04 -2.49023437e-03 -5.85937500e-04 -1.17187500e-03\n",
      "  0.00000000e+00 -6.59179688e-04  8.78906250e-04 -1.53808594e-03\n",
      " -2.92968750e-04  1.31835937e-03 -1.24511719e-03  5.12695313e-04\n",
      " -1.46484375e-04  4.02832031e-03 -2.49023437e-03 -8.78906250e-04\n",
      "  8.78906250e-04  1.46484375e-04  5.12695313e-04  2.27050781e-03]\n",
      "abs error 0.00026339112196183123\n",
      "**********\n",
      "\n",
      "[-8.04019110e-01 -7.97323845e-01 -8.05272025e-01 -8.02883656e-01\n",
      " -8.01317512e-01 -8.00886823e-01 -8.01356666e-01 -8.04293186e-01\n",
      " -8.05037104e-01 -8.05193718e-01 -7.99242372e-01 -8.00651901e-01\n",
      " -8.01278359e-01 -7.95405319e-01 -8.08051931e-01 -8.04214878e-01\n",
      " -8.03627574e-01 -8.04645568e-01 -7.90197891e-01 -8.04293186e-01\n",
      " -1.04755395e+01 -1.04701170e+01 -1.04715388e+01 -1.04651528e+01\n",
      " -1.04699874e+01 -1.04669767e+01 -1.04709014e+01 -1.04764776e+01\n",
      " -1.04801820e+01 -1.04788120e+01 -1.04699371e+01 -1.04773980e+01\n",
      " -1.04795343e+01 -1.04623734e+01 -1.04780800e+01 -1.04743315e+01\n",
      " -1.04705195e+01 -1.04576955e+01 -1.04659108e+01 -1.04743585e+01\n",
      "  5.12695313e-04 -2.49023437e-03 -5.85937500e-04 -1.17187500e-03\n",
      "  0.00000000e+00 -6.59179688e-04  8.78906250e-04 -1.53808594e-03\n",
      " -2.92968750e-04  1.31835937e-03 -1.24511719e-03  5.12695313e-04\n",
      " -1.46484375e-04  4.02832031e-03 -2.49023437e-03 -8.78906250e-04\n",
      "  8.78906250e-04  1.46484375e-04  5.12695313e-04  2.27050781e-03]\n",
      "abs error 0.00018822820590003175\n",
      "**********\n",
      "\n",
      "[-8.04019110e-01 -7.97323845e-01 -8.05272025e-01 -8.02883656e-01\n",
      " -8.01317512e-01 -8.00886823e-01 -8.01356666e-01 -8.04293186e-01\n",
      " -8.05037104e-01 -8.05193718e-01 -7.99242372e-01 -8.00651901e-01\n",
      " -8.01278359e-01 -7.95405319e-01 -8.08051931e-01 -8.04214878e-01\n",
      " -8.03627574e-01 -8.04645568e-01 -7.90197891e-01 -8.04293186e-01\n",
      " -1.04755395e+01 -1.04701170e+01 -1.04715388e+01 -1.04651528e+01\n",
      " -1.04699874e+01 -1.04669767e+01 -1.04709014e+01 -1.04764776e+01\n",
      " -1.04801820e+01 -1.04788120e+01 -1.04699371e+01 -1.04773980e+01\n",
      " -1.04795343e+01 -1.04623734e+01 -1.04780800e+01 -1.04743315e+01\n",
      " -1.04705195e+01 -1.04576955e+01 -1.04659108e+01 -1.04743585e+01\n",
      "  5.12695313e-04 -2.49023437e-03 -5.85937500e-04 -1.17187500e-03\n",
      "  0.00000000e+00 -6.59179688e-04  8.78906250e-04 -1.53808594e-03\n",
      " -2.92968750e-04  1.31835937e-03 -1.24511719e-03  5.12695313e-04\n",
      " -1.46484375e-04  4.02832031e-03 -2.49023437e-03 -8.78906250e-04\n",
      "  8.78906250e-04  1.46484375e-04  5.12695313e-04  2.27050781e-03]\n",
      "abs error 0.00019915528967828777\n",
      "**********\n",
      "\n",
      "[-8.04019110e-01 -7.97323845e-01 -8.05272025e-01 -8.02883656e-01\n",
      " -8.01317512e-01 -8.00886823e-01 -8.01356666e-01 -8.04293186e-01\n",
      " -8.05037104e-01 -8.05193718e-01 -7.99242372e-01 -8.00651901e-01\n",
      " -8.01278359e-01 -7.95405319e-01 -8.08051931e-01 -8.04214878e-01\n",
      " -8.03627574e-01 -8.04645568e-01 -7.90197891e-01 -8.04293186e-01\n",
      " -1.04755395e+01 -1.04701170e+01 -1.04715388e+01 -1.04651528e+01\n",
      " -1.04699874e+01 -1.04669767e+01 -1.04709014e+01 -1.04764776e+01\n",
      " -1.04801820e+01 -1.04788120e+01 -1.04699371e+01 -1.04773980e+01\n",
      " -1.04795343e+01 -1.04623734e+01 -1.04780800e+01 -1.04743315e+01\n",
      " -1.04705195e+01 -1.04576955e+01 -1.04659108e+01 -1.04743585e+01\n",
      "  5.12695313e-04 -2.49023437e-03 -5.85937500e-04 -1.17187500e-03\n",
      "  0.00000000e+00 -6.59179688e-04  8.78906250e-04 -1.53808594e-03\n",
      " -2.92968750e-04  1.31835937e-03 -1.24511719e-03  5.12695313e-04\n",
      " -1.46484375e-04  4.02832031e-03 -2.49023437e-03 -8.78906250e-04\n",
      "  8.78906250e-04  1.46484375e-04  5.12695313e-04  2.27050781e-03]\n",
      "abs error 0.0004357014075928589\n",
      "**********\n",
      "\n",
      "[-8.04019110e-01 -7.97323845e-01 -8.05272025e-01 -8.02883656e-01\n",
      " -8.01317512e-01 -8.00886823e-01 -8.01356666e-01 -8.04293186e-01\n",
      " -8.05037104e-01 -8.05193718e-01 -7.99242372e-01 -8.00651901e-01\n",
      " -8.01278359e-01 -7.95405319e-01 -8.08051931e-01 -8.04214878e-01\n",
      " -8.03627574e-01 -8.04645568e-01 -7.90197891e-01 -8.04293186e-01\n",
      " -1.04755395e+01 -1.04701170e+01 -1.04715388e+01 -1.04651528e+01\n",
      " -1.04699874e+01 -1.04669767e+01 -1.04709014e+01 -1.04764776e+01\n",
      " -1.04801820e+01 -1.04788120e+01 -1.04699371e+01 -1.04773980e+01\n",
      " -1.04795343e+01 -1.04623734e+01 -1.04780800e+01 -1.04743315e+01\n",
      " -1.04705195e+01 -1.04576955e+01 -1.04659108e+01 -1.04743585e+01\n",
      "  5.12695313e-04 -2.49023437e-03 -5.85937500e-04 -1.17187500e-03\n",
      "  0.00000000e+00 -6.59179688e-04  8.78906250e-04 -1.53808594e-03\n",
      " -2.92968750e-04  1.31835937e-03 -1.24511719e-03  5.12695313e-04\n",
      " -1.46484375e-04  4.02832031e-03 -2.49023437e-03 -8.78906250e-04\n",
      "  8.78906250e-04  1.46484375e-04  5.12695313e-04  2.27050781e-03]\n",
      "abs error 0.0001564268704044025\n",
      "**********\n",
      "\n",
      "The slowest run took 4.10 times longer than the fastest. This could mean that an intermediate result is being cached.\n",
      "5.38 s ± 3.92 s per loop (mean ± std. dev. of 7 runs, 1 loop each)\n"
     ]
    }
   ],
   "source": [
    "%timeit Hestimate([])"
   ]
  },
  {
   "cell_type": "code",
   "execution_count": 20,
   "metadata": {
    "scrolled": true
   },
   "outputs": [
    {
     "name": "stderr",
     "output_type": "stream",
     "text": [
      "[Parallel(n_jobs=7)]: Using backend LokyBackend with 7 concurrent workers.\n",
      "[Parallel(n_jobs=7)]: Done  27 tasks      | elapsed:    3.4s\n",
      "[Parallel(n_jobs=7)]: Done  56 out of  56 | elapsed:    3.6s finished\n"
     ]
    },
    {
     "name": "stdout",
     "output_type": "stream",
     "text": [
      "IIIZIXZY\n",
      "5\n",
      "5\n",
      "5\n",
      "**********\n",
      " -18.788224967754427 (-18.788335371650774+0j)\n",
      "looped 1 times\n",
      "5\n",
      "5\n",
      "5\n",
      "**********\n",
      " -18.78842671796598 (-18.788335371650774+0j)\n",
      "5\n",
      "5\n",
      "5\n",
      "**********\n",
      " -18.544647321580488 (-18.54464356163391+0j)\n",
      "5\n",
      "5\n",
      "5\n",
      "**********\n",
      " -17.689818267485265 (-17.689859505024103-1.7763568394002505e-15j)\n",
      "5\n",
      "5\n",
      "5\n",
      "**********\n",
      " -18.912858304985228 (-18.91287547860905+0j)\n",
      "-18.912858304985228 nan -18.91287547860905 15.131638699996984\n",
      "inner loop error 0.12443158701924872\n",
      "looped 2 times\n",
      "5\n",
      "5\n",
      "5\n",
      "**********\n",
      " -18.912818094800922 (-18.91287547860905+0j)\n",
      "5\n",
      "5\n",
      "5\n",
      "**********\n",
      " -18.11727735867525 (-18.117291686397405+0j)\n",
      "5\n",
      "5\n",
      "5\n",
      "**********\n",
      " -18.11720082915598 (-18.117211380260606+0j)\n",
      "5\n",
      "5\n",
      "5\n",
      "**********\n",
      " -18.912770814529416 (-18.912875479620027-8.881784197001252e-16j)\n",
      "-18.912770814529416 nan -18.912875479620027 29.94853379999404\n",
      "inner loop error 4.728027150591174e-05\n",
      "convergence energy -18.912770814529416 -18.912875479620027\n",
      "excitationOp IIIZIXZY\n",
      "time elapsed 38.05098140001064\n"
     ]
    },
    {
     "name": "stderr",
     "output_type": "stream",
     "text": [
      "[Parallel(n_jobs=7)]: Using backend LokyBackend with 7 concurrent workers.\n"
     ]
    },
    {
     "name": "stdout",
     "output_type": "stream",
     "text": [
      "IIZIXZYI\n"
     ]
    },
    {
     "name": "stderr",
     "output_type": "stream",
     "text": [
      "[Parallel(n_jobs=7)]: Done  56 out of  56 | elapsed:    2.7s finished\n"
     ]
    },
    {
     "name": "stdout",
     "output_type": "stream",
     "text": [
      "5\n",
      "5\n",
      "5\n",
      "**********\n",
      " -18.91289558278463 (-18.912875479620027-8.881784197001252e-16j)\n",
      "looped 1 times\n",
      "5\n",
      "5\n",
      "5\n",
      "**********\n",
      " -18.912873336447532 (-18.912875479620027-8.881784197001252e-16j)\n",
      "5\n",
      "5\n",
      "5\n",
      "**********\n",
      " -18.11727432764341 (-18.117253419476086+0j)\n",
      "5\n",
      "5\n",
      "5\n",
      "**********\n",
      " -18.11731893519763 (-18.117249647181925+0j)\n",
      "5\n",
      "5\n",
      "5\n",
      "**********\n",
      " -18.912792382022655 (-18.912875479254488+0j)\n",
      "-18.912792382022655 7.761087046022396e-05 -18.912875479254488 17.243547700025374\n",
      "5\n",
      "5\n",
      "5\n",
      "**********\n",
      " -18.58383481166597 (-18.583885785658257+1.7763568394002505e-15j)\n",
      "5\n",
      "5\n",
      "5\n",
      "**********\n",
      " -17.79481118926704 (-17.794719957999185-8.881784197001252e-16j)\n",
      "5\n",
      "5\n",
      "5\n",
      "**********\n",
      " -19.013477936702564 (-19.01347093353337+1.7763568394002505e-15j)\n"
     ]
    },
    {
     "ename": "KeyboardInterrupt",
     "evalue": "",
     "output_type": "error",
     "traceback": [
      "\u001b[0;31m---------------------------------------------------------------------------\u001b[0m",
      "\u001b[0;31mKeyboardInterrupt\u001b[0m                         Traceback (most recent call last)",
      "\u001b[0;32m<ipython-input-20-e61e3a812cd3>\u001b[0m in \u001b[0;36m<module>\u001b[0;34m\u001b[0m\n\u001b[1;32m     27\u001b[0m     \u001b[0mqc\u001b[0m\u001b[0;34m.\u001b[0m\u001b[0mappend\u001b[0m\u001b[0;34m(\u001b[0m\u001b[0mcirc\u001b[0m\u001b[0;34m.\u001b[0m\u001b[0mto_instruction\u001b[0m\u001b[0;34m(\u001b[0m\u001b[0;34m)\u001b[0m\u001b[0;34m,\u001b[0m\u001b[0mqr\u001b[0m\u001b[0;34m)\u001b[0m\u001b[0;34m\u001b[0m\u001b[0;34m\u001b[0m\u001b[0m\n\u001b[1;32m     28\u001b[0m     \u001b[0mruns\u001b[0m\u001b[0;34m=\u001b[0m\u001b[0;36m25\u001b[0m\u001b[0;34m\u001b[0m\u001b[0;34m\u001b[0m\u001b[0m\n\u001b[0;32m---> 29\u001b[0;31m     \u001b[0mEestm\u001b[0m\u001b[0;34m,\u001b[0m\u001b[0mMSE\u001b[0m\u001b[0;34m,\u001b[0m\u001b[0mparams\u001b[0m\u001b[0;34m,\u001b[0m\u001b[0mEexact\u001b[0m\u001b[0;34m=\u001b[0m\u001b[0mSMO_optimize_qasm\u001b[0m\u001b[0;34m(\u001b[0m\u001b[0mHestimate\u001b[0m\u001b[0;34m,\u001b[0m\u001b[0mparams\u001b[0m\u001b[0;34m,\u001b[0m\u001b[0mmax_runs\u001b[0m\u001b[0;34m,\u001b[0m\u001b[0mtol\u001b[0m\u001b[0;34m)\u001b[0m\u001b[0;34m\u001b[0m\u001b[0;34m\u001b[0m\u001b[0m\n\u001b[0m\u001b[1;32m     30\u001b[0m     \u001b[0;31m#optimize with statevector\u001b[0m\u001b[0;34m\u001b[0m\u001b[0;34m\u001b[0m\u001b[0;34m\u001b[0m\u001b[0m\n\u001b[1;32m     31\u001b[0m     \u001b[0;31m#E,params=SMO_optimize(Energy,params,runs,tol)\u001b[0m\u001b[0;34m\u001b[0m\u001b[0;34m\u001b[0m\u001b[0;34m\u001b[0m\u001b[0m\n",
      "\u001b[0;32m<ipython-input-17-578113134b0d>\u001b[0m in \u001b[0;36mSMO_optimize_qasm\u001b[0;34m(cost, params, runs, tol)\u001b[0m\n\u001b[1;32m     48\u001b[0m             \u001b[0mind\u001b[0m\u001b[0;34m=\u001b[0m\u001b[0mi\u001b[0m\u001b[0;34m\u001b[0m\u001b[0;34m\u001b[0m\u001b[0m\n\u001b[1;32m     49\u001b[0m             \u001b[0mparams\u001b[0m\u001b[0;34m,\u001b[0m\u001b[0mE\u001b[0m\u001b[0;34m,\u001b[0m\u001b[0mMSE\u001b[0m\u001b[0;34m=\u001b[0m\u001b[0mupdate\u001b[0m\u001b[0;34m(\u001b[0m\u001b[0mE\u001b[0m\u001b[0;34m,\u001b[0m\u001b[0mMSE\u001b[0m\u001b[0;34m,\u001b[0m\u001b[0mcost\u001b[0m\u001b[0;34m,\u001b[0m\u001b[0mparams\u001b[0m\u001b[0;34m,\u001b[0m\u001b[0mind\u001b[0m\u001b[0;34m)\u001b[0m\u001b[0;34m\u001b[0m\u001b[0;34m\u001b[0m\u001b[0m\n\u001b[0;32m---> 50\u001b[0;31m             \u001b[0mprint\u001b[0m\u001b[0;34m(\u001b[0m\u001b[0mE\u001b[0m\u001b[0;34m,\u001b[0m\u001b[0mMSE\u001b[0m\u001b[0;34m,\u001b[0m\u001b[0mEnergy\u001b[0m\u001b[0;34m(\u001b[0m\u001b[0mparams\u001b[0m\u001b[0;34m)\u001b[0m\u001b[0;34m,\u001b[0m\u001b[0mtime\u001b[0m\u001b[0;34m.\u001b[0m\u001b[0mtime\u001b[0m\u001b[0;34m(\u001b[0m\u001b[0;34m)\u001b[0m\u001b[0;34m-\u001b[0m\u001b[0mt1\u001b[0m\u001b[0;34m)\u001b[0m\u001b[0;34m\u001b[0m\u001b[0;34m\u001b[0m\u001b[0m\n\u001b[0m\u001b[1;32m     51\u001b[0m             \u001b[0;32mwith\u001b[0m \u001b[0mopen\u001b[0m\u001b[0;34m(\u001b[0m\u001b[0;34m'../'\u001b[0m\u001b[0;34m+\u001b[0m\u001b[0mstr\u001b[0m\u001b[0;34m(\u001b[0m\u001b[0mU\u001b[0m\u001b[0;34m)\u001b[0m\u001b[0;34m+\u001b[0m\u001b[0;34m'/adaptRunDataQasmNew.txt'\u001b[0m\u001b[0;34m,\u001b[0m\u001b[0;34m'a'\u001b[0m\u001b[0;34m)\u001b[0m \u001b[0;32mas\u001b[0m \u001b[0mf\u001b[0m\u001b[0;34m:\u001b[0m\u001b[0;34m\u001b[0m\u001b[0;34m\u001b[0m\u001b[0m\n\u001b[1;32m     52\u001b[0m                 \u001b[0mStr\u001b[0m\u001b[0;34m=\u001b[0m\u001b[0;34m[\u001b[0m\u001b[0;34m\"{:0.16f}\"\u001b[0m\u001b[0;34m.\u001b[0m\u001b[0mformat\u001b[0m\u001b[0;34m(\u001b[0m\u001b[0mparams\u001b[0m\u001b[0;34m[\u001b[0m\u001b[0mi\u001b[0m\u001b[0;34m]\u001b[0m\u001b[0;34m)\u001b[0m \u001b[0;32mfor\u001b[0m \u001b[0mi\u001b[0m \u001b[0;32min\u001b[0m \u001b[0mrange\u001b[0m\u001b[0;34m(\u001b[0m\u001b[0mlen\u001b[0m\u001b[0;34m(\u001b[0m\u001b[0mparams\u001b[0m\u001b[0;34m)\u001b[0m\u001b[0;34m)\u001b[0m\u001b[0;34m]\u001b[0m\u001b[0;34m\u001b[0m\u001b[0;34m\u001b[0m\u001b[0m\n",
      "\u001b[0;32m<ipython-input-17-578113134b0d>\u001b[0m in \u001b[0;36mEnergy\u001b[0;34m(params)\u001b[0m\n\u001b[1;32m      7\u001b[0m         \u001b[0mbackend\u001b[0m \u001b[0;34m=\u001b[0m \u001b[0mAer\u001b[0m\u001b[0;34m.\u001b[0m\u001b[0mget_backend\u001b[0m\u001b[0;34m(\u001b[0m\u001b[0;34m'statevector_simulator'\u001b[0m\u001b[0;34m)\u001b[0m\u001b[0;34m\u001b[0m\u001b[0;34m\u001b[0m\u001b[0m\n\u001b[1;32m      8\u001b[0m         \u001b[0mcirc\u001b[0m\u001b[0;34m=\u001b[0m\u001b[0mvar_form_base\u001b[0m\u001b[0;34m.\u001b[0m\u001b[0mconstruct_circuit\u001b[0m\u001b[0;34m(\u001b[0m\u001b[0mparameters\u001b[0m\u001b[0;34m=\u001b[0m\u001b[0mparams\u001b[0m\u001b[0;34m)\u001b[0m\u001b[0;34m\u001b[0m\u001b[0;34m\u001b[0m\u001b[0m\n\u001b[0;32m----> 9\u001b[0;31m         \u001b[0mstateVector_0\u001b[0m\u001b[0;34m=\u001b[0m\u001b[0mexecute\u001b[0m\u001b[0;34m(\u001b[0m\u001b[0mcirc\u001b[0m\u001b[0;34m,\u001b[0m\u001b[0mbackend\u001b[0m\u001b[0;34m,\u001b[0m\u001b[0mshots\u001b[0m\u001b[0;34m=\u001b[0m\u001b[0;36m1024\u001b[0m\u001b[0;34m)\u001b[0m\u001b[0;34m.\u001b[0m\u001b[0mresult\u001b[0m\u001b[0;34m(\u001b[0m\u001b[0;34m)\u001b[0m\u001b[0;34m.\u001b[0m\u001b[0mget_statevector\u001b[0m\u001b[0;34m(\u001b[0m\u001b[0;34m)\u001b[0m\u001b[0;34m\u001b[0m\u001b[0;34m\u001b[0m\u001b[0m\n\u001b[0m\u001b[1;32m     10\u001b[0m         \u001b[0mE\u001b[0m\u001b[0;34m=\u001b[0m\u001b[0mnumpy\u001b[0m\u001b[0;34m.\u001b[0m\u001b[0mreal\u001b[0m\u001b[0;34m(\u001b[0m\u001b[0mnumpy\u001b[0m\u001b[0;34m.\u001b[0m\u001b[0mdot\u001b[0m\u001b[0;34m(\u001b[0m\u001b[0mnumpy\u001b[0m\u001b[0;34m.\u001b[0m\u001b[0mdot\u001b[0m\u001b[0;34m(\u001b[0m\u001b[0mnumpy\u001b[0m\u001b[0;34m.\u001b[0m\u001b[0mconjugate\u001b[0m\u001b[0;34m(\u001b[0m\u001b[0mstateVector_0\u001b[0m\u001b[0;34m)\u001b[0m\u001b[0;34m,\u001b[0m\u001b[0mHmat\u001b[0m\u001b[0;34m)\u001b[0m\u001b[0;34m,\u001b[0m\u001b[0mstateVector_0\u001b[0m\u001b[0;34m)\u001b[0m\u001b[0;34m)\u001b[0m\u001b[0;34m\u001b[0m\u001b[0;34m\u001b[0m\u001b[0m\n\u001b[1;32m     11\u001b[0m         \u001b[0;32mreturn\u001b[0m \u001b[0mE\u001b[0m\u001b[0;34m\u001b[0m\u001b[0;34m\u001b[0m\u001b[0m\n",
      "\u001b[0;32m~/Anaconda3-Linux/lib/python3.8/site-packages/qiskit/execute_function.py\u001b[0m in \u001b[0;36mexecute\u001b[0;34m(experiments, backend, basis_gates, coupling_map, backend_properties, initial_layout, seed_transpiler, optimization_level, pass_manager, qobj_id, qobj_header, shots, memory, max_credits, seed_simulator, default_qubit_los, default_meas_los, schedule_los, meas_level, meas_return, memory_slots, memory_slot_size, rep_time, rep_delay, parameter_binds, schedule_circuit, inst_map, meas_map, scheduling_method, init_qubits, **run_config)\u001b[0m\n\u001b[1;32m    250\u001b[0m     \u001b[0;32melse\u001b[0m\u001b[0;34m:\u001b[0m\u001b[0;34m\u001b[0m\u001b[0;34m\u001b[0m\u001b[0m\n\u001b[1;32m    251\u001b[0m         \u001b[0;31m# transpiling the circuits using given transpile options\u001b[0m\u001b[0;34m\u001b[0m\u001b[0;34m\u001b[0m\u001b[0;34m\u001b[0m\u001b[0m\n\u001b[0;32m--> 252\u001b[0;31m         experiments = transpile(experiments,\n\u001b[0m\u001b[1;32m    253\u001b[0m                                 \u001b[0mbasis_gates\u001b[0m\u001b[0;34m=\u001b[0m\u001b[0mbasis_gates\u001b[0m\u001b[0;34m,\u001b[0m\u001b[0;34m\u001b[0m\u001b[0;34m\u001b[0m\u001b[0m\n\u001b[1;32m    254\u001b[0m                                 \u001b[0mcoupling_map\u001b[0m\u001b[0;34m=\u001b[0m\u001b[0mcoupling_map\u001b[0m\u001b[0;34m,\u001b[0m\u001b[0;34m\u001b[0m\u001b[0;34m\u001b[0m\u001b[0m\n",
      "\u001b[0;32m~/Anaconda3-Linux/lib/python3.8/site-packages/qiskit/compiler/transpiler.py\u001b[0m in \u001b[0;36mtranspile\u001b[0;34m(circuits, backend, basis_gates, coupling_map, backend_properties, initial_layout, layout_method, routing_method, translation_method, scheduling_method, instruction_durations, dt, approximation_degree, seed_transpiler, optimization_level, pass_manager, callback, output_name)\u001b[0m\n\u001b[1;32m    243\u001b[0m \u001b[0;34m\u001b[0m\u001b[0m\n\u001b[1;32m    244\u001b[0m     \u001b[0;31m# Transpile circuits in parallel\u001b[0m\u001b[0;34m\u001b[0m\u001b[0;34m\u001b[0m\u001b[0;34m\u001b[0m\u001b[0m\n\u001b[0;32m--> 245\u001b[0;31m     \u001b[0mcircuits\u001b[0m \u001b[0;34m=\u001b[0m \u001b[0mparallel_map\u001b[0m\u001b[0;34m(\u001b[0m\u001b[0m_transpile_circuit\u001b[0m\u001b[0;34m,\u001b[0m \u001b[0mlist\u001b[0m\u001b[0;34m(\u001b[0m\u001b[0mzip\u001b[0m\u001b[0;34m(\u001b[0m\u001b[0mcircuits\u001b[0m\u001b[0;34m,\u001b[0m \u001b[0mtranspile_args\u001b[0m\u001b[0;34m)\u001b[0m\u001b[0;34m)\u001b[0m\u001b[0;34m)\u001b[0m\u001b[0;34m\u001b[0m\u001b[0;34m\u001b[0m\u001b[0m\n\u001b[0m\u001b[1;32m    246\u001b[0m \u001b[0;34m\u001b[0m\u001b[0m\n\u001b[1;32m    247\u001b[0m     \u001b[0mend_time\u001b[0m \u001b[0;34m=\u001b[0m \u001b[0mtime\u001b[0m\u001b[0;34m(\u001b[0m\u001b[0;34m)\u001b[0m\u001b[0;34m\u001b[0m\u001b[0;34m\u001b[0m\u001b[0m\n",
      "\u001b[0;32m~/Anaconda3-Linux/lib/python3.8/site-packages/qiskit/tools/parallel.py\u001b[0m in \u001b[0;36mparallel_map\u001b[0;34m(task, values, task_args, task_kwargs, num_processes)\u001b[0m\n\u001b[1;32m    126\u001b[0m         \u001b[0;32mreturn\u001b[0m \u001b[0;34m[\u001b[0m\u001b[0;34m]\u001b[0m\u001b[0;34m\u001b[0m\u001b[0;34m\u001b[0m\u001b[0m\n\u001b[1;32m    127\u001b[0m     \u001b[0;32mif\u001b[0m \u001b[0mlen\u001b[0m\u001b[0;34m(\u001b[0m\u001b[0mvalues\u001b[0m\u001b[0;34m)\u001b[0m \u001b[0;34m==\u001b[0m \u001b[0;36m1\u001b[0m\u001b[0;34m:\u001b[0m\u001b[0;34m\u001b[0m\u001b[0;34m\u001b[0m\u001b[0m\n\u001b[0;32m--> 128\u001b[0;31m         \u001b[0;32mreturn\u001b[0m \u001b[0;34m[\u001b[0m\u001b[0mtask\u001b[0m\u001b[0;34m(\u001b[0m\u001b[0mvalues\u001b[0m\u001b[0;34m[\u001b[0m\u001b[0;36m0\u001b[0m\u001b[0;34m]\u001b[0m\u001b[0;34m,\u001b[0m \u001b[0;34m*\u001b[0m\u001b[0mtask_args\u001b[0m\u001b[0;34m,\u001b[0m \u001b[0;34m**\u001b[0m\u001b[0mtask_kwargs\u001b[0m\u001b[0;34m)\u001b[0m\u001b[0;34m]\u001b[0m\u001b[0;34m\u001b[0m\u001b[0;34m\u001b[0m\u001b[0m\n\u001b[0m\u001b[1;32m    129\u001b[0m \u001b[0;34m\u001b[0m\u001b[0m\n\u001b[1;32m    130\u001b[0m     \u001b[0mPublisher\u001b[0m\u001b[0;34m(\u001b[0m\u001b[0;34m)\u001b[0m\u001b[0;34m.\u001b[0m\u001b[0mpublish\u001b[0m\u001b[0;34m(\u001b[0m\u001b[0;34m\"terra.parallel.start\"\u001b[0m\u001b[0;34m,\u001b[0m \u001b[0mlen\u001b[0m\u001b[0;34m(\u001b[0m\u001b[0mvalues\u001b[0m\u001b[0;34m)\u001b[0m\u001b[0;34m)\u001b[0m\u001b[0;34m\u001b[0m\u001b[0;34m\u001b[0m\u001b[0m\n",
      "\u001b[0;32m~/Anaconda3-Linux/lib/python3.8/site-packages/qiskit/compiler/transpiler.py\u001b[0m in \u001b[0;36m_transpile_circuit\u001b[0;34m(circuit_config_tuple)\u001b[0m\n\u001b[1;32m    326\u001b[0m         \u001b[0;32mraise\u001b[0m \u001b[0mTranspilerError\u001b[0m\u001b[0;34m(\u001b[0m\u001b[0;34m\"optimization_level can range from 0 to 3.\"\u001b[0m\u001b[0;34m)\u001b[0m\u001b[0;34m\u001b[0m\u001b[0;34m\u001b[0m\u001b[0m\n\u001b[1;32m    327\u001b[0m \u001b[0;34m\u001b[0m\u001b[0m\n\u001b[0;32m--> 328\u001b[0;31m     result = pass_manager.run(circuit, callback=transpile_config['callback'],\n\u001b[0m\u001b[1;32m    329\u001b[0m                               output_name=transpile_config['output_name'])\n\u001b[1;32m    330\u001b[0m \u001b[0;34m\u001b[0m\u001b[0m\n",
      "\u001b[0;32m~/Anaconda3-Linux/lib/python3.8/site-packages/qiskit/transpiler/passmanager.py\u001b[0m in \u001b[0;36mrun\u001b[0;34m(self, circuits, output_name, callback)\u001b[0m\n\u001b[1;32m    214\u001b[0m         \"\"\"\n\u001b[1;32m    215\u001b[0m         \u001b[0;32mif\u001b[0m \u001b[0misinstance\u001b[0m\u001b[0;34m(\u001b[0m\u001b[0mcircuits\u001b[0m\u001b[0;34m,\u001b[0m \u001b[0mQuantumCircuit\u001b[0m\u001b[0;34m)\u001b[0m\u001b[0;34m:\u001b[0m\u001b[0;34m\u001b[0m\u001b[0;34m\u001b[0m\u001b[0m\n\u001b[0;32m--> 216\u001b[0;31m             \u001b[0;32mreturn\u001b[0m \u001b[0mself\u001b[0m\u001b[0;34m.\u001b[0m\u001b[0m_run_single_circuit\u001b[0m\u001b[0;34m(\u001b[0m\u001b[0mcircuits\u001b[0m\u001b[0;34m,\u001b[0m \u001b[0moutput_name\u001b[0m\u001b[0;34m,\u001b[0m \u001b[0mcallback\u001b[0m\u001b[0;34m)\u001b[0m\u001b[0;34m\u001b[0m\u001b[0;34m\u001b[0m\u001b[0m\n\u001b[0m\u001b[1;32m    217\u001b[0m         \u001b[0;32melif\u001b[0m \u001b[0mlen\u001b[0m\u001b[0;34m(\u001b[0m\u001b[0mcircuits\u001b[0m\u001b[0;34m)\u001b[0m \u001b[0;34m==\u001b[0m \u001b[0;36m1\u001b[0m\u001b[0;34m:\u001b[0m\u001b[0;34m\u001b[0m\u001b[0;34m\u001b[0m\u001b[0m\n\u001b[1;32m    218\u001b[0m             \u001b[0;32mreturn\u001b[0m \u001b[0mself\u001b[0m\u001b[0;34m.\u001b[0m\u001b[0m_run_single_circuit\u001b[0m\u001b[0;34m(\u001b[0m\u001b[0mcircuits\u001b[0m\u001b[0;34m[\u001b[0m\u001b[0;36m0\u001b[0m\u001b[0;34m]\u001b[0m\u001b[0;34m,\u001b[0m \u001b[0moutput_name\u001b[0m\u001b[0;34m,\u001b[0m \u001b[0mcallback\u001b[0m\u001b[0;34m)\u001b[0m\u001b[0;34m\u001b[0m\u001b[0;34m\u001b[0m\u001b[0m\n",
      "\u001b[0;32m~/Anaconda3-Linux/lib/python3.8/site-packages/qiskit/transpiler/passmanager.py\u001b[0m in \u001b[0;36m_run_single_circuit\u001b[0;34m(self, circuit, output_name, callback)\u001b[0m\n\u001b[1;32m    275\u001b[0m         \"\"\"\n\u001b[1;32m    276\u001b[0m         \u001b[0mrunning_passmanager\u001b[0m \u001b[0;34m=\u001b[0m \u001b[0mself\u001b[0m\u001b[0;34m.\u001b[0m\u001b[0m_create_running_passmanager\u001b[0m\u001b[0;34m(\u001b[0m\u001b[0;34m)\u001b[0m\u001b[0;34m\u001b[0m\u001b[0;34m\u001b[0m\u001b[0m\n\u001b[0;32m--> 277\u001b[0;31m         \u001b[0mresult\u001b[0m \u001b[0;34m=\u001b[0m \u001b[0mrunning_passmanager\u001b[0m\u001b[0;34m.\u001b[0m\u001b[0mrun\u001b[0m\u001b[0;34m(\u001b[0m\u001b[0mcircuit\u001b[0m\u001b[0;34m,\u001b[0m \u001b[0moutput_name\u001b[0m\u001b[0;34m=\u001b[0m\u001b[0moutput_name\u001b[0m\u001b[0;34m,\u001b[0m \u001b[0mcallback\u001b[0m\u001b[0;34m=\u001b[0m\u001b[0mcallback\u001b[0m\u001b[0;34m)\u001b[0m\u001b[0;34m\u001b[0m\u001b[0;34m\u001b[0m\u001b[0m\n\u001b[0m\u001b[1;32m    278\u001b[0m         \u001b[0mself\u001b[0m\u001b[0;34m.\u001b[0m\u001b[0mproperty_set\u001b[0m \u001b[0;34m=\u001b[0m \u001b[0mrunning_passmanager\u001b[0m\u001b[0;34m.\u001b[0m\u001b[0mproperty_set\u001b[0m\u001b[0;34m\u001b[0m\u001b[0;34m\u001b[0m\u001b[0m\n\u001b[1;32m    279\u001b[0m         \u001b[0;32mreturn\u001b[0m \u001b[0mresult\u001b[0m\u001b[0;34m\u001b[0m\u001b[0;34m\u001b[0m\u001b[0m\n",
      "\u001b[0;32m~/Anaconda3-Linux/lib/python3.8/site-packages/qiskit/transpiler/runningpassmanager.py\u001b[0m in \u001b[0;36mrun\u001b[0;34m(self, circuit, output_name, callback)\u001b[0m\n\u001b[1;32m    112\u001b[0m         \"\"\"\n\u001b[1;32m    113\u001b[0m         \u001b[0mname\u001b[0m \u001b[0;34m=\u001b[0m \u001b[0mcircuit\u001b[0m\u001b[0;34m.\u001b[0m\u001b[0mname\u001b[0m\u001b[0;34m\u001b[0m\u001b[0;34m\u001b[0m\u001b[0m\n\u001b[0;32m--> 114\u001b[0;31m         \u001b[0mdag\u001b[0m \u001b[0;34m=\u001b[0m \u001b[0mcircuit_to_dag\u001b[0m\u001b[0;34m(\u001b[0m\u001b[0mcircuit\u001b[0m\u001b[0;34m)\u001b[0m\u001b[0;34m\u001b[0m\u001b[0;34m\u001b[0m\u001b[0m\n\u001b[0m\u001b[1;32m    115\u001b[0m         \u001b[0;32mdel\u001b[0m \u001b[0mcircuit\u001b[0m\u001b[0;34m\u001b[0m\u001b[0;34m\u001b[0m\u001b[0m\n\u001b[1;32m    116\u001b[0m \u001b[0;34m\u001b[0m\u001b[0m\n",
      "\u001b[0;32m~/Anaconda3-Linux/lib/python3.8/site-packages/qiskit/converters/circuit_to_dag.py\u001b[0m in \u001b[0;36mcircuit_to_dag\u001b[0;34m(circuit)\u001b[0m\n\u001b[1;32m     60\u001b[0m \u001b[0;34m\u001b[0m\u001b[0m\n\u001b[1;32m     61\u001b[0m     \u001b[0;32mfor\u001b[0m \u001b[0minstruction\u001b[0m\u001b[0;34m,\u001b[0m \u001b[0mqargs\u001b[0m\u001b[0;34m,\u001b[0m \u001b[0mcargs\u001b[0m \u001b[0;32min\u001b[0m \u001b[0mcircuit\u001b[0m\u001b[0;34m.\u001b[0m\u001b[0mdata\u001b[0m\u001b[0;34m:\u001b[0m\u001b[0;34m\u001b[0m\u001b[0;34m\u001b[0m\u001b[0m\n\u001b[0;32m---> 62\u001b[0;31m         \u001b[0mdagcircuit\u001b[0m\u001b[0;34m.\u001b[0m\u001b[0mapply_operation_back\u001b[0m\u001b[0;34m(\u001b[0m\u001b[0minstruction\u001b[0m\u001b[0;34m.\u001b[0m\u001b[0mcopy\u001b[0m\u001b[0;34m(\u001b[0m\u001b[0;34m)\u001b[0m\u001b[0;34m,\u001b[0m \u001b[0mqargs\u001b[0m\u001b[0;34m,\u001b[0m \u001b[0mcargs\u001b[0m\u001b[0;34m)\u001b[0m\u001b[0;34m\u001b[0m\u001b[0;34m\u001b[0m\u001b[0m\n\u001b[0m\u001b[1;32m     63\u001b[0m \u001b[0;34m\u001b[0m\u001b[0m\n\u001b[1;32m     64\u001b[0m     \u001b[0mdagcircuit\u001b[0m\u001b[0;34m.\u001b[0m\u001b[0mduration\u001b[0m \u001b[0;34m=\u001b[0m \u001b[0mcircuit\u001b[0m\u001b[0;34m.\u001b[0m\u001b[0mduration\u001b[0m\u001b[0;34m\u001b[0m\u001b[0;34m\u001b[0m\u001b[0m\n",
      "\u001b[0;32m~/Anaconda3-Linux/lib/python3.8/site-packages/qiskit/dagcircuit/dagcircuit.py\u001b[0m in \u001b[0;36mapply_operation_back\u001b[0;34m(self, op, qargs, cargs, condition)\u001b[0m\n\u001b[1;32m    420\u001b[0m \u001b[0;34m\u001b[0m\u001b[0m\n\u001b[1;32m    421\u001b[0m         \u001b[0mall_cbits\u001b[0m \u001b[0;34m=\u001b[0m \u001b[0mself\u001b[0m\u001b[0;34m.\u001b[0m\u001b[0m_bits_in_condition\u001b[0m\u001b[0;34m(\u001b[0m\u001b[0mop\u001b[0m\u001b[0;34m.\u001b[0m\u001b[0mcondition\u001b[0m\u001b[0;34m)\u001b[0m\u001b[0;34m\u001b[0m\u001b[0;34m\u001b[0m\u001b[0m\n\u001b[0;32m--> 422\u001b[0;31m         \u001b[0mall_cbits\u001b[0m \u001b[0;34m=\u001b[0m \u001b[0mset\u001b[0m\u001b[0;34m(\u001b[0m\u001b[0mall_cbits\u001b[0m\u001b[0;34m)\u001b[0m\u001b[0;34m.\u001b[0m\u001b[0munion\u001b[0m\u001b[0;34m(\u001b[0m\u001b[0mcargs\u001b[0m\u001b[0;34m)\u001b[0m\u001b[0;34m\u001b[0m\u001b[0;34m\u001b[0m\u001b[0m\n\u001b[0m\u001b[1;32m    423\u001b[0m \u001b[0;34m\u001b[0m\u001b[0m\n\u001b[1;32m    424\u001b[0m         \u001b[0mself\u001b[0m\u001b[0;34m.\u001b[0m\u001b[0m_check_condition\u001b[0m\u001b[0;34m(\u001b[0m\u001b[0mop\u001b[0m\u001b[0;34m.\u001b[0m\u001b[0mname\u001b[0m\u001b[0;34m,\u001b[0m \u001b[0mop\u001b[0m\u001b[0;34m.\u001b[0m\u001b[0mcondition\u001b[0m\u001b[0;34m)\u001b[0m\u001b[0;34m\u001b[0m\u001b[0;34m\u001b[0m\u001b[0m\n",
      "\u001b[0;31mKeyboardInterrupt\u001b[0m: "
     ]
    }
   ],
   "source": [
    "params=[]\n",
    "EnergyArr=[]\n",
    "Energy2Arr=[]\n",
    "numCX=0\n",
    "CXarr=[]\n",
    "ExcOps=[]\n",
    "error=1000\n",
    "steps=36\n",
    "stepNo=1\n",
    "timeArr=[]\n",
    "t1=time.time()\n",
    "\n",
    "while error>1e-5 and stepNo<steps:\n",
    "    #When expanding ansatz we need to provide poolChoice=='1' if qubit UCCSD pool and the default is commutator_pool\n",
    "    #ordChoice=='1' chooses the next generator that acts on different qubits than the last entry in the sequence,\n",
    "    #by default the ordering does not matter\n",
    "    PauliOp=ansatzExpander(ordChoice='1')\n",
    "    print(PauliOp.paulis[0][1].to_label())\n",
    "    ExcOps.append(PauliOp.paulis[0][1].to_label())\n",
    "    with open('../'+str(U)+'/labelsQasm_HF_commutator_poolNew.txt','a') as f:\n",
    "        print(ExcOps[-1],file=f) \n",
    "    params.append(0.0)\n",
    "    var_form_base.push_hopping_operator(PauliOp)\n",
    "    #optimize with qasm\n",
    "    circ=var_form_base.construct_circuit(parameters=params)\n",
    "    qc=QuantumCircuit(qr,name='ansatz_circuit')\n",
    "    qc.append(circ.to_instruction(),qr)\n",
    "    runs=25\n",
    "    Eestm,MSE,params,Eexact=SMO_optimize_qasm(Hestimate,params,max_runs,tol)\n",
    "    #optimize with statevector\n",
    "    #E,params=SMO_optimize(Energy,params,runs,tol)\n",
    "    numCX=numCX+countCXs(ExcOps[-1])\n",
    "    CXarr.append(numCX)\n",
    "    EnergyArr.append(Eestm)\n",
    "    Energy2Arr.append(Eexact)\n",
    "    timeArr.append(time.time()-t1)\n",
    "    error=Energy2Arr[-1]-Eg\n",
    "    print(\"convergence energy\",EnergyArr[-1],Energy2Arr[-1])\n",
    "    print(\"excitationOp\",ExcOps[-1])\n",
    "    print(\"time elapsed\",timeArr[-1])\n",
    "    stepNo=stepNo+1\n",
    "    "
   ]
  },
  {
   "cell_type": "code",
   "execution_count": 55,
   "metadata": {
    "scrolled": true
   },
   "outputs": [
    {
     "name": "stderr",
     "output_type": "stream",
     "text": [
      "[Parallel(n_jobs=6)]: Using backend LokyBackend with 6 concurrent workers.\n",
      "[Parallel(n_jobs=6)]: Done   3 out of   3 | elapsed:    3.0s finished\n",
      "[Parallel(n_jobs=7)]: Using backend LokyBackend with 7 concurrent workers.\n",
      "[Parallel(n_jobs=7)]: Done  30 out of  30 | elapsed:    4.0s finished\n"
     ]
    },
    {
     "name": "stdout",
     "output_type": "stream",
     "text": [
      "(0.0015725109431992124+0j)\n"
     ]
    },
    {
     "name": "stderr",
     "output_type": "stream",
     "text": [
      "[Parallel(n_jobs=7)]: Using backend LokyBackend with 7 concurrent workers.\n",
      "[Parallel(n_jobs=7)]: Done  30 out of  30 | elapsed:    1.7s finished\n"
     ]
    },
    {
     "name": "stdout",
     "output_type": "stream",
     "text": [
      "(0.0034874492080341213+0j)\n"
     ]
    },
    {
     "name": "stderr",
     "output_type": "stream",
     "text": [
      "[Parallel(n_jobs=7)]: Using backend LokyBackend with 7 concurrent workers.\n",
      "[Parallel(n_jobs=7)]: Done  30 out of  30 | elapsed:    1.8s finished\n"
     ]
    },
    {
     "name": "stdout",
     "output_type": "stream",
     "text": [
      "(-0.0018116297738690543+0j)\n",
      "**********\n",
      "\n"
     ]
    },
    {
     "data": {
      "text/plain": [
       "(-19.16824504372954,\n",
       " 7.565954988631393e-05,\n",
       " (-0.8283264008579091, -18.258203368892364, -0.08171527397927089),\n",
       " (7.348356985575867e-11, 7.565936010116465e-05, 1.163015794237856e-10),\n",
       " (-19.16818162915017+1.7763568394002505e-15j))"
      ]
     },
     "execution_count": 55,
     "metadata": {},
     "output_type": "execute_result"
    }
   ],
   "source": [
    "Hestimate(params)"
   ]
  },
  {
   "cell_type": "code",
   "execution_count": 31,
   "metadata": {},
   "outputs": [
    {
     "data": {
      "text/plain": [
       "0.004608936015856102"
      ]
     },
     "execution_count": 31,
     "metadata": {},
     "output_type": "execute_result"
    }
   ],
   "source": [
    "-19.070207449568265+19.07481638558412"
   ]
  },
  {
   "cell_type": "code",
   "execution_count": 36,
   "metadata": {},
   "outputs": [
    {
     "ename": "KeyboardInterrupt",
     "evalue": "",
     "output_type": "error",
     "traceback": [
      "\u001b[0;31m---------------------------------------------------------------------------\u001b[0m",
      "\u001b[0;31mKeyboardInterrupt\u001b[0m                         Traceback (most recent call last)",
      "\u001b[0;32m<ipython-input-36-ca7f3701dfda>\u001b[0m in \u001b[0;36m<module>\u001b[0;34m\u001b[0m\n\u001b[0;32m----> 1\u001b[0;31m \u001b[0mEestm\u001b[0m\u001b[0;34m,\u001b[0m\u001b[0mMSE\u001b[0m\u001b[0;34m,\u001b[0m\u001b[0mparams\u001b[0m\u001b[0;34m,\u001b[0m\u001b[0mEexact\u001b[0m\u001b[0;34m=\u001b[0m\u001b[0mSMO_optimize_qasm\u001b[0m\u001b[0;34m(\u001b[0m\u001b[0mHamiltonianEstm\u001b[0m\u001b[0;34m,\u001b[0m\u001b[0mparams\u001b[0m\u001b[0;34m,\u001b[0m\u001b[0mmax_runs\u001b[0m\u001b[0;34m,\u001b[0m\u001b[0mtol\u001b[0m\u001b[0;34m)\u001b[0m\u001b[0;34m\u001b[0m\u001b[0;34m\u001b[0m\u001b[0m\n\u001b[0m",
      "\u001b[0;32m<ipython-input-25-95aa079b6e82>\u001b[0m in \u001b[0;36mSMO_optimize_qasm\u001b[0;34m(cost, params, runs, tol)\u001b[0m\n\u001b[1;32m      2\u001b[0m     \u001b[0mindex\u001b[0m\u001b[0;34m=\u001b[0m\u001b[0;36m1\u001b[0m\u001b[0;34m\u001b[0m\u001b[0;34m\u001b[0m\u001b[0m\n\u001b[1;32m      3\u001b[0m     \u001b[0mconv_err\u001b[0m\u001b[0;34m=\u001b[0m\u001b[0;36m1000\u001b[0m\u001b[0;34m\u001b[0m\u001b[0;34m\u001b[0m\u001b[0m\n\u001b[0;32m----> 4\u001b[0;31m     \u001b[0mdata\u001b[0m\u001b[0;34m=\u001b[0m\u001b[0mcost\u001b[0m\u001b[0;34m(\u001b[0m\u001b[0mparams\u001b[0m\u001b[0;34m)\u001b[0m\u001b[0;34m\u001b[0m\u001b[0;34m\u001b[0m\u001b[0m\n\u001b[0m\u001b[1;32m      5\u001b[0m     \u001b[0mt1\u001b[0m\u001b[0;34m=\u001b[0m\u001b[0mtime\u001b[0m\u001b[0;34m.\u001b[0m\u001b[0mtime\u001b[0m\u001b[0;34m(\u001b[0m\u001b[0;34m)\u001b[0m\u001b[0;34m\u001b[0m\u001b[0;34m\u001b[0m\u001b[0m\n\u001b[1;32m      6\u001b[0m     \u001b[0;32mdef\u001b[0m \u001b[0mEnergy\u001b[0m\u001b[0;34m(\u001b[0m\u001b[0mparams\u001b[0m\u001b[0;34m)\u001b[0m\u001b[0;34m:\u001b[0m\u001b[0;34m\u001b[0m\u001b[0;34m\u001b[0m\u001b[0m\n",
      "\u001b[0;32m<ipython-input-25-5611cda9311c>\u001b[0m in \u001b[0;36mHamiltonianEstm\u001b[0;34m(params)\u001b[0m\n\u001b[1;32m      7\u001b[0m     \u001b[0minp_data\u001b[0m\u001b[0;34m=\u001b[0m\u001b[0;34m[\u001b[0m\u001b[0;34m(\u001b[0m\u001b[0mQuantumInstance\u001b[0m\u001b[0;34m(\u001b[0m\u001b[0mbackend\u001b[0m\u001b[0;34m,\u001b[0m\u001b[0mshots\u001b[0m\u001b[0;34m=\u001b[0m\u001b[0mnum_shots_arr\u001b[0m\u001b[0;34m[\u001b[0m\u001b[0mi\u001b[0m\u001b[0;34m]\u001b[0m\u001b[0;34m)\u001b[0m\u001b[0;34m,\u001b[0m\u001b[0mconstruct_dataForm\u001b[0m\u001b[0;34m(\u001b[0m\u001b[0mdata_arr\u001b[0m\u001b[0;34m[\u001b[0m\u001b[0mi\u001b[0m\u001b[0;34m]\u001b[0m\u001b[0;34m)\u001b[0m\u001b[0;34m)\u001b[0m \u001b[0;32mfor\u001b[0m \u001b[0mi\u001b[0m \u001b[0;32min\u001b[0m \u001b[0mrange\u001b[0m\u001b[0;34m(\u001b[0m\u001b[0mlen\u001b[0m\u001b[0;34m(\u001b[0m\u001b[0mdata_arr\u001b[0m\u001b[0;34m)\u001b[0m\u001b[0;34m)\u001b[0m\u001b[0;34m]\u001b[0m\u001b[0;34m\u001b[0m\u001b[0;34m\u001b[0m\u001b[0m\n\u001b[1;32m      8\u001b[0m     \u001b[0mresult\u001b[0m \u001b[0;34m=\u001b[0m \u001b[0mv\u001b[0m\u001b[0;34m.\u001b[0m\u001b[0mmap_async\u001b[0m\u001b[0;34m(\u001b[0m\u001b[0mEstmTerms\u001b[0m\u001b[0;34m,\u001b[0m \u001b[0minp_data\u001b[0m\u001b[0;34m)\u001b[0m\u001b[0;34m\u001b[0m\u001b[0;34m\u001b[0m\u001b[0m\n\u001b[0;32m----> 9\u001b[0;31m     \u001b[0moutput\u001b[0m\u001b[0;34m=\u001b[0m\u001b[0mresult\u001b[0m\u001b[0;34m.\u001b[0m\u001b[0mget\u001b[0m\u001b[0;34m(\u001b[0m\u001b[0;34m)\u001b[0m\u001b[0;34m\u001b[0m\u001b[0;34m\u001b[0m\u001b[0m\n\u001b[0m\u001b[1;32m     10\u001b[0m     \u001b[0mMean\u001b[0m\u001b[0;34m=\u001b[0m\u001b[0mnumpy\u001b[0m\u001b[0;34m.\u001b[0m\u001b[0mreal\u001b[0m\u001b[0;34m(\u001b[0m\u001b[0moutput\u001b[0m\u001b[0;34m[\u001b[0m\u001b[0;36m0\u001b[0m\u001b[0;34m]\u001b[0m\u001b[0;34m[\u001b[0m\u001b[0;36m0\u001b[0m\u001b[0;34m]\u001b[0m\u001b[0;34m+\u001b[0m\u001b[0moutput\u001b[0m\u001b[0;34m[\u001b[0m\u001b[0;36m1\u001b[0m\u001b[0;34m]\u001b[0m\u001b[0;34m[\u001b[0m\u001b[0;36m0\u001b[0m\u001b[0;34m]\u001b[0m\u001b[0;34m+\u001b[0m\u001b[0moutput\u001b[0m\u001b[0;34m[\u001b[0m\u001b[0;36m2\u001b[0m\u001b[0;34m]\u001b[0m\u001b[0;34m[\u001b[0m\u001b[0;36m0\u001b[0m\u001b[0;34m]\u001b[0m\u001b[0;34m)\u001b[0m\u001b[0;34m\u001b[0m\u001b[0;34m\u001b[0m\u001b[0m\n\u001b[1;32m     11\u001b[0m     \u001b[0mindMean\u001b[0m\u001b[0;34m=\u001b[0m\u001b[0mnumpy\u001b[0m\u001b[0;34m.\u001b[0m\u001b[0marray\u001b[0m\u001b[0;34m(\u001b[0m\u001b[0;34m[\u001b[0m\u001b[0mnumpy\u001b[0m\u001b[0;34m.\u001b[0m\u001b[0mreal\u001b[0m\u001b[0;34m(\u001b[0m\u001b[0moutput\u001b[0m\u001b[0;34m[\u001b[0m\u001b[0;36m0\u001b[0m\u001b[0;34m]\u001b[0m\u001b[0;34m[\u001b[0m\u001b[0;36m0\u001b[0m\u001b[0;34m]\u001b[0m\u001b[0;34m)\u001b[0m\u001b[0;34m,\u001b[0m\u001b[0mnumpy\u001b[0m\u001b[0;34m.\u001b[0m\u001b[0mreal\u001b[0m\u001b[0;34m(\u001b[0m\u001b[0moutput\u001b[0m\u001b[0;34m[\u001b[0m\u001b[0;36m1\u001b[0m\u001b[0;34m]\u001b[0m\u001b[0;34m[\u001b[0m\u001b[0;36m0\u001b[0m\u001b[0;34m]\u001b[0m\u001b[0;34m)\u001b[0m\u001b[0;34m,\u001b[0m\u001b[0mnumpy\u001b[0m\u001b[0;34m.\u001b[0m\u001b[0mreal\u001b[0m\u001b[0;34m(\u001b[0m\u001b[0moutput\u001b[0m\u001b[0;34m[\u001b[0m\u001b[0;36m2\u001b[0m\u001b[0;34m]\u001b[0m\u001b[0;34m[\u001b[0m\u001b[0;36m0\u001b[0m\u001b[0;34m]\u001b[0m\u001b[0;34m)\u001b[0m\u001b[0;34m]\u001b[0m\u001b[0;34m)\u001b[0m\u001b[0;34m\u001b[0m\u001b[0;34m\u001b[0m\u001b[0m\n",
      "\u001b[0;32m~/Anaconda3-Linux/lib/python3.8/site-packages/ipyparallel/client/asyncresult.py\u001b[0m in \u001b[0;36mget\u001b[0;34m(self, timeout)\u001b[0m\n\u001b[1;32m    161\u001b[0m         \"\"\"\n\u001b[1;32m    162\u001b[0m         \u001b[0;32mif\u001b[0m \u001b[0;32mnot\u001b[0m \u001b[0mself\u001b[0m\u001b[0;34m.\u001b[0m\u001b[0mready\u001b[0m\u001b[0;34m(\u001b[0m\u001b[0;34m)\u001b[0m\u001b[0;34m:\u001b[0m\u001b[0;34m\u001b[0m\u001b[0;34m\u001b[0m\u001b[0m\n\u001b[0;32m--> 163\u001b[0;31m             \u001b[0mself\u001b[0m\u001b[0;34m.\u001b[0m\u001b[0mwait\u001b[0m\u001b[0;34m(\u001b[0m\u001b[0mtimeout\u001b[0m\u001b[0;34m)\u001b[0m\u001b[0;34m\u001b[0m\u001b[0;34m\u001b[0m\u001b[0m\n\u001b[0m\u001b[1;32m    164\u001b[0m \u001b[0;34m\u001b[0m\u001b[0m\n\u001b[1;32m    165\u001b[0m         \u001b[0;32mif\u001b[0m \u001b[0mself\u001b[0m\u001b[0;34m.\u001b[0m\u001b[0m_ready\u001b[0m\u001b[0;34m:\u001b[0m\u001b[0;34m\u001b[0m\u001b[0;34m\u001b[0m\u001b[0m\n",
      "\u001b[0;32m~/Anaconda3-Linux/lib/python3.8/site-packages/ipyparallel/client/asyncresult.py\u001b[0m in \u001b[0;36mwait\u001b[0;34m(self, timeout)\u001b[0m\n\u001b[1;32m    211\u001b[0m             \u001b[0mtimeout\u001b[0m \u001b[0;34m=\u001b[0m \u001b[0;32mNone\u001b[0m\u001b[0;34m\u001b[0m\u001b[0;34m\u001b[0m\u001b[0m\n\u001b[1;32m    212\u001b[0m \u001b[0;34m\u001b[0m\u001b[0m\n\u001b[0;32m--> 213\u001b[0;31m         \u001b[0mself\u001b[0m\u001b[0;34m.\u001b[0m\u001b[0m_ready_event\u001b[0m\u001b[0;34m.\u001b[0m\u001b[0mwait\u001b[0m\u001b[0;34m(\u001b[0m\u001b[0mtimeout\u001b[0m\u001b[0;34m)\u001b[0m\u001b[0;34m\u001b[0m\u001b[0;34m\u001b[0m\u001b[0m\n\u001b[0m\u001b[1;32m    214\u001b[0m         \u001b[0mself\u001b[0m\u001b[0;34m.\u001b[0m\u001b[0mwait_for_output\u001b[0m\u001b[0;34m(\u001b[0m\u001b[0;36m0\u001b[0m\u001b[0;34m)\u001b[0m\u001b[0;34m\u001b[0m\u001b[0;34m\u001b[0m\u001b[0m\n\u001b[1;32m    215\u001b[0m         \u001b[0;32mreturn\u001b[0m \u001b[0mself\u001b[0m\u001b[0;34m.\u001b[0m\u001b[0m_ready\u001b[0m\u001b[0;34m\u001b[0m\u001b[0;34m\u001b[0m\u001b[0m\n",
      "\u001b[0;32m~/Anaconda3-Linux/lib/python3.8/threading.py\u001b[0m in \u001b[0;36mwait\u001b[0;34m(self, timeout)\u001b[0m\n\u001b[1;32m    556\u001b[0m             \u001b[0msignaled\u001b[0m \u001b[0;34m=\u001b[0m \u001b[0mself\u001b[0m\u001b[0;34m.\u001b[0m\u001b[0m_flag\u001b[0m\u001b[0;34m\u001b[0m\u001b[0;34m\u001b[0m\u001b[0m\n\u001b[1;32m    557\u001b[0m             \u001b[0;32mif\u001b[0m \u001b[0;32mnot\u001b[0m \u001b[0msignaled\u001b[0m\u001b[0;34m:\u001b[0m\u001b[0;34m\u001b[0m\u001b[0;34m\u001b[0m\u001b[0m\n\u001b[0;32m--> 558\u001b[0;31m                 \u001b[0msignaled\u001b[0m \u001b[0;34m=\u001b[0m \u001b[0mself\u001b[0m\u001b[0;34m.\u001b[0m\u001b[0m_cond\u001b[0m\u001b[0;34m.\u001b[0m\u001b[0mwait\u001b[0m\u001b[0;34m(\u001b[0m\u001b[0mtimeout\u001b[0m\u001b[0;34m)\u001b[0m\u001b[0;34m\u001b[0m\u001b[0;34m\u001b[0m\u001b[0m\n\u001b[0m\u001b[1;32m    559\u001b[0m             \u001b[0;32mreturn\u001b[0m \u001b[0msignaled\u001b[0m\u001b[0;34m\u001b[0m\u001b[0;34m\u001b[0m\u001b[0m\n\u001b[1;32m    560\u001b[0m \u001b[0;34m\u001b[0m\u001b[0m\n",
      "\u001b[0;32m~/Anaconda3-Linux/lib/python3.8/threading.py\u001b[0m in \u001b[0;36mwait\u001b[0;34m(self, timeout)\u001b[0m\n\u001b[1;32m    300\u001b[0m         \u001b[0;32mtry\u001b[0m\u001b[0;34m:\u001b[0m    \u001b[0;31m# restore state no matter what (e.g., KeyboardInterrupt)\u001b[0m\u001b[0;34m\u001b[0m\u001b[0;34m\u001b[0m\u001b[0m\n\u001b[1;32m    301\u001b[0m             \u001b[0;32mif\u001b[0m \u001b[0mtimeout\u001b[0m \u001b[0;32mis\u001b[0m \u001b[0;32mNone\u001b[0m\u001b[0;34m:\u001b[0m\u001b[0;34m\u001b[0m\u001b[0;34m\u001b[0m\u001b[0m\n\u001b[0;32m--> 302\u001b[0;31m                 \u001b[0mwaiter\u001b[0m\u001b[0;34m.\u001b[0m\u001b[0macquire\u001b[0m\u001b[0;34m(\u001b[0m\u001b[0;34m)\u001b[0m\u001b[0;34m\u001b[0m\u001b[0;34m\u001b[0m\u001b[0m\n\u001b[0m\u001b[1;32m    303\u001b[0m                 \u001b[0mgotit\u001b[0m \u001b[0;34m=\u001b[0m \u001b[0;32mTrue\u001b[0m\u001b[0;34m\u001b[0m\u001b[0;34m\u001b[0m\u001b[0m\n\u001b[1;32m    304\u001b[0m             \u001b[0;32melse\u001b[0m\u001b[0;34m:\u001b[0m\u001b[0;34m\u001b[0m\u001b[0;34m\u001b[0m\u001b[0m\n",
      "\u001b[0;31mKeyboardInterrupt\u001b[0m: "
     ]
    }
   ],
   "source": [
    "Eestm,MSE,params,Eexact=SMO_optimize_qasm(HamiltonianEstm,params,max_runs,tol)"
   ]
  },
  {
   "cell_type": "code",
   "execution_count": null,
   "metadata": {},
   "outputs": [],
   "source": [
    "\n",
    "t55r "
   ]
  },
  {
   "cell_type": "code",
   "execution_count": null,
   "metadata": {},
   "outputs": [],
   "source": []
  }
 ],
 "metadata": {
  "kernelspec": {
   "display_name": "Python 3",
   "language": "python",
   "name": "python3"
  },
  "language_info": {
   "codemirror_mode": {
    "name": "ipython",
    "version": 3
   },
   "file_extension": ".py",
   "mimetype": "text/x-python",
   "name": "python",
   "nbconvert_exporter": "python",
   "pygments_lexer": "ipython3",
   "version": "3.8.3"
  }
 },
 "nbformat": 4,
 "nbformat_minor": 4
}
